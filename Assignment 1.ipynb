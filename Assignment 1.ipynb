{
 "cells": [
  {
   "cell_type": "markdown",
   "id": "7b702571",
   "metadata": {},
   "source": [
    "# Assignment 1"
   ]
  },
  {
   "cell_type": "markdown",
   "id": "292dab7b",
   "metadata": {},
   "source": [
    "Due Friday 5th August 23:59"
   ]
  },
  {
   "cell_type": "markdown",
   "id": "f6c0caee",
   "metadata": {},
   "source": [
    "## Assignment Outline"
   ]
  },
  {
   "cell_type": "markdown",
   "id": "e3c0fa1d",
   "metadata": {},
   "source": [
    "### Explore data\n",
    "* Inspect the shape and types of data\n",
    "* Visualization\n",
    "* Value counts\n",
    "### Clean data\n",
    "* null\n",
    "* nonsensical \n",
    "### Understand data\n",
    "* Find relationships\n",
    "    * Correlation\n",
    "    * Mean house price against categorical levels\n",
    "* Feature engineering\n",
    "    * livingArea and bedrooms variable?\n",
    "    * lotSize and landValue variable?\n"
   ]
  },
  {
   "cell_type": "code",
   "execution_count": 2,
   "id": "06b028d2",
   "metadata": {},
   "outputs": [],
   "source": [
    "import csv\n",
    "import numpy as np\n",
    "import pandas as pd\n",
    "\n",
    "%matplotlib inline\n",
    "import matplotlib as mpl\n",
    "import matplotlib.pyplot as plt\n",
    "import seaborn as sns\n",
    "from sklearn.model_selection import GridSearchCV\n",
    "from sklearn.model_selection import train_test_split\n",
    "from sklearn.impute import SimpleImputer\n",
    "from sklearn.preprocessing import OneHotEncoder, MinMaxScaler, StandardScaler\n",
    "from sklearn.pipeline import Pipeline\n",
    "from sklearn.compose import ColumnTransformer\n",
    "from sklearn.compose import make_column_selector as selector\n",
    "from sklearn.linear_model import LinearRegression\n",
    "from sklearn.metrics import mean_squared_error\n",
    "from sklearn.svm import SVR\n",
    "from sklearn.model_selection import cross_validate\n",
    "from sklearn.preprocessing import QuantileTransformer\n",
    "from sklearn.compose import TransformedTargetRegressor"
   ]
  },
  {
   "cell_type": "markdown",
   "id": "a14a368f",
   "metadata": {},
   "source": [
    "## Import CSV"
   ]
  },
  {
   "cell_type": "code",
   "execution_count": 3,
   "id": "c0809f5f",
   "metadata": {},
   "outputs": [],
   "source": [
    "\n",
    "\n",
    "with open(\"data.csv\", 'r') as data:\n",
    "    header = csv.reader(data).__next__()\n",
    "\n",
    "# remove unnamed row.\n",
    "houses = pd.read_csv('data.csv', usecols=header[1:])"
   ]
  },
  {
   "cell_type": "markdown",
   "id": "0b2e49d3",
   "metadata": {},
   "source": [
    "## Splitting the data"
   ]
  },
  {
   "cell_type": "code",
   "execution_count": 4,
   "id": "4de161aa",
   "metadata": {},
   "outputs": [],
   "source": [
    "\n",
    "X = houses.drop([\"price\"], axis = 1) # indepedent features\n",
    "y = houses[\"price\"].copy          # dependent variable\n",
    "\n",
    "train_set, test_set = train_test_split(houses, test_size=0.2, random_state=0)\n"
   ]
  },
  {
   "cell_type": "code",
   "execution_count": 5,
   "id": "aba0e497",
   "metadata": {},
   "outputs": [
    {
     "data": {
      "text/html": [
       "<div>\n",
       "<style scoped>\n",
       "    .dataframe tbody tr th:only-of-type {\n",
       "        vertical-align: middle;\n",
       "    }\n",
       "\n",
       "    .dataframe tbody tr th {\n",
       "        vertical-align: top;\n",
       "    }\n",
       "\n",
       "    .dataframe thead th {\n",
       "        text-align: right;\n",
       "    }\n",
       "</style>\n",
       "<table border=\"1\" class=\"dataframe\">\n",
       "  <thead>\n",
       "    <tr style=\"text-align: right;\">\n",
       "      <th></th>\n",
       "      <th>price</th>\n",
       "      <th>lotSize</th>\n",
       "      <th>age</th>\n",
       "      <th>landValue</th>\n",
       "      <th>livingArea</th>\n",
       "      <th>pctCollege</th>\n",
       "      <th>bedrooms</th>\n",
       "      <th>fireplaces</th>\n",
       "      <th>bathrooms</th>\n",
       "      <th>rooms</th>\n",
       "      <th>heating</th>\n",
       "      <th>fuel</th>\n",
       "      <th>sewer</th>\n",
       "      <th>waterfront</th>\n",
       "      <th>newConstruction</th>\n",
       "      <th>centralAir</th>\n",
       "    </tr>\n",
       "  </thead>\n",
       "  <tbody>\n",
       "    <tr>\n",
       "      <th>1649</th>\n",
       "      <td>153000</td>\n",
       "      <td>0.11</td>\n",
       "      <td>16</td>\n",
       "      <td>2900</td>\n",
       "      <td>1480</td>\n",
       "      <td>40</td>\n",
       "      <td>2</td>\n",
       "      <td>0</td>\n",
       "      <td>2.5</td>\n",
       "      <td>4</td>\n",
       "      <td>hot air</td>\n",
       "      <td>gas</td>\n",
       "      <td>public/commercial</td>\n",
       "      <td>No</td>\n",
       "      <td>No</td>\n",
       "      <td>No</td>\n",
       "    </tr>\n",
       "    <tr>\n",
       "      <th>1465</th>\n",
       "      <td>223000</td>\n",
       "      <td>0.33</td>\n",
       "      <td>18</td>\n",
       "      <td>27000</td>\n",
       "      <td>1360</td>\n",
       "      <td>40</td>\n",
       "      <td>3</td>\n",
       "      <td>1</td>\n",
       "      <td>1.5</td>\n",
       "      <td>8</td>\n",
       "      <td>electric</td>\n",
       "      <td>electric</td>\n",
       "      <td>public/commercial</td>\n",
       "      <td>No</td>\n",
       "      <td>No</td>\n",
       "      <td>No</td>\n",
       "    </tr>\n",
       "    <tr>\n",
       "      <th>361</th>\n",
       "      <td>178500</td>\n",
       "      <td>1.00</td>\n",
       "      <td>12</td>\n",
       "      <td>32000</td>\n",
       "      <td>1952</td>\n",
       "      <td>71</td>\n",
       "      <td>3</td>\n",
       "      <td>2</td>\n",
       "      <td>2.0</td>\n",
       "      <td>9</td>\n",
       "      <td>hot air</td>\n",
       "      <td>oil</td>\n",
       "      <td>septic</td>\n",
       "      <td>No</td>\n",
       "      <td>No</td>\n",
       "      <td>No</td>\n",
       "    </tr>\n",
       "    <tr>\n",
       "      <th>315</th>\n",
       "      <td>168500</td>\n",
       "      <td>0.44</td>\n",
       "      <td>34</td>\n",
       "      <td>31800</td>\n",
       "      <td>1586</td>\n",
       "      <td>64</td>\n",
       "      <td>3</td>\n",
       "      <td>1</td>\n",
       "      <td>1.5</td>\n",
       "      <td>7</td>\n",
       "      <td>hot air</td>\n",
       "      <td>gas</td>\n",
       "      <td>public/commercial</td>\n",
       "      <td>No</td>\n",
       "      <td>No</td>\n",
       "      <td>No</td>\n",
       "    </tr>\n",
       "    <tr>\n",
       "      <th>1372</th>\n",
       "      <td>167500</td>\n",
       "      <td>0.16</td>\n",
       "      <td>18</td>\n",
       "      <td>15100</td>\n",
       "      <td>1492</td>\n",
       "      <td>40</td>\n",
       "      <td>3</td>\n",
       "      <td>0</td>\n",
       "      <td>2.5</td>\n",
       "      <td>6</td>\n",
       "      <td>electric</td>\n",
       "      <td>electric</td>\n",
       "      <td>public/commercial</td>\n",
       "      <td>No</td>\n",
       "      <td>No</td>\n",
       "      <td>No</td>\n",
       "    </tr>\n",
       "  </tbody>\n",
       "</table>\n",
       "</div>"
      ],
      "text/plain": [
       "       price  lotSize  age  landValue  livingArea  pctCollege  bedrooms  \\\n",
       "1649  153000     0.11   16       2900        1480          40         2   \n",
       "1465  223000     0.33   18      27000        1360          40         3   \n",
       "361   178500     1.00   12      32000        1952          71         3   \n",
       "315   168500     0.44   34      31800        1586          64         3   \n",
       "1372  167500     0.16   18      15100        1492          40         3   \n",
       "\n",
       "      fireplaces  bathrooms  rooms   heating      fuel              sewer  \\\n",
       "1649           0        2.5      4   hot air       gas  public/commercial   \n",
       "1465           1        1.5      8  electric  electric  public/commercial   \n",
       "361            2        2.0      9   hot air       oil             septic   \n",
       "315            1        1.5      7   hot air       gas  public/commercial   \n",
       "1372           0        2.5      6  electric  electric  public/commercial   \n",
       "\n",
       "     waterfront newConstruction centralAir  \n",
       "1649         No              No         No  \n",
       "1465         No              No         No  \n",
       "361          No              No         No  \n",
       "315          No              No         No  \n",
       "1372         No              No         No  "
      ]
     },
     "execution_count": 5,
     "metadata": {},
     "output_type": "execute_result"
    }
   ],
   "source": [
    "train_set.head()"
   ]
  },
  {
   "cell_type": "code",
   "execution_count": 6,
   "id": "31c97c53",
   "metadata": {},
   "outputs": [
    {
     "data": {
      "text/html": [
       "<div>\n",
       "<style scoped>\n",
       "    .dataframe tbody tr th:only-of-type {\n",
       "        vertical-align: middle;\n",
       "    }\n",
       "\n",
       "    .dataframe tbody tr th {\n",
       "        vertical-align: top;\n",
       "    }\n",
       "\n",
       "    .dataframe thead th {\n",
       "        text-align: right;\n",
       "    }\n",
       "</style>\n",
       "<table border=\"1\" class=\"dataframe\">\n",
       "  <thead>\n",
       "    <tr style=\"text-align: right;\">\n",
       "      <th></th>\n",
       "      <th>price</th>\n",
       "      <th>lotSize</th>\n",
       "      <th>age</th>\n",
       "      <th>landValue</th>\n",
       "      <th>livingArea</th>\n",
       "      <th>pctCollege</th>\n",
       "      <th>bedrooms</th>\n",
       "      <th>fireplaces</th>\n",
       "      <th>bathrooms</th>\n",
       "      <th>rooms</th>\n",
       "      <th>heating</th>\n",
       "      <th>fuel</th>\n",
       "      <th>sewer</th>\n",
       "      <th>waterfront</th>\n",
       "      <th>newConstruction</th>\n",
       "      <th>centralAir</th>\n",
       "    </tr>\n",
       "  </thead>\n",
       "  <tbody>\n",
       "    <tr>\n",
       "      <th>1318</th>\n",
       "      <td>229900</td>\n",
       "      <td>0.44</td>\n",
       "      <td>7</td>\n",
       "      <td>24200</td>\n",
       "      <td>1328</td>\n",
       "      <td>64</td>\n",
       "      <td>3</td>\n",
       "      <td>1</td>\n",
       "      <td>2.5</td>\n",
       "      <td>8</td>\n",
       "      <td>hot air</td>\n",
       "      <td>gas</td>\n",
       "      <td>public/commercial</td>\n",
       "      <td>No</td>\n",
       "      <td>No</td>\n",
       "      <td>No</td>\n",
       "    </tr>\n",
       "    <tr>\n",
       "      <th>124</th>\n",
       "      <td>158000</td>\n",
       "      <td>0.52</td>\n",
       "      <td>0</td>\n",
       "      <td>4400</td>\n",
       "      <td>2098</td>\n",
       "      <td>44</td>\n",
       "      <td>3</td>\n",
       "      <td>0</td>\n",
       "      <td>2.0</td>\n",
       "      <td>7</td>\n",
       "      <td>hot air</td>\n",
       "      <td>gas</td>\n",
       "      <td>septic</td>\n",
       "      <td>No</td>\n",
       "      <td>Yes</td>\n",
       "      <td>Yes</td>\n",
       "    </tr>\n",
       "    <tr>\n",
       "      <th>648</th>\n",
       "      <td>367500</td>\n",
       "      <td>0.27</td>\n",
       "      <td>2</td>\n",
       "      <td>78200</td>\n",
       "      <td>2205</td>\n",
       "      <td>57</td>\n",
       "      <td>3</td>\n",
       "      <td>1</td>\n",
       "      <td>2.5</td>\n",
       "      <td>10</td>\n",
       "      <td>hot air</td>\n",
       "      <td>gas</td>\n",
       "      <td>public/commercial</td>\n",
       "      <td>No</td>\n",
       "      <td>No</td>\n",
       "      <td>Yes</td>\n",
       "    </tr>\n",
       "    <tr>\n",
       "      <th>249</th>\n",
       "      <td>128850</td>\n",
       "      <td>0.92</td>\n",
       "      <td>16</td>\n",
       "      <td>5500</td>\n",
       "      <td>824</td>\n",
       "      <td>45</td>\n",
       "      <td>3</td>\n",
       "      <td>0</td>\n",
       "      <td>1.5</td>\n",
       "      <td>5</td>\n",
       "      <td>electric</td>\n",
       "      <td>electric</td>\n",
       "      <td>septic</td>\n",
       "      <td>No</td>\n",
       "      <td>No</td>\n",
       "      <td>No</td>\n",
       "    </tr>\n",
       "    <tr>\n",
       "      <th>1599</th>\n",
       "      <td>290000</td>\n",
       "      <td>0.61</td>\n",
       "      <td>34</td>\n",
       "      <td>32300</td>\n",
       "      <td>2728</td>\n",
       "      <td>64</td>\n",
       "      <td>4</td>\n",
       "      <td>1</td>\n",
       "      <td>2.5</td>\n",
       "      <td>10</td>\n",
       "      <td>hot water/steam</td>\n",
       "      <td>gas</td>\n",
       "      <td>public/commercial</td>\n",
       "      <td>No</td>\n",
       "      <td>No</td>\n",
       "      <td>No</td>\n",
       "    </tr>\n",
       "  </tbody>\n",
       "</table>\n",
       "</div>"
      ],
      "text/plain": [
       "       price  lotSize  age  landValue  livingArea  pctCollege  bedrooms  \\\n",
       "1318  229900     0.44    7      24200        1328          64         3   \n",
       "124   158000     0.52    0       4400        2098          44         3   \n",
       "648   367500     0.27    2      78200        2205          57         3   \n",
       "249   128850     0.92   16       5500         824          45         3   \n",
       "1599  290000     0.61   34      32300        2728          64         4   \n",
       "\n",
       "      fireplaces  bathrooms  rooms          heating      fuel  \\\n",
       "1318           1        2.5      8          hot air       gas   \n",
       "124            0        2.0      7          hot air       gas   \n",
       "648            1        2.5     10          hot air       gas   \n",
       "249            0        1.5      5         electric  electric   \n",
       "1599           1        2.5     10  hot water/steam       gas   \n",
       "\n",
       "                  sewer waterfront newConstruction centralAir  \n",
       "1318  public/commercial         No              No         No  \n",
       "124              septic         No             Yes        Yes  \n",
       "648   public/commercial         No              No        Yes  \n",
       "249              septic         No              No         No  \n",
       "1599  public/commercial         No              No         No  "
      ]
     },
     "execution_count": 6,
     "metadata": {},
     "output_type": "execute_result"
    }
   ],
   "source": [
    "test_set.head()"
   ]
  },
  {
   "cell_type": "markdown",
   "id": "c4abc069",
   "metadata": {},
   "source": [
    "## Explore the Training Set"
   ]
  },
  {
   "cell_type": "markdown",
   "id": "7ff74d2c",
   "metadata": {},
   "source": [
    "There are 1105 rows and 16 features of the training set. There are no missing values."
   ]
  },
  {
   "cell_type": "code",
   "execution_count": 7,
   "id": "c1e06a73",
   "metadata": {},
   "outputs": [
    {
     "name": "stdout",
     "output_type": "stream",
     "text": [
      "<class 'pandas.core.frame.DataFrame'>\n",
      "Int64Index: 1382 entries, 1649 to 684\n",
      "Data columns (total 16 columns):\n",
      " #   Column           Non-Null Count  Dtype  \n",
      "---  ------           --------------  -----  \n",
      " 0   price            1382 non-null   int64  \n",
      " 1   lotSize          1382 non-null   float64\n",
      " 2   age              1382 non-null   int64  \n",
      " 3   landValue        1382 non-null   int64  \n",
      " 4   livingArea       1382 non-null   int64  \n",
      " 5   pctCollege       1382 non-null   int64  \n",
      " 6   bedrooms         1382 non-null   int64  \n",
      " 7   fireplaces       1382 non-null   int64  \n",
      " 8   bathrooms        1382 non-null   float64\n",
      " 9   rooms            1382 non-null   int64  \n",
      " 10  heating          1382 non-null   object \n",
      " 11  fuel             1382 non-null   object \n",
      " 12  sewer            1382 non-null   object \n",
      " 13  waterfront       1382 non-null   object \n",
      " 14  newConstruction  1382 non-null   object \n",
      " 15  centralAir       1382 non-null   object \n",
      "dtypes: float64(2), int64(8), object(6)\n",
      "memory usage: 183.5+ KB\n"
     ]
    }
   ],
   "source": [
    "train_set.info()"
   ]
  },
  {
   "cell_type": "markdown",
   "id": "6329e91b",
   "metadata": {},
   "source": [
    "#### Analyze Distributions"
   ]
  },
  {
   "cell_type": "markdown",
   "id": "7f403a93",
   "metadata": {},
   "source": [
    "livingArea[5], pctCollege[6], bedrooms[7], fireplaces[8], bathrooms[9] and rooms[10] are approximately normally distributed.\n",
    "Price[1], lotSize[2], age[3], landValue[4] are right skewed and could use normalizing."
   ]
  },
  {
   "cell_type": "code",
   "execution_count": 8,
   "id": "73007658",
   "metadata": {},
   "outputs": [
    {
     "data": {
      "image/png": "[encoded data removed]",
      "text/plain": [
       "<Figure size 1440x1440 with 12 Axes>"
      ]
     },
     "metadata": {
      "needs_background": "light"
     },
     "output_type": "display_data"
    }
   ],
   "source": [
    "train_set.hist(bins = 50, figsize = (20,20))\n",
    "fig = plt.gcf() \n",
    "fig.savefig('hist.pdf', bbox_inches = 'tight')"
   ]
  },
  {
   "cell_type": "markdown",
   "id": "3068a312",
   "metadata": {},
   "source": [
    "Below emphasises the right tail skew in features 1, 2, 3 and 4. They all have a disproportionately large spread and very large values.\n"
   ]
  },
  {
   "cell_type": "code",
   "execution_count": 9,
   "id": "58f54824",
   "metadata": {},
   "outputs": [
    {
     "data": {
      "text/html": [
       "<div>\n",
       "<style scoped>\n",
       "    .dataframe tbody tr th:only-of-type {\n",
       "        vertical-align: middle;\n",
       "    }\n",
       "\n",
       "    .dataframe tbody tr th {\n",
       "        vertical-align: top;\n",
       "    }\n",
       "\n",
       "    .dataframe thead th {\n",
       "        text-align: right;\n",
       "    }\n",
       "</style>\n",
       "<table border=\"1\" class=\"dataframe\">\n",
       "  <thead>\n",
       "    <tr style=\"text-align: right;\">\n",
       "      <th></th>\n",
       "      <th>price</th>\n",
       "      <th>lotSize</th>\n",
       "      <th>age</th>\n",
       "      <th>landValue</th>\n",
       "      <th>livingArea</th>\n",
       "      <th>pctCollege</th>\n",
       "      <th>bedrooms</th>\n",
       "      <th>fireplaces</th>\n",
       "      <th>bathrooms</th>\n",
       "      <th>rooms</th>\n",
       "    </tr>\n",
       "  </thead>\n",
       "  <tbody>\n",
       "    <tr>\n",
       "      <th>count</th>\n",
       "      <td>1382.000000</td>\n",
       "      <td>1382.000000</td>\n",
       "      <td>1382.000000</td>\n",
       "      <td>1382.000000</td>\n",
       "      <td>1382.000000</td>\n",
       "      <td>1382.000000</td>\n",
       "      <td>1382.000000</td>\n",
       "      <td>1382.000000</td>\n",
       "      <td>1382.000000</td>\n",
       "      <td>1382.000000</td>\n",
       "    </tr>\n",
       "    <tr>\n",
       "      <th>mean</th>\n",
       "      <td>211977.407381</td>\n",
       "      <td>0.495904</td>\n",
       "      <td>27.996382</td>\n",
       "      <td>35266.005789</td>\n",
       "      <td>1758.619392</td>\n",
       "      <td>55.685962</td>\n",
       "      <td>3.164978</td>\n",
       "      <td>0.610709</td>\n",
       "      <td>1.904848</td>\n",
       "      <td>7.049204</td>\n",
       "    </tr>\n",
       "    <tr>\n",
       "      <th>std</th>\n",
       "      <td>99608.842830</td>\n",
       "      <td>0.661244</td>\n",
       "      <td>29.182973</td>\n",
       "      <td>36616.276086</td>\n",
       "      <td>625.841288</td>\n",
       "      <td>10.316558</td>\n",
       "      <td>0.834791</td>\n",
       "      <td>0.564815</td>\n",
       "      <td>0.661465</td>\n",
       "      <td>2.330519</td>\n",
       "    </tr>\n",
       "    <tr>\n",
       "      <th>min</th>\n",
       "      <td>10300.000000</td>\n",
       "      <td>0.000000</td>\n",
       "      <td>0.000000</td>\n",
       "      <td>300.000000</td>\n",
       "      <td>616.000000</td>\n",
       "      <td>20.000000</td>\n",
       "      <td>1.000000</td>\n",
       "      <td>0.000000</td>\n",
       "      <td>1.000000</td>\n",
       "      <td>2.000000</td>\n",
       "    </tr>\n",
       "    <tr>\n",
       "      <th>25%</th>\n",
       "      <td>145000.000000</td>\n",
       "      <td>0.170000</td>\n",
       "      <td>13.000000</td>\n",
       "      <td>15100.000000</td>\n",
       "      <td>1297.000000</td>\n",
       "      <td>52.000000</td>\n",
       "      <td>3.000000</td>\n",
       "      <td>0.000000</td>\n",
       "      <td>1.500000</td>\n",
       "      <td>5.000000</td>\n",
       "    </tr>\n",
       "    <tr>\n",
       "      <th>50%</th>\n",
       "      <td>188900.000000</td>\n",
       "      <td>0.370000</td>\n",
       "      <td>19.000000</td>\n",
       "      <td>25100.000000</td>\n",
       "      <td>1643.000000</td>\n",
       "      <td>57.000000</td>\n",
       "      <td>3.000000</td>\n",
       "      <td>1.000000</td>\n",
       "      <td>2.000000</td>\n",
       "      <td>7.000000</td>\n",
       "    </tr>\n",
       "    <tr>\n",
       "      <th>75%</th>\n",
       "      <td>259106.500000</td>\n",
       "      <td>0.540000</td>\n",
       "      <td>34.000000</td>\n",
       "      <td>40875.000000</td>\n",
       "      <td>2179.000000</td>\n",
       "      <td>64.000000</td>\n",
       "      <td>4.000000</td>\n",
       "      <td>1.000000</td>\n",
       "      <td>2.500000</td>\n",
       "      <td>9.000000</td>\n",
       "    </tr>\n",
       "    <tr>\n",
       "      <th>max</th>\n",
       "      <td>775000.000000</td>\n",
       "      <td>8.970000</td>\n",
       "      <td>225.000000</td>\n",
       "      <td>412600.000000</td>\n",
       "      <td>5228.000000</td>\n",
       "      <td>82.000000</td>\n",
       "      <td>7.000000</td>\n",
       "      <td>4.000000</td>\n",
       "      <td>4.500000</td>\n",
       "      <td>12.000000</td>\n",
       "    </tr>\n",
       "  </tbody>\n",
       "</table>\n",
       "</div>"
      ],
      "text/plain": [
       "               price      lotSize          age      landValue   livingArea  \\\n",
       "count    1382.000000  1382.000000  1382.000000    1382.000000  1382.000000   \n",
       "mean   211977.407381     0.495904    27.996382   35266.005789  1758.619392   \n",
       "std     99608.842830     0.661244    29.182973   36616.276086   625.841288   \n",
       "min     10300.000000     0.000000     0.000000     300.000000   616.000000   \n",
       "25%    145000.000000     0.170000    13.000000   15100.000000  1297.000000   \n",
       "50%    188900.000000     0.370000    19.000000   25100.000000  1643.000000   \n",
       "75%    259106.500000     0.540000    34.000000   40875.000000  2179.000000   \n",
       "max    775000.000000     8.970000   225.000000  412600.000000  5228.000000   \n",
       "\n",
       "        pctCollege     bedrooms   fireplaces    bathrooms        rooms  \n",
       "count  1382.000000  1382.000000  1382.000000  1382.000000  1382.000000  \n",
       "mean     55.685962     3.164978     0.610709     1.904848     7.049204  \n",
       "std      10.316558     0.834791     0.564815     0.661465     2.330519  \n",
       "min      20.000000     1.000000     0.000000     1.000000     2.000000  \n",
       "25%      52.000000     3.000000     0.000000     1.500000     5.000000  \n",
       "50%      57.000000     3.000000     1.000000     2.000000     7.000000  \n",
       "75%      64.000000     4.000000     1.000000     2.500000     9.000000  \n",
       "max      82.000000     7.000000     4.000000     4.500000    12.000000  "
      ]
     },
     "execution_count": 9,
     "metadata": {},
     "output_type": "execute_result"
    }
   ],
   "source": [
    "train_set.describe()"
   ]
  },
  {
   "cell_type": "markdown",
   "id": "584ece0d",
   "metadata": {},
   "source": [
    "#### Understand Correlation"
   ]
  },
  {
   "cell_type": "markdown",
   "id": "9e1df169",
   "metadata": {},
   "source": [
    "livingArea is correlated with multiple other features which may have a negative affect on our model. Bedrooms and rooms may also affect our model negatively. I would like to see how the model performs both with and without these features."
   ]
  },
  {
   "cell_type": "code",
   "execution_count": 10,
   "id": "f263c04b",
   "metadata": {},
   "outputs": [
    {
     "data": {
      "text/plain": [
       "<AxesSubplot:>"
      ]
     },
     "execution_count": 10,
     "metadata": {},
     "output_type": "execute_result"
    },
    {
     "data": {
      "image/png": "[encoded data removed]",
      "text/plain": [
       "<Figure size 432x288 with 2 Axes>"
      ]
     },
     "metadata": {
      "needs_background": "light"
     },
     "output_type": "display_data"
    }
   ],
   "source": [
    "sns.heatmap(train_set.corr(), annot=True)"
   ]
  },
  {
   "cell_type": "markdown",
   "id": "2b6e159c",
   "metadata": {},
   "source": [
    "#### Understand Categorical Data"
   ]
  },
  {
   "cell_type": "markdown",
   "id": "6498f605",
   "metadata": {},
   "source": [
    "It may be useful to see how the frequency of the categorical levels compare."
   ]
  },
  {
   "cell_type": "code",
   "execution_count": 11,
   "id": "8d68ce4f",
   "metadata": {},
   "outputs": [
    {
     "name": "stdout",
     "output_type": "stream",
     "text": [
      "heating ['hot air' 'electric' 'hot water/steam']\n",
      "fuel ['gas' 'electric' 'oil']\n",
      "sewer ['public/commercial' 'septic' 'none']\n",
      "waterfront ['No' 'Yes']\n",
      "newConstruction ['No' 'Yes']\n",
      "centralAir ['No' 'Yes']\n"
     ]
    }
   ],
   "source": [
    "\n",
    "\n",
    "my_selector = selector(dtype_include=object)\n",
    "categorical = my_selector(train_set)\n",
    "\n",
    "# print the levels of the categorical variables\n",
    "def levels(df, features):\n",
    "    [print(feature, df[feature].unique()) for feature in features]\n",
    "\n",
    "levels(train_set, categorical)\n"
   ]
  },
  {
   "cell_type": "markdown",
   "id": "d869b430",
   "metadata": {},
   "source": [
    "Barcharts are created to see how these levels balance."
   ]
  },
  {
   "cell_type": "code",
   "execution_count": 12,
   "id": "d8cff151",
   "metadata": {},
   "outputs": [
    {
     "data": {
      "image/png": "[encoded data removed]",
      "text/plain": [
       "<Figure size 432x288 with 1 Axes>"
      ]
     },
     "metadata": {
      "needs_background": "light"
     },
     "output_type": "display_data"
    },
    {
     "data": {
      "image/png": "[encoded data removed]",
      "text/plain": [
       "<Figure size 432x288 with 1 Axes>"
      ]
     },
     "metadata": {
      "needs_background": "light"
     },
     "output_type": "display_data"
    },
    {
     "data": {
      "image/png": "[encoded data removed]",
      "text/plain": [
       "<Figure size 432x288 with 1 Axes>"
      ]
     },
     "metadata": {
      "needs_background": "light"
     },
     "output_type": "display_data"
    },
    {
     "data": {
      "image/png": "[encoded data removed]",
      "text/plain": [
       "<Figure size 432x288 with 1 Axes>"
      ]
     },
     "metadata": {
      "needs_background": "light"
     },
     "output_type": "display_data"
    },
    {
     "data": {
      "image/png": "[encoded data removed]",
      "text/plain": [
       "<Figure size 432x288 with 1 Axes>"
      ]
     },
     "metadata": {
      "needs_background": "light"
     },
     "output_type": "display_data"
    },
    {
     "data": {
      "image/png": "[encoded data removed]",
      "text/plain": [
       "<Figure size 432x288 with 1 Axes>"
      ]
     },
     "metadata": {
      "needs_background": "light"
     },
     "output_type": "display_data"
    }
   ],
   "source": [
    "def plot_categorical(df, features):\n",
    "    for feature in features:\n",
    "        df[feature].value_counts().plot(kind='bar')\n",
    "        plt.title(feature)\n",
    "        plt.ylabel('Count')\n",
    "        plt.show()\n",
    "plot_categorical(train_set, categorical)\n",
    "\n"
   ]
  },
  {
   "cell_type": "markdown",
   "id": "52522b9c",
   "metadata": {},
   "source": [
    "Compare categorical levels with their mean price"
   ]
  },
  {
   "cell_type": "code",
   "execution_count": 13,
   "id": "aaec02af",
   "metadata": {},
   "outputs": [
    {
     "data": {
      "image/png": "[encoded data removed]",
      "text/plain": [
       "<Figure size 432x288 with 1 Axes>"
      ]
     },
     "metadata": {
      "needs_background": "light"
     },
     "output_type": "display_data"
    },
    {
     "data": {
      "image/png": "[encoded data removed]",
      "text/plain": [
       "<Figure size 432x288 with 1 Axes>"
      ]
     },
     "metadata": {
      "needs_background": "light"
     },
     "output_type": "display_data"
    },
    {
     "data": {
      "image/png": "[encoded data removed]",
      "text/plain": [
       "<Figure size 432x288 with 1 Axes>"
      ]
     },
     "metadata": {
      "needs_background": "light"
     },
     "output_type": "display_data"
    },
    {
     "data": {
      "image/png": "[encoded data removed]",
      "text/plain": [
       "<Figure size 432x288 with 1 Axes>"
      ]
     },
     "metadata": {
      "needs_background": "light"
     },
     "output_type": "display_data"
    },
    {
     "data": {
      "image/png": "[encoded data removed]",
      "text/plain": [
       "<Figure size 432x288 with 1 Axes>"
      ]
     },
     "metadata": {
      "needs_background": "light"
     },
     "output_type": "display_data"
    },
    {
     "data": {
      "image/png": "[encoded data removed]",
      "text/plain": [
       "<Figure size 432x288 with 1 Axes>"
      ]
     },
     "metadata": {
      "needs_background": "light"
     },
     "output_type": "display_data"
    }
   ],
   "source": [
    "def compare_categorical(df, features, target):\n",
    "    for feature in features:\n",
    "        df.groupby(feature).mean()[target].plot(kind='bar')\n",
    "        plt.title(feature)\n",
    "        plt.ylabel(target)\n",
    "        plt.show()\n",
    "compare_categorical(train_set, categorical, 'price')\n"
   ]
  },
  {
   "cell_type": "markdown",
   "id": "7eb8f023",
   "metadata": {},
   "source": [
    "## Pipeline"
   ]
  },
  {
   "cell_type": "markdown",
   "id": "4ce90750",
   "metadata": {},
   "source": [
    "#### Dropping Labels"
   ]
  },
  {
   "cell_type": "markdown",
   "id": "44609a88",
   "metadata": {},
   "source": [
    "Separate the predictors and the labels since we don't\n",
    "necessarily want to apply the same transformations\n",
    "to the predictors and the target values."
   ]
  },
  {
   "cell_type": "code",
   "execution_count": 14,
   "id": "492fedd0",
   "metadata": {},
   "outputs": [],
   "source": [
    "X_train = train_set.drop(\"price\", axis=1) # drop labels for training set\n",
    "y_train = train_set[\"price\"].copy()\n",
    "X_test = test_set.drop(\"price\", axis=1)\n",
    "y_test = test_set[\"price\"].copy()"
   ]
  },
  {
   "cell_type": "markdown",
   "id": "63f00cbc",
   "metadata": {},
   "source": [
    "### Transform Data"
   ]
  },
  {
   "cell_type": "markdown",
   "id": "2e6bbda2",
   "metadata": {},
   "source": [
    "#### Get different types of data"
   ]
  },
  {
   "cell_type": "code",
   "execution_count": 15,
   "id": "b311e0f7",
   "metadata": {},
   "outputs": [
    {
     "name": "stdout",
     "output_type": "stream",
     "text": [
      "Features length: 15 \n",
      "Collected data:  8\n",
      "Numerical:  2\n",
      "Nominal: 6\n"
     ]
    }
   ],
   "source": [
    "# splits the data into categorical and numerical features\n",
    "def split_columns(df):\n",
    "      my_selector = selector(dtype_include=int)\n",
    "      numerical_int = my_selector(df)\n",
    "      my_selector = selector(dtype_include=float)\n",
    "      numerical_float = my_selector(df)\n",
    "      my_selector = selector(dtype_include=object)\n",
    "      categorical = my_selector(df)\n",
    "      return numerical_int, numerical_float, categorical\n",
    "\n",
    "numerical_int, numerical_float, nominal = split_columns(X_train)\n",
    "print(\"Features length:\", len(X_train.columns), \"\\nCollected data: \",\n",
    "      len(numerical_int) + len(nominal) + len(numerical_float))\n",
    "numerical = numerical_int + numerical_float\n",
    "print(\"Numerical: \", len(numerical))\n",
    "print(\"Nominal:\",len(nominal))\n"
   ]
  },
  {
   "cell_type": "markdown",
   "id": "aa372aca",
   "metadata": {},
   "source": [
    "#### Make Pipelines"
   ]
  },
  {
   "cell_type": "markdown",
   "id": "1750d56f",
   "metadata": {},
   "source": [
    "We have all the data separated into their corresponding groups. Note that all of our categorical variables are nominal, so we do not need an ordinal pipeline."
   ]
  },
  {
   "cell_type": "code",
   "execution_count": 16,
   "id": "33b0e20c",
   "metadata": {},
   "outputs": [],
   "source": [
    "numerical_pipeline = Pipeline([('imputer', SimpleImputer(strategy='mean')),\n",
    "                               ('scaler', StandardScaler())])\n",
    "# one hot encoder to convert nominal data into binary data.\n",
    "nominal_pipeline = Pipeline([('imputer', SimpleImputer(strategy='most_frequent')),\n",
    "                             ('encoder', OneHotEncoder(handle_unknown='ignore'))])\n"
   ]
  },
  {
   "cell_type": "markdown",
   "id": "b4e5b7fa",
   "metadata": {},
   "source": [
    "#### Create pre-processor and Model"
   ]
  },
  {
   "cell_type": "markdown",
   "id": "b3636473",
   "metadata": {},
   "source": [
    "Create the column transformer to simplify our data into all numerical"
   ]
  },
  {
   "cell_type": "code",
   "execution_count": 17,
   "id": "a6bf5dbc",
   "metadata": {},
   "outputs": [
    {
     "data": {
      "text/plain": [
       "ColumnTransformer(transformers=[('numerical_transformer',\n",
       "                                 Pipeline(steps=[('imputer', SimpleImputer()),\n",
       "                                                 ('scaler', StandardScaler())]),\n",
       "                                 ['lotSize', 'bathrooms']),\n",
       "                                ('nominal_transformer',\n",
       "                                 Pipeline(steps=[('imputer',\n",
       "                                                  SimpleImputer(strategy='most_frequent')),\n",
       "                                                 ('encoder',\n",
       "                                                  OneHotEncoder(handle_unknown='ignore'))]),\n",
       "                                 ['heating', 'fuel', 'sewer', 'waterfront',\n",
       "                                  'newConstruction', 'centralAir'])])"
      ]
     },
     "execution_count": 17,
     "metadata": {},
     "output_type": "execute_result"
    }
   ],
   "source": [
    "preprocessor = ColumnTransformer([\n",
    "    ('numerical_transformer', numerical_pipeline, numerical),\n",
    "    ('nominal_transformer', nominal_pipeline, nominal)\n",
    "])\n",
    "preprocessor"
   ]
  },
  {
   "cell_type": "markdown",
   "id": "09ffda0d",
   "metadata": {},
   "source": [
    "Our data is ready for a model to fit to it. Transform our data into all numerical, perform scaling and fill in missing values. Afterward fit the training data to a linear regression model."
   ]
  },
  {
   "cell_type": "code",
   "execution_count": 18,
   "id": "f32871bd",
   "metadata": {},
   "outputs": [
    {
     "data": {
      "text/plain": [
       "Pipeline(steps=[('preprocessor',\n",
       "                 ColumnTransformer(transformers=[('numerical_transformer',\n",
       "                                                  Pipeline(steps=[('imputer',\n",
       "                                                                   SimpleImputer()),\n",
       "                                                                  ('scaler',\n",
       "                                                                   StandardScaler())]),\n",
       "                                                  ['lotSize', 'bathrooms']),\n",
       "                                                 ('nominal_transformer',\n",
       "                                                  Pipeline(steps=[('imputer',\n",
       "                                                                   SimpleImputer(strategy='most_frequent')),\n",
       "                                                                  ('encoder',\n",
       "                                                                   OneHotEncoder(handle_unknown='ignore'))]),\n",
       "                                                  ['heating', 'fuel', 'sewer',\n",
       "                                                   'waterfront',\n",
       "                                                   'newConstruction',\n",
       "                                                   'centralAir'])])),\n",
       "                ('regressor', LinearRegression())])"
      ]
     },
     "execution_count": 18,
     "metadata": {},
     "output_type": "execute_result"
    }
   ],
   "source": [
    "# transform columns and fit the model\n",
    "lr_model = Pipeline([\n",
    "    ('preprocessor', preprocessor),\n",
    "    ('regressor', LinearRegression())\n",
    "])\n",
    "lr_model"
   ]
  },
  {
   "cell_type": "markdown",
   "id": "a44429e4",
   "metadata": {},
   "source": [
    "## Tune Parameters"
   ]
  },
  {
   "cell_type": "markdown",
   "id": "98d16206",
   "metadata": {},
   "source": [
    "### Grid Search CV"
   ]
  },
  {
   "cell_type": "code",
   "execution_count": 19,
   "id": "1b08b45b",
   "metadata": {},
   "outputs": [
    {
     "data": {
      "text/plain": [
       "GridSearchCV(cv=5,\n",
       "             estimator=Pipeline(steps=[('preprocessor',\n",
       "                                        ColumnTransformer(transformers=[('numerical_transformer',\n",
       "                                                                         Pipeline(steps=[('imputer',\n",
       "                                                                                          SimpleImputer()),\n",
       "                                                                                         ('scaler',\n",
       "                                                                                          StandardScaler())]),\n",
       "                                                                         ['lotSize',\n",
       "                                                                          'bathrooms']),\n",
       "                                                                        ('nominal_transformer',\n",
       "                                                                         Pipeline(steps=[('imputer',\n",
       "                                                                                          SimpleImputer(strategy='most_frequent')),\n",
       "                                                                                         ('encoder',\n",
       "                                                                                          OneHotEncoder(handle_unknown='ignore'))]),\n",
       "                                                                         ['heating',\n",
       "                                                                          'fuel',\n",
       "                                                                          'sewer',\n",
       "                                                                          'waterfront',\n",
       "                                                                          'newConstruction',\n",
       "                                                                          'centralAir'])])),\n",
       "                                       ('regressor', LinearRegression())]),\n",
       "             param_grid=[{'regressor__copy_X': [True, False],\n",
       "                          'regressor__fit_intercept': [True, False],\n",
       "                          'regressor__n_jobs': [1, -1],\n",
       "                          'regressor__positive': [True, False]}],\n",
       "             return_train_score=True, scoring='neg_mean_squared_error')"
      ]
     },
     "execution_count": 19,
     "metadata": {},
     "output_type": "execute_result"
    }
   ],
   "source": [
    "# lr_model.get_params().keys()\n",
    "param_grid = [\n",
    "    {'regressor__fit_intercept': [True, False],\n",
    "     'regressor__copy_X': [True, False],\n",
    "     'regressor__n_jobs': [1, -1],\n",
    "     'regressor__positive': [True, False]}\n",
    "]\n",
    "grid_search = GridSearchCV(lr_model, param_grid, cv=5,\n",
    "                            scoring='neg_mean_squared_error',\n",
    "                            return_train_score=True)\n",
    "\n",
    "grid_search.fit(X_train, y_train)"
   ]
  },
  {
   "cell_type": "code",
   "execution_count": 20,
   "id": "bb8df563",
   "metadata": {},
   "outputs": [
    {
     "data": {
      "text/plain": [
       "{'regressor__copy_X': True,\n",
       " 'regressor__fit_intercept': True,\n",
       " 'regressor__n_jobs': 1,\n",
       " 'regressor__positive': False}"
      ]
     },
     "execution_count": 20,
     "metadata": {},
     "output_type": "execute_result"
    }
   ],
   "source": [
    "grid_search.best_params_"
   ]
  },
  {
   "cell_type": "code",
   "execution_count": 21,
   "id": "dd2d1416",
   "metadata": {},
   "outputs": [
    {
     "data": {
      "text/plain": [
       "76455.36808746366"
      ]
     },
     "execution_count": 21,
     "metadata": {},
     "output_type": "execute_result"
    }
   ],
   "source": [
    "np.sqrt(abs(grid_search.best_score_))"
   ]
  },
  {
   "cell_type": "code",
   "execution_count": 22,
   "id": "fb4b70c2",
   "metadata": {},
   "outputs": [
    {
     "data": {
      "text/plain": [
       "LinearRegression(n_jobs=1)"
      ]
     },
     "execution_count": 22,
     "metadata": {},
     "output_type": "execute_result"
    }
   ],
   "source": [
    "grid_search.best_estimator_.named_steps['regressor']"
   ]
  },
  {
   "cell_type": "markdown",
   "id": "02153418",
   "metadata": {},
   "source": [
    "### Random Search CV"
   ]
  },
  {
   "cell_type": "markdown",
   "id": "bc7e1628",
   "metadata": {},
   "source": [
    "## Make Predictions & Evaluate"
   ]
  },
  {
   "cell_type": "markdown",
   "id": "19d994c4",
   "metadata": {},
   "source": [
    "### Training Set"
   ]
  },
  {
   "cell_type": "markdown",
   "id": "6db2b5ec",
   "metadata": {},
   "source": [
    "#### Predict with Linear Regression"
   ]
  },
  {
   "cell_type": "code",
   "execution_count": 23,
   "id": "c2f6dc68",
   "metadata": {},
   "outputs": [
    {
     "data": {
      "text/html": [
       "<div>\n",
       "<style scoped>\n",
       "    .dataframe tbody tr th:only-of-type {\n",
       "        vertical-align: middle;\n",
       "    }\n",
       "\n",
       "    .dataframe tbody tr th {\n",
       "        vertical-align: top;\n",
       "    }\n",
       "\n",
       "    .dataframe thead th {\n",
       "        text-align: right;\n",
       "    }\n",
       "</style>\n",
       "<table border=\"1\" class=\"dataframe\">\n",
       "  <thead>\n",
       "    <tr style=\"text-align: right;\">\n",
       "      <th></th>\n",
       "      <th>RMSE</th>\n",
       "      <th>MAPE</th>\n",
       "      <th>R^2</th>\n",
       "    </tr>\n",
       "  </thead>\n",
       "  <tbody>\n",
       "    <tr>\n",
       "      <th>Linear Regression</th>\n",
       "      <td>75504.164811</td>\n",
       "      <td>30.224527</td>\n",
       "      <td>0.42501</td>\n",
       "    </tr>\n",
       "  </tbody>\n",
       "</table>\n",
       "</div>"
      ],
      "text/plain": [
       "                           RMSE       MAPE      R^2\n",
       "Linear Regression  75504.164811  30.224527  0.42501"
      ]
     },
     "execution_count": 23,
     "metadata": {},
     "output_type": "execute_result"
    }
   ],
   "source": [
    "def metrics(model, predictions, X, y):\n",
    "    RMSE = np.sqrt(mean_squared_error(y, predictions))\n",
    "    MAPE = (np.mean(np.abs((y - predictions) / y))) * 100\n",
    "    R_squared = model.score(X, y)\n",
    "    return pd.DataFrame({\"RMSE\": RMSE, \"MAPE\": MAPE, \"R^2\": R_squared}, index = [\"Linear Regression\"])\n",
    "    \n",
    "lr_model.fit(X_train, y_train)\n",
    "train_predictions = lr_model.predict(X_train)\n",
    "metrics(lr_model, train_predictions, X_train, y_train)\n"
   ]
  },
  {
   "cell_type": "code",
   "execution_count": 24,
   "id": "c2cba5c5",
   "metadata": {},
   "outputs": [
    {
     "name": "stdout",
     "output_type": "stream",
     "text": [
      "On average, our model has 30.2245 % error (MAPE)\n"
     ]
    },
    {
     "data": {
      "text/html": [
       "<div>\n",
       "<style scoped>\n",
       "    .dataframe tbody tr th:only-of-type {\n",
       "        vertical-align: middle;\n",
       "    }\n",
       "\n",
       "    .dataframe tbody tr th {\n",
       "        vertical-align: top;\n",
       "    }\n",
       "\n",
       "    .dataframe thead th {\n",
       "        text-align: right;\n",
       "    }\n",
       "</style>\n",
       "<table border=\"1\" class=\"dataframe\">\n",
       "  <thead>\n",
       "    <tr style=\"text-align: right;\">\n",
       "      <th></th>\n",
       "      <th>Actual</th>\n",
       "      <th>Predicted</th>\n",
       "      <th>Difference</th>\n",
       "      <th>Difference_percent</th>\n",
       "    </tr>\n",
       "  </thead>\n",
       "  <tbody>\n",
       "    <tr>\n",
       "      <th>548</th>\n",
       "      <td>512971</td>\n",
       "      <td>234919.083911</td>\n",
       "      <td>278051.916089</td>\n",
       "      <td>54.204217</td>\n",
       "    </tr>\n",
       "    <tr>\n",
       "      <th>448</th>\n",
       "      <td>159000</td>\n",
       "      <td>167595.595116</td>\n",
       "      <td>8595.595116</td>\n",
       "      <td>5.406035</td>\n",
       "    </tr>\n",
       "    <tr>\n",
       "      <th>1275</th>\n",
       "      <td>249900</td>\n",
       "      <td>273215.940040</td>\n",
       "      <td>23315.940040</td>\n",
       "      <td>9.330108</td>\n",
       "    </tr>\n",
       "    <tr>\n",
       "      <th>157</th>\n",
       "      <td>89900</td>\n",
       "      <td>137538.357749</td>\n",
       "      <td>47638.357749</td>\n",
       "      <td>52.990387</td>\n",
       "    </tr>\n",
       "    <tr>\n",
       "      <th>1107</th>\n",
       "      <td>245000</td>\n",
       "      <td>121323.638928</td>\n",
       "      <td>123676.361072</td>\n",
       "      <td>50.480147</td>\n",
       "    </tr>\n",
       "  </tbody>\n",
       "</table>\n",
       "</div>"
      ],
      "text/plain": [
       "      Actual      Predicted     Difference  Difference_percent\n",
       "548   512971  234919.083911  278051.916089           54.204217\n",
       "448   159000  167595.595116    8595.595116            5.406035\n",
       "1275  249900  273215.940040   23315.940040            9.330108\n",
       "157    89900  137538.357749   47638.357749           52.990387\n",
       "1107  245000  121323.638928  123676.361072           50.480147"
      ]
     },
     "execution_count": 24,
     "metadata": {},
     "output_type": "execute_result"
    }
   ],
   "source": [
    "y_train_predicted = lr_model.fit(X_train, y_train).predict(X_train)\n",
    "\n",
    "# display actual vs predicted and the residuals\n",
    "def summarize_results(y_train, y_train_predict):\n",
    "    return pd.DataFrame({'Actual': y_train, 'Predicted': y_train_predict,\n",
    "                        'Difference': abs(y_train - y_train_predict),\n",
    "                        'Difference_percent': (abs(y_train - y_train_predict)/y_train*100)})\n",
    "\n",
    "results = summarize_results(y_train, y_train_predicted)\n",
    "print(\"On average, our model has\", round((results['Difference_percent'].mean()), 4), '% error (MAPE)')\n",
    "results.sample(5)"
   ]
  },
  {
   "cell_type": "markdown",
   "id": "1868c3d8",
   "metadata": {},
   "source": [
    "#### Visualizing Predictions vs Actual"
   ]
  },
  {
   "cell_type": "markdown",
   "id": "c782e7bf",
   "metadata": {},
   "source": [
    "The model tends to under-estimate for higher values. This is typical when the target value does not follow a normal distribution. Hence, we should normalize price."
   ]
  },
  {
   "cell_type": "code",
   "execution_count": 25,
   "id": "17500dfa",
   "metadata": {},
   "outputs": [
    {
     "data": {
      "image/png": "[encoded data removed]",
      "text/plain": [
       "<Figure size 432x288 with 1 Axes>"
      ]
     },
     "metadata": {
      "needs_background": "light"
     },
     "output_type": "display_data"
    }
   ],
   "source": [
    "def plot_residuals(results):\n",
    "    sns.scatterplot(y='Predicted', x='Actual', data=results,\n",
    "                      color=\"black\", alpha=0.5)\n",
    "    plt.axline((0, 0), slope=1, label=\"Perfect fit\")\n",
    "    plt.axis('square')\n",
    "    plt.show()\n",
    "plot_residuals(results)"
   ]
  },
  {
   "cell_type": "markdown",
   "id": "b486a45d",
   "metadata": {},
   "source": [
    "#### Scale Target variable and check predictions again"
   ]
  },
  {
   "cell_type": "code",
   "execution_count": 26,
   "id": "1ceab052",
   "metadata": {},
   "outputs": [],
   "source": [
    "quantile_transformer = QuantileTransformer(n_quantiles=1000, output_distribution=\"normal\")\n",
    "model_transformed_target = TransformedTargetRegressor(regressor=lr_model,\n",
    "                                                      transformer=quantile_transformer)\n",
    "model_transformed_target.fit(X_train, y_train)\n",
    "y_train_predicted = model_transformed_target.predict(X_train)"
   ]
  },
  {
   "cell_type": "markdown",
   "id": "13e3b61b",
   "metadata": {},
   "source": [
    "Once the model get scaled, it has about MAPE, but R^2 is about 0.05 worse and RMSE is about 5000 worse. Hence, we'll try not scaling the data."
   ]
  },
  {
   "cell_type": "code",
   "execution_count": 27,
   "id": "baf39ff9",
   "metadata": {},
   "outputs": [
    {
     "data": {
      "text/html": [
       "<div>\n",
       "<style scoped>\n",
       "    .dataframe tbody tr th:only-of-type {\n",
       "        vertical-align: middle;\n",
       "    }\n",
       "\n",
       "    .dataframe tbody tr th {\n",
       "        vertical-align: top;\n",
       "    }\n",
       "\n",
       "    .dataframe thead th {\n",
       "        text-align: right;\n",
       "    }\n",
       "</style>\n",
       "<table border=\"1\" class=\"dataframe\">\n",
       "  <thead>\n",
       "    <tr style=\"text-align: right;\">\n",
       "      <th></th>\n",
       "      <th>RMSE</th>\n",
       "      <th>MAPE</th>\n",
       "      <th>R^2</th>\n",
       "    </tr>\n",
       "  </thead>\n",
       "  <tbody>\n",
       "    <tr>\n",
       "      <th>Linear Regression</th>\n",
       "      <td>75988.314296</td>\n",
       "      <td>27.890368</td>\n",
       "      <td>0.417612</td>\n",
       "    </tr>\n",
       "  </tbody>\n",
       "</table>\n",
       "</div>"
      ],
      "text/plain": [
       "                           RMSE       MAPE       R^2\n",
       "Linear Regression  75988.314296  27.890368  0.417612"
      ]
     },
     "execution_count": 27,
     "metadata": {},
     "output_type": "execute_result"
    }
   ],
   "source": [
    "metrics(model_transformed_target, y_train_predicted, X_train, y_train)"
   ]
  },
  {
   "cell_type": "code",
   "execution_count": 28,
   "id": "5362f8ec",
   "metadata": {},
   "outputs": [
    {
     "data": {
      "text/html": [
       "<div>\n",
       "<style scoped>\n",
       "    .dataframe tbody tr th:only-of-type {\n",
       "        vertical-align: middle;\n",
       "    }\n",
       "\n",
       "    .dataframe tbody tr th {\n",
       "        vertical-align: top;\n",
       "    }\n",
       "\n",
       "    .dataframe thead th {\n",
       "        text-align: right;\n",
       "    }\n",
       "</style>\n",
       "<table border=\"1\" class=\"dataframe\">\n",
       "  <thead>\n",
       "    <tr style=\"text-align: right;\">\n",
       "      <th></th>\n",
       "      <th>Actual</th>\n",
       "      <th>Predicted</th>\n",
       "      <th>Difference</th>\n",
       "      <th>Difference_percent</th>\n",
       "    </tr>\n",
       "  </thead>\n",
       "  <tbody>\n",
       "    <tr>\n",
       "      <th>1065</th>\n",
       "      <td>124500</td>\n",
       "      <td>119968.743997</td>\n",
       "      <td>4531.256003</td>\n",
       "      <td>3.639563</td>\n",
       "    </tr>\n",
       "    <tr>\n",
       "      <th>1478</th>\n",
       "      <td>206000</td>\n",
       "      <td>182000.000000</td>\n",
       "      <td>24000.000000</td>\n",
       "      <td>11.650485</td>\n",
       "    </tr>\n",
       "    <tr>\n",
       "      <th>354</th>\n",
       "      <td>135500</td>\n",
       "      <td>191000.000000</td>\n",
       "      <td>55500.000000</td>\n",
       "      <td>40.959410</td>\n",
       "    </tr>\n",
       "    <tr>\n",
       "      <th>1235</th>\n",
       "      <td>218000</td>\n",
       "      <td>180051.857079</td>\n",
       "      <td>37948.142921</td>\n",
       "      <td>17.407405</td>\n",
       "    </tr>\n",
       "    <tr>\n",
       "      <th>537</th>\n",
       "      <td>322277</td>\n",
       "      <td>301881.419232</td>\n",
       "      <td>20395.580768</td>\n",
       "      <td>6.328587</td>\n",
       "    </tr>\n",
       "  </tbody>\n",
       "</table>\n",
       "</div>"
      ],
      "text/plain": [
       "      Actual      Predicted    Difference  Difference_percent\n",
       "1065  124500  119968.743997   4531.256003            3.639563\n",
       "1478  206000  182000.000000  24000.000000           11.650485\n",
       "354   135500  191000.000000  55500.000000           40.959410\n",
       "1235  218000  180051.857079  37948.142921           17.407405\n",
       "537   322277  301881.419232  20395.580768            6.328587"
      ]
     },
     "execution_count": 28,
     "metadata": {},
     "output_type": "execute_result"
    }
   ],
   "source": [
    "results_adjusted = summarize_results(y_train, y_train_predicted)\n",
    "results_adjusted.sample(5)"
   ]
  },
  {
   "cell_type": "code",
   "execution_count": 29,
   "id": "b3062426",
   "metadata": {},
   "outputs": [
    {
     "data": {
      "image/png": "[encoded data removed]",
      "text/plain": [
       "<Figure size 432x288 with 1 Axes>"
      ]
     },
     "metadata": {
      "needs_background": "light"
     },
     "output_type": "display_data"
    }
   ],
   "source": [
    "plot_residuals(results_adjusted)"
   ]
  },
  {
   "cell_type": "markdown",
   "id": "2448fc69",
   "metadata": {},
   "source": [
    "#### Cross Validation"
   ]
  },
  {
   "cell_type": "markdown",
   "id": "fec35fb0",
   "metadata": {},
   "source": [
    "Estimate the expected level of fit of the model using cross validation."
   ]
  },
  {
   "cell_type": "code",
   "execution_count": 30,
   "id": "d6b7be3d",
   "metadata": {},
   "outputs": [
    {
     "name": "stdout",
     "output_type": "stream",
     "text": [
      "The mean cross-validation RMSE is:  76097.4945 +/- 7388.8188\n"
     ]
    }
   ],
   "source": [
    "cv_results = cross_validate(lr_model, X_train, y_train, \n",
    "                            scoring = 'neg_mean_squared_error', cv = 5)\n",
    "scores = np.sqrt(-cv_results[\"test_score\"])\n",
    "print(\"The mean cross-validation RMSE is: \", f\"{scores.mean():.4f} +/- {scores.std():.4f}\")"
   ]
  },
  {
   "cell_type": "markdown",
   "id": "f5b3e13a",
   "metadata": {},
   "source": [
    "### Test Set"
   ]
  },
  {
   "cell_type": "markdown",
   "id": "d0c821e3",
   "metadata": {},
   "source": [
    "#### Predict with Linear Regression"
   ]
  },
  {
   "cell_type": "code",
   "execution_count": 31,
   "id": "c6dd86c2",
   "metadata": {},
   "outputs": [
    {
     "data": {
      "text/html": [
       "<div>\n",
       "<style scoped>\n",
       "    .dataframe tbody tr th:only-of-type {\n",
       "        vertical-align: middle;\n",
       "    }\n",
       "\n",
       "    .dataframe tbody tr th {\n",
       "        vertical-align: top;\n",
       "    }\n",
       "\n",
       "    .dataframe thead th {\n",
       "        text-align: right;\n",
       "    }\n",
       "</style>\n",
       "<table border=\"1\" class=\"dataframe\">\n",
       "  <thead>\n",
       "    <tr style=\"text-align: right;\">\n",
       "      <th></th>\n",
       "      <th>RMSE</th>\n",
       "      <th>MAPE</th>\n",
       "      <th>R^2</th>\n",
       "    </tr>\n",
       "  </thead>\n",
       "  <tbody>\n",
       "    <tr>\n",
       "      <th>Linear Regression</th>\n",
       "      <td>70878.411767</td>\n",
       "      <td>42.464558</td>\n",
       "      <td>0.427026</td>\n",
       "    </tr>\n",
       "  </tbody>\n",
       "</table>\n",
       "</div>"
      ],
      "text/plain": [
       "                           RMSE       MAPE       R^2\n",
       "Linear Regression  70878.411767  42.464558  0.427026"
      ]
     },
     "execution_count": 31,
     "metadata": {},
     "output_type": "execute_result"
    }
   ],
   "source": [
    "lr_model.fit(X_train, y_train)\n",
    "y_test_predicted = lr_model.predict(X_test)\n",
    "metrics(lr_model, y_test_predicted, X_test, y_test)"
   ]
  },
  {
   "cell_type": "code",
   "execution_count": 32,
   "id": "9b674cb8",
   "metadata": {},
   "outputs": [
    {
     "data": {
      "text/html": [
       "<div>\n",
       "<style scoped>\n",
       "    .dataframe tbody tr th:only-of-type {\n",
       "        vertical-align: middle;\n",
       "    }\n",
       "\n",
       "    .dataframe tbody tr th {\n",
       "        vertical-align: top;\n",
       "    }\n",
       "\n",
       "    .dataframe thead th {\n",
       "        text-align: right;\n",
       "    }\n",
       "</style>\n",
       "<table border=\"1\" class=\"dataframe\">\n",
       "  <thead>\n",
       "    <tr style=\"text-align: right;\">\n",
       "      <th></th>\n",
       "      <th>Actual</th>\n",
       "      <th>Predicted</th>\n",
       "      <th>Difference</th>\n",
       "      <th>Difference_percent</th>\n",
       "    </tr>\n",
       "  </thead>\n",
       "  <tbody>\n",
       "    <tr>\n",
       "      <th>542</th>\n",
       "      <td>168900</td>\n",
       "      <td>275233.805859</td>\n",
       "      <td>106333.805859</td>\n",
       "      <td>62.956664</td>\n",
       "    </tr>\n",
       "    <tr>\n",
       "      <th>1187</th>\n",
       "      <td>159000</td>\n",
       "      <td>197223.662813</td>\n",
       "      <td>38223.662813</td>\n",
       "      <td>24.040040</td>\n",
       "    </tr>\n",
       "    <tr>\n",
       "      <th>482</th>\n",
       "      <td>295000</td>\n",
       "      <td>268647.149474</td>\n",
       "      <td>26352.850526</td>\n",
       "      <td>8.933170</td>\n",
       "    </tr>\n",
       "    <tr>\n",
       "      <th>746</th>\n",
       "      <td>145000</td>\n",
       "      <td>164286.394986</td>\n",
       "      <td>19286.394986</td>\n",
       "      <td>13.300962</td>\n",
       "    </tr>\n",
       "    <tr>\n",
       "      <th>229</th>\n",
       "      <td>109900</td>\n",
       "      <td>168120.562468</td>\n",
       "      <td>58220.562468</td>\n",
       "      <td>52.975944</td>\n",
       "    </tr>\n",
       "  </tbody>\n",
       "</table>\n",
       "</div>"
      ],
      "text/plain": [
       "      Actual      Predicted     Difference  Difference_percent\n",
       "542   168900  275233.805859  106333.805859           62.956664\n",
       "1187  159000  197223.662813   38223.662813           24.040040\n",
       "482   295000  268647.149474   26352.850526            8.933170\n",
       "746   145000  164286.394986   19286.394986           13.300962\n",
       "229   109900  168120.562468   58220.562468           52.975944"
      ]
     },
     "execution_count": 32,
     "metadata": {},
     "output_type": "execute_result"
    }
   ],
   "source": [
    "results_test = summarize_results(y_test, y_test_predicted)\n",
    "results_test.sample(5)"
   ]
  },
  {
   "cell_type": "markdown",
   "id": "3e624c1d",
   "metadata": {},
   "source": [
    "### Visualizing predictions vs actual"
   ]
  },
  {
   "cell_type": "code",
   "execution_count": 33,
   "id": "e0af088a",
   "metadata": {},
   "outputs": [
    {
     "data": {
      "image/png": "[encoded data removed]",
      "text/plain": [
       "<Figure size 432x288 with 1 Axes>"
      ]
     },
     "metadata": {
      "needs_background": "light"
     },
     "output_type": "display_data"
    }
   ],
   "source": [
    "plot_residuals(results_test)"
   ]
  },
  {
   "cell_type": "code",
   "execution_count": 34,
   "id": "566d092a",
   "metadata": {},
   "outputs": [],
   "source": [
    "model_transformed_target.fit(X_train, y_train)\n",
    "y_test_predicted = model_transformed_target.predict(X_test)\n"
   ]
  },
  {
   "cell_type": "code",
   "execution_count": 35,
   "id": "a802033b",
   "metadata": {},
   "outputs": [
    {
     "data": {
      "text/html": [
       "<div>\n",
       "<style scoped>\n",
       "    .dataframe tbody tr th:only-of-type {\n",
       "        vertical-align: middle;\n",
       "    }\n",
       "\n",
       "    .dataframe tbody tr th {\n",
       "        vertical-align: top;\n",
       "    }\n",
       "\n",
       "    .dataframe thead th {\n",
       "        text-align: right;\n",
       "    }\n",
       "</style>\n",
       "<table border=\"1\" class=\"dataframe\">\n",
       "  <thead>\n",
       "    <tr style=\"text-align: right;\">\n",
       "      <th></th>\n",
       "      <th>RMSE</th>\n",
       "      <th>MAPE</th>\n",
       "      <th>R^2</th>\n",
       "    </tr>\n",
       "  </thead>\n",
       "  <tbody>\n",
       "    <tr>\n",
       "      <th>Linear Regression</th>\n",
       "      <td>71238.361241</td>\n",
       "      <td>39.112031</td>\n",
       "      <td>0.421192</td>\n",
       "    </tr>\n",
       "  </tbody>\n",
       "</table>\n",
       "</div>"
      ],
      "text/plain": [
       "                           RMSE       MAPE       R^2\n",
       "Linear Regression  71238.361241  39.112031  0.421192"
      ]
     },
     "execution_count": 35,
     "metadata": {},
     "output_type": "execute_result"
    }
   ],
   "source": [
    "metrics(model_transformed_target, y_test_predicted, X_test, y_test)"
   ]
  },
  {
   "cell_type": "markdown",
   "id": "bbc1dc61",
   "metadata": {},
   "source": [
    "## Support Vector Regressor"
   ]
  },
  {
   "cell_type": "markdown",
   "id": "cf164465",
   "metadata": {},
   "source": [
    "#### Support Vector Regressor"
   ]
  },
  {
   "cell_type": "markdown",
   "id": "71d6d887",
   "metadata": {},
   "source": [
    "Fit our data to a support vector regressor to make predictions. Use RMSE again to evaluate, then cross validate and see how it compares to linear regression."
   ]
  },
  {
   "cell_type": "code",
   "execution_count": 80,
   "id": "6e85e307",
   "metadata": {},
   "outputs": [
    {
     "data": {
      "text/html": [
       "<div>\n",
       "<style scoped>\n",
       "    .dataframe tbody tr th:only-of-type {\n",
       "        vertical-align: middle;\n",
       "    }\n",
       "\n",
       "    .dataframe tbody tr th {\n",
       "        vertical-align: top;\n",
       "    }\n",
       "\n",
       "    .dataframe thead th {\n",
       "        text-align: right;\n",
       "    }\n",
       "</style>\n",
       "<table border=\"1\" class=\"dataframe\">\n",
       "  <thead>\n",
       "    <tr style=\"text-align: right;\">\n",
       "      <th></th>\n",
       "      <th>RMSE</th>\n",
       "      <th>MAPE</th>\n",
       "      <th>CV RMSE:</th>\n",
       "      <th>+/-</th>\n",
       "    </tr>\n",
       "  </thead>\n",
       "  <tbody>\n",
       "    <tr>\n",
       "      <th>Support Vector Machine</th>\n",
       "      <td>102136.893619</td>\n",
       "      <td>38.33009</td>\n",
       "      <td>101816.9385</td>\n",
       "      <td>9743.2811</td>\n",
       "    </tr>\n",
       "  </tbody>\n",
       "</table>\n",
       "</div>"
      ],
      "text/plain": [
       "                                 RMSE      MAPE     CV RMSE:        +/-\n",
       "Support Vector Machine  102136.893619  38.33009  101816.9385  9743.2811"
      ]
     },
     "execution_count": 80,
     "metadata": {},
     "output_type": "execute_result"
    }
   ],
   "source": [
    "svm_model = Pipeline([\n",
    " ('preprocessor', preprocessor),\n",
    " ('regressor', SVR())\n",
    "])\n",
    "svm_model.fit(X_train, y_train)\n",
    "y_train_predicted = svm_model.predict(X_train)\n",
    "\n",
    "def metrics_cv(model, predictions, X, y):\n",
    "    cv_results = cross_validate(model, X, y, scoring = 'neg_mean_squared_error', cv = 5)\n",
    "    RMSE = np.sqrt(mean_squared_error(y, predictions))\n",
    "    MAPE = (np.mean(np.abs((y - predictions) / y))) * 100\n",
    "    scores = np.sqrt(-cv_results[\"test_score\"])\n",
    "    return pd.DataFrame({\"RMSE\": RMSE, \n",
    "                         \"MAPE\": MAPE, \n",
    "                         \"CV RMSE:\" : f\"{scores.mean():.4f}\", \n",
    "                         \"+/-\" : f\"{scores.std():.4f}\"},\n",
    "                         index = [\"Support Vector Machine\"])\n",
    "metrics_cv(svm_model, y_train_predicted, X_train, y_train)"
   ]
  },
  {
   "cell_type": "markdown",
   "id": "3485023a",
   "metadata": {},
   "source": [
    "Our model is not performing well at all compared to Linear Regression. Lets try optimize the hyperparameters of the support vector regressor using grid search."
   ]
  },
  {
   "cell_type": "code",
   "execution_count": 37,
   "id": "594d364a",
   "metadata": {},
   "outputs": [],
   "source": [
    "\n",
    "param_grid = [\n",
    " {'regressor__C': [10000, 100000, 1000000, 10000000],\n",
    " 'regressor__gamma': [1, 10, 100, 'scale', 'auto']},\n",
    "]\n",
    "# 5 ^ 3 = 125 iterations.\n",
    "grid_search = GridSearchCV(svm_model, param_grid, cv=5, scoring='neg_mean_squared_error', return_train_score=True)\n",
    "grid_search.fit(X_train, y_train);"
   ]
  },
  {
   "cell_type": "code",
   "execution_count": 59,
   "id": "d700d670",
   "metadata": {},
   "outputs": [
    {
     "data": {
      "text/plain": [
       "{'regressor__C': 100000, 'regressor__gamma': 'auto'}"
      ]
     },
     "execution_count": 59,
     "metadata": {},
     "output_type": "execute_result"
    }
   ],
   "source": [
    "grid_search.best_params_"
   ]
  },
  {
   "cell_type": "markdown",
   "id": "c72d435b",
   "metadata": {},
   "source": [
    "The model performs significantly better when the parameters have been tuned well."
   ]
  },
  {
   "cell_type": "code",
   "execution_count": 61,
   "id": "facc2162",
   "metadata": {},
   "outputs": [
    {
     "data": {
      "text/html": [
       "<div>\n",
       "<style scoped>\n",
       "    .dataframe tbody tr th:only-of-type {\n",
       "        vertical-align: middle;\n",
       "    }\n",
       "\n",
       "    .dataframe tbody tr th {\n",
       "        vertical-align: top;\n",
       "    }\n",
       "\n",
       "    .dataframe thead th {\n",
       "        text-align: right;\n",
       "    }\n",
       "</style>\n",
       "<table border=\"1\" class=\"dataframe\">\n",
       "  <thead>\n",
       "    <tr style=\"text-align: right;\">\n",
       "      <th></th>\n",
       "      <th>RMSE</th>\n",
       "      <th>MAPE</th>\n",
       "      <th>CV RMSE:</th>\n",
       "      <th>+/-</th>\n",
       "    </tr>\n",
       "  </thead>\n",
       "  <tbody>\n",
       "    <tr>\n",
       "      <th>Support Vector Machine</th>\n",
       "      <td>72659.435874</td>\n",
       "      <td>26.641135</td>\n",
       "      <td>74433.8396</td>\n",
       "      <td>8772.9318</td>\n",
       "    </tr>\n",
       "  </tbody>\n",
       "</table>\n",
       "</div>"
      ],
      "text/plain": [
       "                                RMSE       MAPE    CV RMSE:        +/-\n",
       "Support Vector Machine  72659.435874  26.641135  74433.8396  8772.9318"
      ]
     },
     "execution_count": 61,
     "metadata": {},
     "output_type": "execute_result"
    }
   ],
   "source": [
    "y_train_predicted = grid_search.best_estimator_.predict(X_train)\n",
    "metrics_cv(grid_search.best_estimator_, y_train_predicted, X_train, y_train)\n"
   ]
  },
  {
   "cell_type": "code",
   "execution_count": 66,
   "id": "26a3d646",
   "metadata": {},
   "outputs": [],
   "source": [
    "y_predicted_lr = lr_model.predict(X_test)\n",
    "y_predicted_svm = svm_model.predict(X_test)\n",
    "y_predicted_grid_scv = grid_search.best_estimator_.predict(X_test)\n"
   ]
  },
  {
   "cell_type": "markdown",
   "id": "fe111231",
   "metadata": {},
   "source": [
    "Since we are using RMSE to evaluate the models, the best performing model we have is Linear Regression. However, the optimized support vector regressor is unlikely to be statistically different from the linear regression model. "
   ]
  },
  {
   "cell_type": "code",
   "execution_count": 83,
   "id": "4563cd4e",
   "metadata": {},
   "outputs": [
    {
     "data": {
      "text/html": [
       "<div>\n",
       "<style scoped>\n",
       "    .dataframe tbody tr th:only-of-type {\n",
       "        vertical-align: middle;\n",
       "    }\n",
       "\n",
       "    .dataframe tbody tr th {\n",
       "        vertical-align: top;\n",
       "    }\n",
       "\n",
       "    .dataframe thead th {\n",
       "        text-align: right;\n",
       "    }\n",
       "</style>\n",
       "<table border=\"1\" class=\"dataframe\">\n",
       "  <thead>\n",
       "    <tr style=\"text-align: right;\">\n",
       "      <th></th>\n",
       "      <th>RMSE</th>\n",
       "      <th>MAPE</th>\n",
       "      <th>CV RMSE:</th>\n",
       "      <th>+/-</th>\n",
       "    </tr>\n",
       "  </thead>\n",
       "  <tbody>\n",
       "    <tr>\n",
       "      <th>Linear Regression</th>\n",
       "      <td>70878.411767</td>\n",
       "      <td>42.464558</td>\n",
       "      <td>70279.8302</td>\n",
       "      <td>12711.2882</td>\n",
       "    </tr>\n",
       "    <tr>\n",
       "      <th>Support Vector Machine</th>\n",
       "      <td>96356.663446</td>\n",
       "      <td>45.505008</td>\n",
       "      <td>95464.9990</td>\n",
       "      <td>6596.9986</td>\n",
       "    </tr>\n",
       "    <tr>\n",
       "      <th>Support Vector Machine (Optimized)</th>\n",
       "      <td>70944.860430</td>\n",
       "      <td>38.753190</td>\n",
       "      <td>72266.6694</td>\n",
       "      <td>11918.6928</td>\n",
       "    </tr>\n",
       "  </tbody>\n",
       "</table>\n",
       "</div>"
      ],
      "text/plain": [
       "                                            RMSE       MAPE    CV RMSE:  \\\n",
       "Linear Regression                   70878.411767  42.464558  70279.8302   \n",
       "Support Vector Machine              96356.663446  45.505008  95464.9990   \n",
       "Support Vector Machine (Optimized)  70944.860430  38.753190  72266.6694   \n",
       "\n",
       "                                           +/-  \n",
       "Linear Regression                   12711.2882  \n",
       "Support Vector Machine               6596.9986  \n",
       "Support Vector Machine (Optimized)  11918.6928  "
      ]
     },
     "execution_count": 83,
     "metadata": {},
     "output_type": "execute_result"
    }
   ],
   "source": [
    "summary = metrics_cv(lr_model, y_predicted_lr, X_test, y_test).append(\n",
    "metrics_cv(svm_model, y_predicted_svm, X_test, y_test)).append(\n",
    "metrics_cv(grid_search.best_estimator_, y_predicted_grid_scv, X_test, y_test))\n",
    "summary.set_index(pd.Index(['Linear Regression', 'Support Vector Machine', 'Support Vector Machine (Optimized)']))"
   ]
  },
  {
   "cell_type": "markdown",
   "id": "6e1571f4",
   "metadata": {},
   "source": [
    "## Discussion"
   ]
  },
  {
   "cell_type": "markdown",
   "id": "1a78323a",
   "metadata": {},
   "source": [
    "* I have learnt a lot about pre-processing, transformations, training models, testing models, metrics and different cross validations. \n",
    "\n",
    "* The biggest thing I struggled with was managing all the code and just knowing what to do next. I had quite an issue with understanding when to use the training data and when to use the testing data for way too long. I fixed all that up, but that was a major setback for the time spent on this assignment. \n",
    "\n",
    "* I really enjoyed going through and exploring the data. When analyzing the categorical data, I found it quite interesting to see how some of the features interacted. I looked into correlation and the impact it can have on the model; learning about the affect of multicollinearity. This gave me an idea to feature engineer the features livingArea, bedrooms, rooms and bathrooms in a single feature to see if that would reduce this affect. I think that would have been a fun experiment to explore. I wasn't too sure how to go about this and with my weak structure of code, I found it difficult to find the best way to check out the different variations.\n",
    "\n",
    "* I wish I had a bit more time to work on this assignment to explore more machine learning models, although I know the general structure is the same. Heading into this next time, I want to brainstorm better ways to structure my code to give the best automation. "
   ]
  },
  {
   "cell_type": "markdown",
   "id": "d802c0eb",
   "metadata": {},
   "source": []
  }
 ],
 "metadata": {
  "kernelspec": {
   "display_name": "Python 3.8.8 ('base')",
   "language": "python",
   "name": "python3"
  },
  "language_info": {
   "codemirror_mode": {
    "name": "ipython",
    "version": 3
   },
   "file_extension": ".py",
   "mimetype": "text/x-python",
   "name": "python",
   "nbconvert_exporter": "python",
   "pygments_lexer": "ipython3",
   "version": "3.8.8"
  },
  "vscode": {
   "interpreter": {
    "hash": "5be6d82f33fbdd454d4ace4b29c50ebdb25e4e91ce2dda19fcc0efd5fa1dd36c"
   }
  }
 },
 "nbformat": 4,
 "nbformat_minor": 5
}
