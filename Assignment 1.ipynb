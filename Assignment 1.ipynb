{
 "cells": [
  {
   "cell_type": "markdown",
   "id": "7b702571",
   "metadata": {},
   "source": [
    "# Assignment 1"
   ]
  },
  {
   "cell_type": "markdown",
   "id": "292dab7b",
   "metadata": {},
   "source": [
    "Due Friday 5th August 23:59"
   ]
  },
  {
   "cell_type": "markdown",
   "id": "f6c0caee",
   "metadata": {},
   "source": [
    "## Assignment Outline"
   ]
  },
  {
   "cell_type": "markdown",
   "id": "e3c0fa1d",
   "metadata": {},
   "source": [
    "### Explore data\n",
    "* Inspect the shape and types of data\n",
    "* Visualization\n",
    "* Value counts\n",
    "### Clean data\n",
    "* null\n",
    "* nonsensical \n",
    "### Understand data\n",
    "* Find relationships\n",
    "    * Correlation\n",
    "    * Mean house price against categorical levels\n",
    "* Feature engineering\n",
    "    * livingArea and bedrooms variable?\n",
    "    * lotSize and landValue variable?\n"
   ]
  },
  {
   "cell_type": "code",
   "execution_count": 65,
   "id": "06b028d2",
   "metadata": {},
   "outputs": [],
   "source": [
    "import csv\n",
    "import numpy as np\n",
    "import pandas as pd\n",
    "\n",
    "%matplotlib inline\n",
    "import matplotlib as mpl\n",
    "import matplotlib.pyplot as plt\n",
    "import seaborn as sns\n",
    "\n",
    "# sklearn imports\n",
    "from sklearn.linear_model import LinearRegression\n",
    "from sklearn.metrics import mean_squared_error\n",
    "\n",
    "\n",
    "from sklearn.model_selection import train_test_split\n",
    "from sklearn.model_selection import train_test_split\n",
    "from sklearn.impute import SimpleImputer\n",
    "from sklearn.preprocessing import OneHotEncoder, MinMaxScaler, StandardScaler\n",
    "from sklearn.pipeline import Pipeline\n",
    "from sklearn.compose import ColumnTransformer\n",
    "from sklearn.compose import make_column_selector as selector\n",
    "\n",
    "from sklearn.svm import SVR\n",
    "from sklearn.model_selection import GridSearchCV\n",
    "from sklearn.model_selection import cross_validate"
   ]
  },
  {
   "cell_type": "markdown",
   "id": "a14a368f",
   "metadata": {},
   "source": [
    "## Import CSV"
   ]
  },
  {
   "cell_type": "code",
   "execution_count": 7,
   "id": "c0809f5f",
   "metadata": {},
   "outputs": [],
   "source": [
    "\n",
    "\n",
    "with open(\"data.csv\", 'r') as data:\n",
    "    header = csv.reader(data).__next__()\n",
    "\n",
    "# remove unnamed row.\n",
    "houses = pd.read_csv('data.csv', usecols=header[1:])"
   ]
  },
  {
   "cell_type": "markdown",
   "id": "0b2e49d3",
   "metadata": {},
   "source": [
    "## Splitting the data"
   ]
  },
  {
   "cell_type": "code",
   "execution_count": 8,
   "id": "4de161aa",
   "metadata": {},
   "outputs": [],
   "source": [
    "\n",
    "X = houses.drop([\"price\"], axis = 1) # indepedent features\n",
    "y = houses[\"price\"].copy          # dependent variable\n",
    "\n",
    "train_set, test_set = train_test_split(houses, test_size=0.2, random_state=0)\n"
   ]
  },
  {
   "cell_type": "code",
   "execution_count": 9,
   "id": "aba0e497",
   "metadata": {},
   "outputs": [
    {
     "data": {
      "text/html": [
       "<div>\n",
       "<style scoped>\n",
       "    .dataframe tbody tr th:only-of-type {\n",
       "        vertical-align: middle;\n",
       "    }\n",
       "\n",
       "    .dataframe tbody tr th {\n",
       "        vertical-align: top;\n",
       "    }\n",
       "\n",
       "    .dataframe thead th {\n",
       "        text-align: right;\n",
       "    }\n",
       "</style>\n",
       "<table border=\"1\" class=\"dataframe\">\n",
       "  <thead>\n",
       "    <tr style=\"text-align: right;\">\n",
       "      <th></th>\n",
       "      <th>price</th>\n",
       "      <th>lotSize</th>\n",
       "      <th>age</th>\n",
       "      <th>landValue</th>\n",
       "      <th>livingArea</th>\n",
       "      <th>pctCollege</th>\n",
       "      <th>bedrooms</th>\n",
       "      <th>fireplaces</th>\n",
       "      <th>bathrooms</th>\n",
       "      <th>rooms</th>\n",
       "      <th>heating</th>\n",
       "      <th>fuel</th>\n",
       "      <th>sewer</th>\n",
       "      <th>waterfront</th>\n",
       "      <th>newConstruction</th>\n",
       "      <th>centralAir</th>\n",
       "    </tr>\n",
       "  </thead>\n",
       "  <tbody>\n",
       "    <tr>\n",
       "      <th>1649</th>\n",
       "      <td>153000</td>\n",
       "      <td>0.11</td>\n",
       "      <td>16</td>\n",
       "      <td>2900</td>\n",
       "      <td>1480</td>\n",
       "      <td>40</td>\n",
       "      <td>2</td>\n",
       "      <td>0</td>\n",
       "      <td>2.5</td>\n",
       "      <td>4</td>\n",
       "      <td>hot air</td>\n",
       "      <td>gas</td>\n",
       "      <td>public/commercial</td>\n",
       "      <td>No</td>\n",
       "      <td>No</td>\n",
       "      <td>No</td>\n",
       "    </tr>\n",
       "    <tr>\n",
       "      <th>1465</th>\n",
       "      <td>223000</td>\n",
       "      <td>0.33</td>\n",
       "      <td>18</td>\n",
       "      <td>27000</td>\n",
       "      <td>1360</td>\n",
       "      <td>40</td>\n",
       "      <td>3</td>\n",
       "      <td>1</td>\n",
       "      <td>1.5</td>\n",
       "      <td>8</td>\n",
       "      <td>electric</td>\n",
       "      <td>electric</td>\n",
       "      <td>public/commercial</td>\n",
       "      <td>No</td>\n",
       "      <td>No</td>\n",
       "      <td>No</td>\n",
       "    </tr>\n",
       "    <tr>\n",
       "      <th>361</th>\n",
       "      <td>178500</td>\n",
       "      <td>1.00</td>\n",
       "      <td>12</td>\n",
       "      <td>32000</td>\n",
       "      <td>1952</td>\n",
       "      <td>71</td>\n",
       "      <td>3</td>\n",
       "      <td>2</td>\n",
       "      <td>2.0</td>\n",
       "      <td>9</td>\n",
       "      <td>hot air</td>\n",
       "      <td>oil</td>\n",
       "      <td>septic</td>\n",
       "      <td>No</td>\n",
       "      <td>No</td>\n",
       "      <td>No</td>\n",
       "    </tr>\n",
       "    <tr>\n",
       "      <th>315</th>\n",
       "      <td>168500</td>\n",
       "      <td>0.44</td>\n",
       "      <td>34</td>\n",
       "      <td>31800</td>\n",
       "      <td>1586</td>\n",
       "      <td>64</td>\n",
       "      <td>3</td>\n",
       "      <td>1</td>\n",
       "      <td>1.5</td>\n",
       "      <td>7</td>\n",
       "      <td>hot air</td>\n",
       "      <td>gas</td>\n",
       "      <td>public/commercial</td>\n",
       "      <td>No</td>\n",
       "      <td>No</td>\n",
       "      <td>No</td>\n",
       "    </tr>\n",
       "    <tr>\n",
       "      <th>1372</th>\n",
       "      <td>167500</td>\n",
       "      <td>0.16</td>\n",
       "      <td>18</td>\n",
       "      <td>15100</td>\n",
       "      <td>1492</td>\n",
       "      <td>40</td>\n",
       "      <td>3</td>\n",
       "      <td>0</td>\n",
       "      <td>2.5</td>\n",
       "      <td>6</td>\n",
       "      <td>electric</td>\n",
       "      <td>electric</td>\n",
       "      <td>public/commercial</td>\n",
       "      <td>No</td>\n",
       "      <td>No</td>\n",
       "      <td>No</td>\n",
       "    </tr>\n",
       "  </tbody>\n",
       "</table>\n",
       "</div>"
      ],
      "text/plain": [
       "       price  lotSize  age  landValue  livingArea  pctCollege  bedrooms  \\\n",
       "1649  153000     0.11   16       2900        1480          40         2   \n",
       "1465  223000     0.33   18      27000        1360          40         3   \n",
       "361   178500     1.00   12      32000        1952          71         3   \n",
       "315   168500     0.44   34      31800        1586          64         3   \n",
       "1372  167500     0.16   18      15100        1492          40         3   \n",
       "\n",
       "      fireplaces  bathrooms  rooms   heating      fuel              sewer  \\\n",
       "1649           0        2.5      4   hot air       gas  public/commercial   \n",
       "1465           1        1.5      8  electric  electric  public/commercial   \n",
       "361            2        2.0      9   hot air       oil             septic   \n",
       "315            1        1.5      7   hot air       gas  public/commercial   \n",
       "1372           0        2.5      6  electric  electric  public/commercial   \n",
       "\n",
       "     waterfront newConstruction centralAir  \n",
       "1649         No              No         No  \n",
       "1465         No              No         No  \n",
       "361          No              No         No  \n",
       "315          No              No         No  \n",
       "1372         No              No         No  "
      ]
     },
     "execution_count": 9,
     "metadata": {},
     "output_type": "execute_result"
    }
   ],
   "source": [
    "train_set.head()"
   ]
  },
  {
   "cell_type": "code",
   "execution_count": 10,
   "id": "31c97c53",
   "metadata": {},
   "outputs": [
    {
     "data": {
      "text/html": [
       "<div>\n",
       "<style scoped>\n",
       "    .dataframe tbody tr th:only-of-type {\n",
       "        vertical-align: middle;\n",
       "    }\n",
       "\n",
       "    .dataframe tbody tr th {\n",
       "        vertical-align: top;\n",
       "    }\n",
       "\n",
       "    .dataframe thead th {\n",
       "        text-align: right;\n",
       "    }\n",
       "</style>\n",
       "<table border=\"1\" class=\"dataframe\">\n",
       "  <thead>\n",
       "    <tr style=\"text-align: right;\">\n",
       "      <th></th>\n",
       "      <th>price</th>\n",
       "      <th>lotSize</th>\n",
       "      <th>age</th>\n",
       "      <th>landValue</th>\n",
       "      <th>livingArea</th>\n",
       "      <th>pctCollege</th>\n",
       "      <th>bedrooms</th>\n",
       "      <th>fireplaces</th>\n",
       "      <th>bathrooms</th>\n",
       "      <th>rooms</th>\n",
       "      <th>heating</th>\n",
       "      <th>fuel</th>\n",
       "      <th>sewer</th>\n",
       "      <th>waterfront</th>\n",
       "      <th>newConstruction</th>\n",
       "      <th>centralAir</th>\n",
       "    </tr>\n",
       "  </thead>\n",
       "  <tbody>\n",
       "    <tr>\n",
       "      <th>1318</th>\n",
       "      <td>229900</td>\n",
       "      <td>0.44</td>\n",
       "      <td>7</td>\n",
       "      <td>24200</td>\n",
       "      <td>1328</td>\n",
       "      <td>64</td>\n",
       "      <td>3</td>\n",
       "      <td>1</td>\n",
       "      <td>2.5</td>\n",
       "      <td>8</td>\n",
       "      <td>hot air</td>\n",
       "      <td>gas</td>\n",
       "      <td>public/commercial</td>\n",
       "      <td>No</td>\n",
       "      <td>No</td>\n",
       "      <td>No</td>\n",
       "    </tr>\n",
       "    <tr>\n",
       "      <th>124</th>\n",
       "      <td>158000</td>\n",
       "      <td>0.52</td>\n",
       "      <td>0</td>\n",
       "      <td>4400</td>\n",
       "      <td>2098</td>\n",
       "      <td>44</td>\n",
       "      <td>3</td>\n",
       "      <td>0</td>\n",
       "      <td>2.0</td>\n",
       "      <td>7</td>\n",
       "      <td>hot air</td>\n",
       "      <td>gas</td>\n",
       "      <td>septic</td>\n",
       "      <td>No</td>\n",
       "      <td>Yes</td>\n",
       "      <td>Yes</td>\n",
       "    </tr>\n",
       "    <tr>\n",
       "      <th>648</th>\n",
       "      <td>367500</td>\n",
       "      <td>0.27</td>\n",
       "      <td>2</td>\n",
       "      <td>78200</td>\n",
       "      <td>2205</td>\n",
       "      <td>57</td>\n",
       "      <td>3</td>\n",
       "      <td>1</td>\n",
       "      <td>2.5</td>\n",
       "      <td>10</td>\n",
       "      <td>hot air</td>\n",
       "      <td>gas</td>\n",
       "      <td>public/commercial</td>\n",
       "      <td>No</td>\n",
       "      <td>No</td>\n",
       "      <td>Yes</td>\n",
       "    </tr>\n",
       "    <tr>\n",
       "      <th>249</th>\n",
       "      <td>128850</td>\n",
       "      <td>0.92</td>\n",
       "      <td>16</td>\n",
       "      <td>5500</td>\n",
       "      <td>824</td>\n",
       "      <td>45</td>\n",
       "      <td>3</td>\n",
       "      <td>0</td>\n",
       "      <td>1.5</td>\n",
       "      <td>5</td>\n",
       "      <td>electric</td>\n",
       "      <td>electric</td>\n",
       "      <td>septic</td>\n",
       "      <td>No</td>\n",
       "      <td>No</td>\n",
       "      <td>No</td>\n",
       "    </tr>\n",
       "    <tr>\n",
       "      <th>1599</th>\n",
       "      <td>290000</td>\n",
       "      <td>0.61</td>\n",
       "      <td>34</td>\n",
       "      <td>32300</td>\n",
       "      <td>2728</td>\n",
       "      <td>64</td>\n",
       "      <td>4</td>\n",
       "      <td>1</td>\n",
       "      <td>2.5</td>\n",
       "      <td>10</td>\n",
       "      <td>hot water/steam</td>\n",
       "      <td>gas</td>\n",
       "      <td>public/commercial</td>\n",
       "      <td>No</td>\n",
       "      <td>No</td>\n",
       "      <td>No</td>\n",
       "    </tr>\n",
       "  </tbody>\n",
       "</table>\n",
       "</div>"
      ],
      "text/plain": [
       "       price  lotSize  age  landValue  livingArea  pctCollege  bedrooms  \\\n",
       "1318  229900     0.44    7      24200        1328          64         3   \n",
       "124   158000     0.52    0       4400        2098          44         3   \n",
       "648   367500     0.27    2      78200        2205          57         3   \n",
       "249   128850     0.92   16       5500         824          45         3   \n",
       "1599  290000     0.61   34      32300        2728          64         4   \n",
       "\n",
       "      fireplaces  bathrooms  rooms          heating      fuel  \\\n",
       "1318           1        2.5      8          hot air       gas   \n",
       "124            0        2.0      7          hot air       gas   \n",
       "648            1        2.5     10          hot air       gas   \n",
       "249            0        1.5      5         electric  electric   \n",
       "1599           1        2.5     10  hot water/steam       gas   \n",
       "\n",
       "                  sewer waterfront newConstruction centralAir  \n",
       "1318  public/commercial         No              No         No  \n",
       "124              septic         No             Yes        Yes  \n",
       "648   public/commercial         No              No        Yes  \n",
       "249              septic         No              No         No  \n",
       "1599  public/commercial         No              No         No  "
      ]
     },
     "execution_count": 10,
     "metadata": {},
     "output_type": "execute_result"
    }
   ],
   "source": [
    "test_set.head()"
   ]
  },
  {
   "cell_type": "markdown",
   "id": "c4abc069",
   "metadata": {},
   "source": [
    "## Explore the Training Set"
   ]
  },
  {
   "cell_type": "markdown",
   "id": "7ff74d2c",
   "metadata": {},
   "source": [
    "There are 1105 rows and 16 features of the training set. There are no missing values."
   ]
  },
  {
   "cell_type": "code",
   "execution_count": 11,
   "id": "c1e06a73",
   "metadata": {},
   "outputs": [
    {
     "name": "stdout",
     "output_type": "stream",
     "text": [
      "<class 'pandas.core.frame.DataFrame'>\n",
      "Int64Index: 1382 entries, 1649 to 684\n",
      "Data columns (total 16 columns):\n",
      " #   Column           Non-Null Count  Dtype  \n",
      "---  ------           --------------  -----  \n",
      " 0   price            1382 non-null   int64  \n",
      " 1   lotSize          1382 non-null   float64\n",
      " 2   age              1382 non-null   int64  \n",
      " 3   landValue        1382 non-null   int64  \n",
      " 4   livingArea       1382 non-null   int64  \n",
      " 5   pctCollege       1382 non-null   int64  \n",
      " 6   bedrooms         1382 non-null   int64  \n",
      " 7   fireplaces       1382 non-null   int64  \n",
      " 8   bathrooms        1382 non-null   float64\n",
      " 9   rooms            1382 non-null   int64  \n",
      " 10  heating          1382 non-null   object \n",
      " 11  fuel             1382 non-null   object \n",
      " 12  sewer            1382 non-null   object \n",
      " 13  waterfront       1382 non-null   object \n",
      " 14  newConstruction  1382 non-null   object \n",
      " 15  centralAir       1382 non-null   object \n",
      "dtypes: float64(2), int64(8), object(6)\n",
      "memory usage: 183.5+ KB\n"
     ]
    }
   ],
   "source": [
    "train_set.info()"
   ]
  },
  {
   "cell_type": "markdown",
   "id": "6329e91b",
   "metadata": {},
   "source": [
    "#### Analyze Distributions"
   ]
  },
  {
   "cell_type": "markdown",
   "id": "7f403a93",
   "metadata": {},
   "source": [
    "livingArea[5], pctCollege[6], bedrooms[7], fireplaces[8], bathrooms[9] and rooms[10] are approximately normally distributed.\n",
    "Price[1], lotSize[2], age[3], landValue[4] are right skewed and could use normalizing."
   ]
  },
  {
   "cell_type": "code",
   "execution_count": 12,
   "id": "73007658",
   "metadata": {},
   "outputs": [
    {
     "data": {
      "image/png": "[encoded data removed]",
      "text/plain": [
       "<Figure size 1440x1440 with 12 Axes>"
      ]
     },
     "metadata": {
      "needs_background": "light"
     },
     "output_type": "display_data"
    }
   ],
   "source": [
    "train_set.hist(bins = 50, figsize = (20,20))\n",
    "fig = plt.gcf() \n",
    "fig.savefig('hist.pdf', bbox_inches = 'tight')"
   ]
  },
  {
   "cell_type": "markdown",
   "id": "3068a312",
   "metadata": {},
   "source": [
    "Below emphasises the right tail skew in features 1, 2, 3 and 4. They all have a disproportionately large spread and very large values.\n"
   ]
  },
  {
   "cell_type": "code",
   "execution_count": 13,
   "id": "58f54824",
   "metadata": {},
   "outputs": [
    {
     "data": {
      "text/html": [
       "<div>\n",
       "<style scoped>\n",
       "    .dataframe tbody tr th:only-of-type {\n",
       "        vertical-align: middle;\n",
       "    }\n",
       "\n",
       "    .dataframe tbody tr th {\n",
       "        vertical-align: top;\n",
       "    }\n",
       "\n",
       "    .dataframe thead th {\n",
       "        text-align: right;\n",
       "    }\n",
       "</style>\n",
       "<table border=\"1\" class=\"dataframe\">\n",
       "  <thead>\n",
       "    <tr style=\"text-align: right;\">\n",
       "      <th></th>\n",
       "      <th>price</th>\n",
       "      <th>lotSize</th>\n",
       "      <th>age</th>\n",
       "      <th>landValue</th>\n",
       "      <th>livingArea</th>\n",
       "      <th>pctCollege</th>\n",
       "      <th>bedrooms</th>\n",
       "      <th>fireplaces</th>\n",
       "      <th>bathrooms</th>\n",
       "      <th>rooms</th>\n",
       "    </tr>\n",
       "  </thead>\n",
       "  <tbody>\n",
       "    <tr>\n",
       "      <th>count</th>\n",
       "      <td>1382.000000</td>\n",
       "      <td>1382.000000</td>\n",
       "      <td>1382.000000</td>\n",
       "      <td>1382.000000</td>\n",
       "      <td>1382.000000</td>\n",
       "      <td>1382.000000</td>\n",
       "      <td>1382.000000</td>\n",
       "      <td>1382.000000</td>\n",
       "      <td>1382.000000</td>\n",
       "      <td>1382.000000</td>\n",
       "    </tr>\n",
       "    <tr>\n",
       "      <th>mean</th>\n",
       "      <td>211977.407381</td>\n",
       "      <td>0.495904</td>\n",
       "      <td>27.996382</td>\n",
       "      <td>35266.005789</td>\n",
       "      <td>1758.619392</td>\n",
       "      <td>55.685962</td>\n",
       "      <td>3.164978</td>\n",
       "      <td>0.610709</td>\n",
       "      <td>1.904848</td>\n",
       "      <td>7.049204</td>\n",
       "    </tr>\n",
       "    <tr>\n",
       "      <th>std</th>\n",
       "      <td>99608.842830</td>\n",
       "      <td>0.661244</td>\n",
       "      <td>29.182973</td>\n",
       "      <td>36616.276086</td>\n",
       "      <td>625.841288</td>\n",
       "      <td>10.316558</td>\n",
       "      <td>0.834791</td>\n",
       "      <td>0.564815</td>\n",
       "      <td>0.661465</td>\n",
       "      <td>2.330519</td>\n",
       "    </tr>\n",
       "    <tr>\n",
       "      <th>min</th>\n",
       "      <td>10300.000000</td>\n",
       "      <td>0.000000</td>\n",
       "      <td>0.000000</td>\n",
       "      <td>300.000000</td>\n",
       "      <td>616.000000</td>\n",
       "      <td>20.000000</td>\n",
       "      <td>1.000000</td>\n",
       "      <td>0.000000</td>\n",
       "      <td>1.000000</td>\n",
       "      <td>2.000000</td>\n",
       "    </tr>\n",
       "    <tr>\n",
       "      <th>25%</th>\n",
       "      <td>145000.000000</td>\n",
       "      <td>0.170000</td>\n",
       "      <td>13.000000</td>\n",
       "      <td>15100.000000</td>\n",
       "      <td>1297.000000</td>\n",
       "      <td>52.000000</td>\n",
       "      <td>3.000000</td>\n",
       "      <td>0.000000</td>\n",
       "      <td>1.500000</td>\n",
       "      <td>5.000000</td>\n",
       "    </tr>\n",
       "    <tr>\n",
       "      <th>50%</th>\n",
       "      <td>188900.000000</td>\n",
       "      <td>0.370000</td>\n",
       "      <td>19.000000</td>\n",
       "      <td>25100.000000</td>\n",
       "      <td>1643.000000</td>\n",
       "      <td>57.000000</td>\n",
       "      <td>3.000000</td>\n",
       "      <td>1.000000</td>\n",
       "      <td>2.000000</td>\n",
       "      <td>7.000000</td>\n",
       "    </tr>\n",
       "    <tr>\n",
       "      <th>75%</th>\n",
       "      <td>259106.500000</td>\n",
       "      <td>0.540000</td>\n",
       "      <td>34.000000</td>\n",
       "      <td>40875.000000</td>\n",
       "      <td>2179.000000</td>\n",
       "      <td>64.000000</td>\n",
       "      <td>4.000000</td>\n",
       "      <td>1.000000</td>\n",
       "      <td>2.500000</td>\n",
       "      <td>9.000000</td>\n",
       "    </tr>\n",
       "    <tr>\n",
       "      <th>max</th>\n",
       "      <td>775000.000000</td>\n",
       "      <td>8.970000</td>\n",
       "      <td>225.000000</td>\n",
       "      <td>412600.000000</td>\n",
       "      <td>5228.000000</td>\n",
       "      <td>82.000000</td>\n",
       "      <td>7.000000</td>\n",
       "      <td>4.000000</td>\n",
       "      <td>4.500000</td>\n",
       "      <td>12.000000</td>\n",
       "    </tr>\n",
       "  </tbody>\n",
       "</table>\n",
       "</div>"
      ],
      "text/plain": [
       "               price      lotSize          age      landValue   livingArea  \\\n",
       "count    1382.000000  1382.000000  1382.000000    1382.000000  1382.000000   \n",
       "mean   211977.407381     0.495904    27.996382   35266.005789  1758.619392   \n",
       "std     99608.842830     0.661244    29.182973   36616.276086   625.841288   \n",
       "min     10300.000000     0.000000     0.000000     300.000000   616.000000   \n",
       "25%    145000.000000     0.170000    13.000000   15100.000000  1297.000000   \n",
       "50%    188900.000000     0.370000    19.000000   25100.000000  1643.000000   \n",
       "75%    259106.500000     0.540000    34.000000   40875.000000  2179.000000   \n",
       "max    775000.000000     8.970000   225.000000  412600.000000  5228.000000   \n",
       "\n",
       "        pctCollege     bedrooms   fireplaces    bathrooms        rooms  \n",
       "count  1382.000000  1382.000000  1382.000000  1382.000000  1382.000000  \n",
       "mean     55.685962     3.164978     0.610709     1.904848     7.049204  \n",
       "std      10.316558     0.834791     0.564815     0.661465     2.330519  \n",
       "min      20.000000     1.000000     0.000000     1.000000     2.000000  \n",
       "25%      52.000000     3.000000     0.000000     1.500000     5.000000  \n",
       "50%      57.000000     3.000000     1.000000     2.000000     7.000000  \n",
       "75%      64.000000     4.000000     1.000000     2.500000     9.000000  \n",
       "max      82.000000     7.000000     4.000000     4.500000    12.000000  "
      ]
     },
     "execution_count": 13,
     "metadata": {},
     "output_type": "execute_result"
    }
   ],
   "source": [
    "train_set.describe()"
   ]
  },
  {
   "cell_type": "markdown",
   "id": "584ece0d",
   "metadata": {},
   "source": [
    "#### Understand Correlation"
   ]
  },
  {
   "cell_type": "markdown",
   "id": "9e1df169",
   "metadata": {},
   "source": [
    "livingArea is correlated with multiple other features which may have a negative affect on our model. Bedrooms and rooms may also affect our model negatively. I would like to see how the model performs both with and without these features."
   ]
  },
  {
   "cell_type": "code",
   "execution_count": 14,
   "id": "f263c04b",
   "metadata": {},
   "outputs": [
    {
     "data": {
      "text/plain": [
       "<AxesSubplot:>"
      ]
     },
     "execution_count": 14,
     "metadata": {},
     "output_type": "execute_result"
    },
    {
     "data": {
      "image/png": "[encoded data removed]",
      "text/plain": [
       "<Figure size 432x288 with 2 Axes>"
      ]
     },
     "metadata": {
      "needs_background": "light"
     },
     "output_type": "display_data"
    }
   ],
   "source": [
    "sns.heatmap(train_set.corr(), annot=True)"
   ]
  },
  {
   "cell_type": "markdown",
   "id": "2b6e159c",
   "metadata": {},
   "source": [
    "#### Understand Categorical Data"
   ]
  },
  {
   "cell_type": "markdown",
   "id": "6498f605",
   "metadata": {},
   "source": [
    "It may be useful to see how the frequency of the categorical levels compare."
   ]
  },
  {
   "cell_type": "code",
   "execution_count": 15,
   "id": "8d68ce4f",
   "metadata": {},
   "outputs": [
    {
     "name": "stdout",
     "output_type": "stream",
     "text": [
      "heating ['hot air' 'electric' 'hot water/steam']\n",
      "fuel ['gas' 'electric' 'oil']\n",
      "sewer ['public/commercial' 'septic' 'none']\n",
      "waterfront ['No' 'Yes']\n",
      "newConstruction ['No' 'Yes']\n",
      "centralAir ['No' 'Yes']\n"
     ]
    }
   ],
   "source": [
    "\n",
    "\n",
    "my_selector = selector(dtype_include=object)\n",
    "categorical = my_selector(train_set)\n",
    "\n",
    "# print the levels of the categorical variables\n",
    "def levels(df, features):\n",
    "    [print(feature, df[feature].unique()) for feature in features]\n",
    "\n",
    "levels(train_set, categorical)\n"
   ]
  },
  {
   "cell_type": "markdown",
   "id": "d869b430",
   "metadata": {},
   "source": [
    "Barcharts are created to see how these levels balance."
   ]
  },
  {
   "cell_type": "code",
   "execution_count": 63,
   "id": "d8cff151",
   "metadata": {},
   "outputs": [
    {
     "data": {
      "image/png": "[encoded data removed]",
      "text/plain": [
       "<Figure size 432x288 with 1 Axes>"
      ]
     },
     "metadata": {
      "needs_background": "light"
     },
     "output_type": "display_data"
    },
    {
     "data": {
      "image/png": "[encoded data removed]",
      "text/plain": [
       "<Figure size 432x288 with 1 Axes>"
      ]
     },
     "metadata": {
      "needs_background": "light"
     },
     "output_type": "display_data"
    },
    {
     "data": {
      "image/png": "[encoded data removed]",
      "text/plain": [
       "<Figure size 432x288 with 1 Axes>"
      ]
     },
     "metadata": {
      "needs_background": "light"
     },
     "output_type": "display_data"
    },
    {
     "data": {
      "image/png": "[encoded data removed]",
      "text/plain": [
       "<Figure size 432x288 with 1 Axes>"
      ]
     },
     "metadata": {
      "needs_background": "light"
     },
     "output_type": "display_data"
    },
    {
     "data": {
      "image/png": "[encoded data removed]",
      "text/plain": [
       "<Figure size 432x288 with 1 Axes>"
      ]
     },
     "metadata": {
      "needs_background": "light"
     },
     "output_type": "display_data"
    },
    {
     "data": {
      "image/png": "[encoded data removed]",
      "text/plain": [
       "<Figure size 432x288 with 1 Axes>"
      ]
     },
     "metadata": {
      "needs_background": "light"
     },
     "output_type": "display_data"
    }
   ],
   "source": [
    "def plot_categorical(df, features):\n",
    "    for feature in features:\n",
    "        df[feature].value_counts().plot(kind='bar')\n",
    "        plt.title(feature)\n",
    "        plt.ylabel('Count')\n",
    "        plt.show()\n",
    "plot_categorical(train_set, categorical)\n",
    "\n"
   ]
  },
  {
   "cell_type": "markdown",
   "id": "52522b9c",
   "metadata": {},
   "source": [
    "Compare categorical levels with their mean price"
   ]
  },
  {
   "cell_type": "code",
   "execution_count": 62,
   "id": "aaec02af",
   "metadata": {},
   "outputs": [
    {
     "data": {
      "image/png": "[encoded data removed]",
      "text/plain": [
       "<Figure size 432x288 with 1 Axes>"
      ]
     },
     "metadata": {
      "needs_background": "light"
     },
     "output_type": "display_data"
    },
    {
     "data": {
      "image/png": "[encoded data removed]",
      "text/plain": [
       "<Figure size 432x288 with 1 Axes>"
      ]
     },
     "metadata": {
      "needs_background": "light"
     },
     "output_type": "display_data"
    },
    {
     "data": {
      "image/png": "[encoded data removed]",
      "text/plain": [
       "<Figure size 432x288 with 1 Axes>"
      ]
     },
     "metadata": {
      "needs_background": "light"
     },
     "output_type": "display_data"
    },
    {
     "data": {
      "image/png": "[encoded data removed]",
      "text/plain": [
       "<Figure size 432x288 with 1 Axes>"
      ]
     },
     "metadata": {
      "needs_background": "light"
     },
     "output_type": "display_data"
    },
    {
     "data": {
      "image/png": "[encoded data removed]",
      "text/plain": [
       "<Figure size 432x288 with 1 Axes>"
      ]
     },
     "metadata": {
      "needs_background": "light"
     },
     "output_type": "display_data"
    },
    {
     "data": {
      "image/png": "[encoded data removed]",
      "text/plain": [
       "<Figure size 432x288 with 1 Axes>"
      ]
     },
     "metadata": {
      "needs_background": "light"
     },
     "output_type": "display_data"
    }
   ],
   "source": [
    "def compare_categorical(df, features, target):\n",
    "    for feature in features:\n",
    "        df.groupby(feature).mean()[target].plot(kind='bar')\n",
    "        plt.title(feature)\n",
    "        plt.ylabel(target)\n",
    "        plt.show()\n",
    "compare_categorical(train_set, categorical, 'price')\n"
   ]
  },
  {
   "cell_type": "markdown",
   "id": "7eb8f023",
   "metadata": {},
   "source": [
    "## Pipeline"
   ]
  },
  {
   "cell_type": "markdown",
   "id": "272460c9",
   "metadata": {},
   "source": [
    "### Train_Test_Split"
   ]
  },
  {
   "cell_type": "code",
   "execution_count": 18,
   "id": "f5de3203",
   "metadata": {},
   "outputs": [],
   "source": [
    "\n",
    "X_train, y_train = train_test_split(train_set, \n",
    "                                       test_size = 0.2,\n",
    "                                      random_state = 0)"
   ]
  },
  {
   "cell_type": "code",
   "execution_count": 19,
   "id": "3aec2d48",
   "metadata": {},
   "outputs": [
    {
     "data": {
      "text/html": [
       "<div>\n",
       "<style scoped>\n",
       "    .dataframe tbody tr th:only-of-type {\n",
       "        vertical-align: middle;\n",
       "    }\n",
       "\n",
       "    .dataframe tbody tr th {\n",
       "        vertical-align: top;\n",
       "    }\n",
       "\n",
       "    .dataframe thead th {\n",
       "        text-align: right;\n",
       "    }\n",
       "</style>\n",
       "<table border=\"1\" class=\"dataframe\">\n",
       "  <thead>\n",
       "    <tr style=\"text-align: right;\">\n",
       "      <th></th>\n",
       "      <th>price</th>\n",
       "      <th>lotSize</th>\n",
       "      <th>age</th>\n",
       "      <th>landValue</th>\n",
       "      <th>livingArea</th>\n",
       "      <th>pctCollege</th>\n",
       "      <th>bedrooms</th>\n",
       "      <th>fireplaces</th>\n",
       "      <th>bathrooms</th>\n",
       "      <th>rooms</th>\n",
       "      <th>heating</th>\n",
       "      <th>fuel</th>\n",
       "      <th>sewer</th>\n",
       "      <th>waterfront</th>\n",
       "      <th>newConstruction</th>\n",
       "      <th>centralAir</th>\n",
       "    </tr>\n",
       "  </thead>\n",
       "  <tbody>\n",
       "    <tr>\n",
       "      <th>1649</th>\n",
       "      <td>153000</td>\n",
       "      <td>0.11</td>\n",
       "      <td>16</td>\n",
       "      <td>2900</td>\n",
       "      <td>1480</td>\n",
       "      <td>40</td>\n",
       "      <td>2</td>\n",
       "      <td>0</td>\n",
       "      <td>2.5</td>\n",
       "      <td>4</td>\n",
       "      <td>hot air</td>\n",
       "      <td>gas</td>\n",
       "      <td>public/commercial</td>\n",
       "      <td>No</td>\n",
       "      <td>No</td>\n",
       "      <td>No</td>\n",
       "    </tr>\n",
       "    <tr>\n",
       "      <th>1465</th>\n",
       "      <td>223000</td>\n",
       "      <td>0.33</td>\n",
       "      <td>18</td>\n",
       "      <td>27000</td>\n",
       "      <td>1360</td>\n",
       "      <td>40</td>\n",
       "      <td>3</td>\n",
       "      <td>1</td>\n",
       "      <td>1.5</td>\n",
       "      <td>8</td>\n",
       "      <td>electric</td>\n",
       "      <td>electric</td>\n",
       "      <td>public/commercial</td>\n",
       "      <td>No</td>\n",
       "      <td>No</td>\n",
       "      <td>No</td>\n",
       "    </tr>\n",
       "    <tr>\n",
       "      <th>361</th>\n",
       "      <td>178500</td>\n",
       "      <td>1.00</td>\n",
       "      <td>12</td>\n",
       "      <td>32000</td>\n",
       "      <td>1952</td>\n",
       "      <td>71</td>\n",
       "      <td>3</td>\n",
       "      <td>2</td>\n",
       "      <td>2.0</td>\n",
       "      <td>9</td>\n",
       "      <td>hot air</td>\n",
       "      <td>oil</td>\n",
       "      <td>septic</td>\n",
       "      <td>No</td>\n",
       "      <td>No</td>\n",
       "      <td>No</td>\n",
       "    </tr>\n",
       "    <tr>\n",
       "      <th>315</th>\n",
       "      <td>168500</td>\n",
       "      <td>0.44</td>\n",
       "      <td>34</td>\n",
       "      <td>31800</td>\n",
       "      <td>1586</td>\n",
       "      <td>64</td>\n",
       "      <td>3</td>\n",
       "      <td>1</td>\n",
       "      <td>1.5</td>\n",
       "      <td>7</td>\n",
       "      <td>hot air</td>\n",
       "      <td>gas</td>\n",
       "      <td>public/commercial</td>\n",
       "      <td>No</td>\n",
       "      <td>No</td>\n",
       "      <td>No</td>\n",
       "    </tr>\n",
       "    <tr>\n",
       "      <th>1372</th>\n",
       "      <td>167500</td>\n",
       "      <td>0.16</td>\n",
       "      <td>18</td>\n",
       "      <td>15100</td>\n",
       "      <td>1492</td>\n",
       "      <td>40</td>\n",
       "      <td>3</td>\n",
       "      <td>0</td>\n",
       "      <td>2.5</td>\n",
       "      <td>6</td>\n",
       "      <td>electric</td>\n",
       "      <td>electric</td>\n",
       "      <td>public/commercial</td>\n",
       "      <td>No</td>\n",
       "      <td>No</td>\n",
       "      <td>No</td>\n",
       "    </tr>\n",
       "  </tbody>\n",
       "</table>\n",
       "</div>"
      ],
      "text/plain": [
       "       price  lotSize  age  landValue  livingArea  pctCollege  bedrooms  \\\n",
       "1649  153000     0.11   16       2900        1480          40         2   \n",
       "1465  223000     0.33   18      27000        1360          40         3   \n",
       "361   178500     1.00   12      32000        1952          71         3   \n",
       "315   168500     0.44   34      31800        1586          64         3   \n",
       "1372  167500     0.16   18      15100        1492          40         3   \n",
       "\n",
       "      fireplaces  bathrooms  rooms   heating      fuel              sewer  \\\n",
       "1649           0        2.5      4   hot air       gas  public/commercial   \n",
       "1465           1        1.5      8  electric  electric  public/commercial   \n",
       "361            2        2.0      9   hot air       oil             septic   \n",
       "315            1        1.5      7   hot air       gas  public/commercial   \n",
       "1372           0        2.5      6  electric  electric  public/commercial   \n",
       "\n",
       "     waterfront newConstruction centralAir  \n",
       "1649         No              No         No  \n",
       "1465         No              No         No  \n",
       "361          No              No         No  \n",
       "315          No              No         No  \n",
       "1372         No              No         No  "
      ]
     },
     "execution_count": 19,
     "metadata": {},
     "output_type": "execute_result"
    }
   ],
   "source": [
    "train_set.head()"
   ]
  },
  {
   "cell_type": "code",
   "execution_count": 20,
   "id": "be8ee289",
   "metadata": {},
   "outputs": [
    {
     "data": {
      "text/html": [
       "<div>\n",
       "<style scoped>\n",
       "    .dataframe tbody tr th:only-of-type {\n",
       "        vertical-align: middle;\n",
       "    }\n",
       "\n",
       "    .dataframe tbody tr th {\n",
       "        vertical-align: top;\n",
       "    }\n",
       "\n",
       "    .dataframe thead th {\n",
       "        text-align: right;\n",
       "    }\n",
       "</style>\n",
       "<table border=\"1\" class=\"dataframe\">\n",
       "  <thead>\n",
       "    <tr style=\"text-align: right;\">\n",
       "      <th></th>\n",
       "      <th>price</th>\n",
       "      <th>lotSize</th>\n",
       "      <th>age</th>\n",
       "      <th>landValue</th>\n",
       "      <th>livingArea</th>\n",
       "      <th>pctCollege</th>\n",
       "      <th>bedrooms</th>\n",
       "      <th>fireplaces</th>\n",
       "      <th>bathrooms</th>\n",
       "      <th>rooms</th>\n",
       "      <th>heating</th>\n",
       "      <th>fuel</th>\n",
       "      <th>sewer</th>\n",
       "      <th>waterfront</th>\n",
       "      <th>newConstruction</th>\n",
       "      <th>centralAir</th>\n",
       "    </tr>\n",
       "  </thead>\n",
       "  <tbody>\n",
       "    <tr>\n",
       "      <th>1318</th>\n",
       "      <td>229900</td>\n",
       "      <td>0.44</td>\n",
       "      <td>7</td>\n",
       "      <td>24200</td>\n",
       "      <td>1328</td>\n",
       "      <td>64</td>\n",
       "      <td>3</td>\n",
       "      <td>1</td>\n",
       "      <td>2.5</td>\n",
       "      <td>8</td>\n",
       "      <td>hot air</td>\n",
       "      <td>gas</td>\n",
       "      <td>public/commercial</td>\n",
       "      <td>No</td>\n",
       "      <td>No</td>\n",
       "      <td>No</td>\n",
       "    </tr>\n",
       "    <tr>\n",
       "      <th>124</th>\n",
       "      <td>158000</td>\n",
       "      <td>0.52</td>\n",
       "      <td>0</td>\n",
       "      <td>4400</td>\n",
       "      <td>2098</td>\n",
       "      <td>44</td>\n",
       "      <td>3</td>\n",
       "      <td>0</td>\n",
       "      <td>2.0</td>\n",
       "      <td>7</td>\n",
       "      <td>hot air</td>\n",
       "      <td>gas</td>\n",
       "      <td>septic</td>\n",
       "      <td>No</td>\n",
       "      <td>Yes</td>\n",
       "      <td>Yes</td>\n",
       "    </tr>\n",
       "    <tr>\n",
       "      <th>648</th>\n",
       "      <td>367500</td>\n",
       "      <td>0.27</td>\n",
       "      <td>2</td>\n",
       "      <td>78200</td>\n",
       "      <td>2205</td>\n",
       "      <td>57</td>\n",
       "      <td>3</td>\n",
       "      <td>1</td>\n",
       "      <td>2.5</td>\n",
       "      <td>10</td>\n",
       "      <td>hot air</td>\n",
       "      <td>gas</td>\n",
       "      <td>public/commercial</td>\n",
       "      <td>No</td>\n",
       "      <td>No</td>\n",
       "      <td>Yes</td>\n",
       "    </tr>\n",
       "    <tr>\n",
       "      <th>249</th>\n",
       "      <td>128850</td>\n",
       "      <td>0.92</td>\n",
       "      <td>16</td>\n",
       "      <td>5500</td>\n",
       "      <td>824</td>\n",
       "      <td>45</td>\n",
       "      <td>3</td>\n",
       "      <td>0</td>\n",
       "      <td>1.5</td>\n",
       "      <td>5</td>\n",
       "      <td>electric</td>\n",
       "      <td>electric</td>\n",
       "      <td>septic</td>\n",
       "      <td>No</td>\n",
       "      <td>No</td>\n",
       "      <td>No</td>\n",
       "    </tr>\n",
       "    <tr>\n",
       "      <th>1599</th>\n",
       "      <td>290000</td>\n",
       "      <td>0.61</td>\n",
       "      <td>34</td>\n",
       "      <td>32300</td>\n",
       "      <td>2728</td>\n",
       "      <td>64</td>\n",
       "      <td>4</td>\n",
       "      <td>1</td>\n",
       "      <td>2.5</td>\n",
       "      <td>10</td>\n",
       "      <td>hot water/steam</td>\n",
       "      <td>gas</td>\n",
       "      <td>public/commercial</td>\n",
       "      <td>No</td>\n",
       "      <td>No</td>\n",
       "      <td>No</td>\n",
       "    </tr>\n",
       "  </tbody>\n",
       "</table>\n",
       "</div>"
      ],
      "text/plain": [
       "       price  lotSize  age  landValue  livingArea  pctCollege  bedrooms  \\\n",
       "1318  229900     0.44    7      24200        1328          64         3   \n",
       "124   158000     0.52    0       4400        2098          44         3   \n",
       "648   367500     0.27    2      78200        2205          57         3   \n",
       "249   128850     0.92   16       5500         824          45         3   \n",
       "1599  290000     0.61   34      32300        2728          64         4   \n",
       "\n",
       "      fireplaces  bathrooms  rooms          heating      fuel  \\\n",
       "1318           1        2.5      8          hot air       gas   \n",
       "124            0        2.0      7          hot air       gas   \n",
       "648            1        2.5     10          hot air       gas   \n",
       "249            0        1.5      5         electric  electric   \n",
       "1599           1        2.5     10  hot water/steam       gas   \n",
       "\n",
       "                  sewer waterfront newConstruction centralAir  \n",
       "1318  public/commercial         No              No         No  \n",
       "124              septic         No             Yes        Yes  \n",
       "648   public/commercial         No              No        Yes  \n",
       "249              septic         No              No         No  \n",
       "1599  public/commercial         No              No         No  "
      ]
     },
     "execution_count": 20,
     "metadata": {},
     "output_type": "execute_result"
    }
   ],
   "source": [
    "test_set.head()"
   ]
  },
  {
   "cell_type": "markdown",
   "id": "4ce90750",
   "metadata": {},
   "source": [
    "#### Split data"
   ]
  },
  {
   "cell_type": "markdown",
   "id": "44609a88",
   "metadata": {},
   "source": [
    "Separate the predictors and the labels since we don't\n",
    "necessarily want to apply the same transformations\n",
    "to the predictors and the target values."
   ]
  },
  {
   "cell_type": "code",
   "execution_count": 21,
   "id": "492fedd0",
   "metadata": {},
   "outputs": [],
   "source": [
    "X_train = train_set.drop(\"price\", axis=1) # drop labels for training set\n",
    "y_train = train_set[\"price\"].copy()\n",
    "X_test = test_set.drop(\"price\", axis=1)\n",
    "y_test = test_set[\"price\"].copy()"
   ]
  },
  {
   "cell_type": "markdown",
   "id": "63f00cbc",
   "metadata": {},
   "source": [
    "### Transform Data"
   ]
  },
  {
   "cell_type": "markdown",
   "id": "2e6bbda2",
   "metadata": {},
   "source": [
    "#### Get different types of data"
   ]
  },
  {
   "cell_type": "code",
   "execution_count": 23,
   "id": "b311e0f7",
   "metadata": {},
   "outputs": [
    {
     "name": "stdout",
     "output_type": "stream",
     "text": [
      "Features length: 15 \n",
      "Collected data:  15\n",
      "Numerical:  9\n",
      "Nominal: 6\n"
     ]
    }
   ],
   "source": [
    "# splits the data into categorical and numerical features\n",
    "def split_columns(df):\n",
    "      my_selector = selector(dtype_include=int)\n",
    "      numerical_int = my_selector(df)\n",
    "      my_selector = selector(dtype_include=float)\n",
    "      numerical_float = my_selector(df)\n",
    "      my_selector = selector(dtype_include=object)\n",
    "      categorical = my_selector(df)\n",
    "      return numerical_int, numerical_float, categorical\n",
    "\n",
    "numerical_int, numerical_float, nominal = split_columns(X_train)\n",
    "print(\"Features length:\", len(X_train.columns), \"\\nCollected data: \",\n",
    "      len(numerical_int) + len(nominal) + len(numerical_float))\n",
    "numerical = numerical_int + numerical_float\n",
    "print(\"Numerical: \", len(numerical))\n",
    "print(\"Nominal:\",len(nominal))\n"
   ]
  },
  {
   "cell_type": "markdown",
   "id": "aa372aca",
   "metadata": {},
   "source": [
    "#### Make Pipelines"
   ]
  },
  {
   "cell_type": "markdown",
   "id": "1750d56f",
   "metadata": {},
   "source": [
    "We have all the data separated into their corresponding groups. Note that all of our categorical variables are nominal, so we do not need an ordinal pipeline."
   ]
  },
  {
   "cell_type": "code",
   "execution_count": 53,
   "id": "33b0e20c",
   "metadata": {},
   "outputs": [],
   "source": [
    "numerical_pipeline = Pipeline([('imputer', SimpleImputer(strategy='mean')),\n",
    "                               ('scaler', StandardScaler())])\n",
    "# one hot encoder to convert nominal data into binary data.\n",
    "nominal_pipeline = Pipeline([('imputer', SimpleImputer(strategy='most_frequent')),\n",
    "                             ('encoder', OneHotEncoder(handle_unknown='ignore'))])\n"
   ]
  },
  {
   "cell_type": "markdown",
   "id": "b4e5b7fa",
   "metadata": {},
   "source": [
    "#### Create pre-processor"
   ]
  },
  {
   "cell_type": "markdown",
   "id": "b3636473",
   "metadata": {},
   "source": [
    "Create the column transformer to simplify our data into all numerical"
   ]
  },
  {
   "cell_type": "code",
   "execution_count": 56,
   "id": "a6bf5dbc",
   "metadata": {},
   "outputs": [
    {
     "data": {
      "text/html": [
       "<style>#sk-container-id-6 {color: black;background-color: white;}#sk-container-id-6 pre{padding: 0;}#sk-container-id-6 div.sk-toggleable {background-color: white;}#sk-container-id-6 label.sk-toggleable__label {cursor: pointer;display: block;width: 100%;margin-bottom: 0;padding: 0.3em;box-sizing: border-box;text-align: center;}#sk-container-id-6 label.sk-toggleable__label-arrow:before {content: \"▸\";float: left;margin-right: 0.25em;color: #696969;}#sk-container-id-6 label.sk-toggleable__label-arrow:hover:before {color: black;}#sk-container-id-6 div.sk-estimator:hover label.sk-toggleable__label-arrow:before {color: black;}#sk-container-id-6 div.sk-toggleable__content {max-height: 0;max-width: 0;overflow: hidden;text-align: left;background-color: #f0f8ff;}#sk-container-id-6 div.sk-toggleable__content pre {margin: 0.2em;color: black;border-radius: 0.25em;background-color: #f0f8ff;}#sk-container-id-6 input.sk-toggleable__control:checked~div.sk-toggleable__content {max-height: 200px;max-width: 100%;overflow: auto;}#sk-container-id-6 input.sk-toggleable__control:checked~label.sk-toggleable__label-arrow:before {content: \"▾\";}#sk-container-id-6 div.sk-estimator input.sk-toggleable__control:checked~label.sk-toggleable__label {background-color: #d4ebff;}#sk-container-id-6 div.sk-label input.sk-toggleable__control:checked~label.sk-toggleable__label {background-color: #d4ebff;}#sk-container-id-6 input.sk-hidden--visually {border: 0;clip: rect(1px 1px 1px 1px);clip: rect(1px, 1px, 1px, 1px);height: 1px;margin: -1px;overflow: hidden;padding: 0;position: absolute;width: 1px;}#sk-container-id-6 div.sk-estimator {font-family: monospace;background-color: #f0f8ff;border: 1px dotted black;border-radius: 0.25em;box-sizing: border-box;margin-bottom: 0.5em;}#sk-container-id-6 div.sk-estimator:hover {background-color: #d4ebff;}#sk-container-id-6 div.sk-parallel-item::after {content: \"\";width: 100%;border-bottom: 1px solid gray;flex-grow: 1;}#sk-container-id-6 div.sk-label:hover label.sk-toggleable__label {background-color: #d4ebff;}#sk-container-id-6 div.sk-serial::before {content: \"\";position: absolute;border-left: 1px solid gray;box-sizing: border-box;top: 0;bottom: 0;left: 50%;z-index: 0;}#sk-container-id-6 div.sk-serial {display: flex;flex-direction: column;align-items: center;background-color: white;padding-right: 0.2em;padding-left: 0.2em;position: relative;}#sk-container-id-6 div.sk-item {position: relative;z-index: 1;}#sk-container-id-6 div.sk-parallel {display: flex;align-items: stretch;justify-content: center;background-color: white;position: relative;}#sk-container-id-6 div.sk-item::before, #sk-container-id-6 div.sk-parallel-item::before {content: \"\";position: absolute;border-left: 1px solid gray;box-sizing: border-box;top: 0;bottom: 0;left: 50%;z-index: -1;}#sk-container-id-6 div.sk-parallel-item {display: flex;flex-direction: column;z-index: 1;position: relative;background-color: white;}#sk-container-id-6 div.sk-parallel-item:first-child::after {align-self: flex-end;width: 50%;}#sk-container-id-6 div.sk-parallel-item:last-child::after {align-self: flex-start;width: 50%;}#sk-container-id-6 div.sk-parallel-item:only-child::after {width: 0;}#sk-container-id-6 div.sk-dashed-wrapped {border: 1px dashed gray;margin: 0 0.4em 0.5em 0.4em;box-sizing: border-box;padding-bottom: 0.4em;background-color: white;}#sk-container-id-6 div.sk-label label {font-family: monospace;font-weight: bold;display: inline-block;line-height: 1.2em;}#sk-container-id-6 div.sk-label-container {text-align: center;}#sk-container-id-6 div.sk-container {/* jupyter's `normalize.less` sets `[hidden] { display: none; }` but bootstrap.min.css set `[hidden] { display: none !important; }` so we also need the `!important` here to be able to override the default hidden behavior on the sphinx rendered scikit-learn.org. See: https://github.com/scikit-learn/scikit-learn/issues/21755 */display: inline-block !important;position: relative;}#sk-container-id-6 div.sk-text-repr-fallback {display: none;}</style><div id=\"sk-container-id-6\" class=\"sk-top-container\"><div class=\"sk-text-repr-fallback\"><pre>ColumnTransformer(transformers=[(&#x27;numerical_transformer&#x27;,\n",
       "                                 Pipeline(steps=[(&#x27;imputer&#x27;, SimpleImputer()),\n",
       "                                                 (&#x27;scaler&#x27;, StandardScaler())]),\n",
       "                                 [&#x27;age&#x27;, &#x27;landValue&#x27;, &#x27;livingArea&#x27;,\n",
       "                                  &#x27;pctCollege&#x27;, &#x27;bedrooms&#x27;, &#x27;fireplaces&#x27;,\n",
       "                                  &#x27;rooms&#x27;, &#x27;lotSize&#x27;, &#x27;bathrooms&#x27;]),\n",
       "                                (&#x27;nominal_transformer&#x27;,\n",
       "                                 Pipeline(steps=[(&#x27;imputer&#x27;,\n",
       "                                                  SimpleImputer(strategy=&#x27;most_frequent&#x27;)),\n",
       "                                                 (&#x27;encoder&#x27;,\n",
       "                                                  OneHotEncoder(handle_unknown=&#x27;ignore&#x27;))]),\n",
       "                                 [&#x27;heating&#x27;, &#x27;fuel&#x27;, &#x27;sewer&#x27;, &#x27;waterfront&#x27;,\n",
       "                                  &#x27;newConstruction&#x27;, &#x27;centralAir&#x27;])])</pre><b>In a Jupyter environment, please rerun this cell to show the HTML representation or trust the notebook. <br />On GitHub, the HTML representation is unable to render, please try loading this page with nbviewer.org.</b></div><div class=\"sk-container\" hidden><div class=\"sk-item sk-dashed-wrapped\"><div class=\"sk-label-container\"><div class=\"sk-label sk-toggleable\"><input class=\"sk-toggleable__control sk-hidden--visually\" id=\"sk-estimator-id-10\" type=\"checkbox\" ><label for=\"sk-estimator-id-10\" class=\"sk-toggleable__label sk-toggleable__label-arrow\">ColumnTransformer</label><div class=\"sk-toggleable__content\"><pre>ColumnTransformer(transformers=[(&#x27;numerical_transformer&#x27;,\n",
       "                                 Pipeline(steps=[(&#x27;imputer&#x27;, SimpleImputer()),\n",
       "                                                 (&#x27;scaler&#x27;, StandardScaler())]),\n",
       "                                 [&#x27;age&#x27;, &#x27;landValue&#x27;, &#x27;livingArea&#x27;,\n",
       "                                  &#x27;pctCollege&#x27;, &#x27;bedrooms&#x27;, &#x27;fireplaces&#x27;,\n",
       "                                  &#x27;rooms&#x27;, &#x27;lotSize&#x27;, &#x27;bathrooms&#x27;]),\n",
       "                                (&#x27;nominal_transformer&#x27;,\n",
       "                                 Pipeline(steps=[(&#x27;imputer&#x27;,\n",
       "                                                  SimpleImputer(strategy=&#x27;most_frequent&#x27;)),\n",
       "                                                 (&#x27;encoder&#x27;,\n",
       "                                                  OneHotEncoder(handle_unknown=&#x27;ignore&#x27;))]),\n",
       "                                 [&#x27;heating&#x27;, &#x27;fuel&#x27;, &#x27;sewer&#x27;, &#x27;waterfront&#x27;,\n",
       "                                  &#x27;newConstruction&#x27;, &#x27;centralAir&#x27;])])</pre></div></div></div><div class=\"sk-parallel\"><div class=\"sk-parallel-item\"><div class=\"sk-item\"><div class=\"sk-label-container\"><div class=\"sk-label sk-toggleable\"><input class=\"sk-toggleable__control sk-hidden--visually\" id=\"sk-estimator-id-11\" type=\"checkbox\" ><label for=\"sk-estimator-id-11\" class=\"sk-toggleable__label sk-toggleable__label-arrow\">numerical_transformer</label><div class=\"sk-toggleable__content\"><pre>[&#x27;age&#x27;, &#x27;landValue&#x27;, &#x27;livingArea&#x27;, &#x27;pctCollege&#x27;, &#x27;bedrooms&#x27;, &#x27;fireplaces&#x27;, &#x27;rooms&#x27;, &#x27;lotSize&#x27;, &#x27;bathrooms&#x27;]</pre></div></div></div><div class=\"sk-serial\"><div class=\"sk-item\"><div class=\"sk-serial\"><div class=\"sk-item\"><div class=\"sk-estimator sk-toggleable\"><input class=\"sk-toggleable__control sk-hidden--visually\" id=\"sk-estimator-id-12\" type=\"checkbox\" ><label for=\"sk-estimator-id-12\" class=\"sk-toggleable__label sk-toggleable__label-arrow\">SimpleImputer</label><div class=\"sk-toggleable__content\"><pre>SimpleImputer()</pre></div></div></div><div class=\"sk-item\"><div class=\"sk-estimator sk-toggleable\"><input class=\"sk-toggleable__control sk-hidden--visually\" id=\"sk-estimator-id-13\" type=\"checkbox\" ><label for=\"sk-estimator-id-13\" class=\"sk-toggleable__label sk-toggleable__label-arrow\">StandardScaler</label><div class=\"sk-toggleable__content\"><pre>StandardScaler()</pre></div></div></div></div></div></div></div></div><div class=\"sk-parallel-item\"><div class=\"sk-item\"><div class=\"sk-label-container\"><div class=\"sk-label sk-toggleable\"><input class=\"sk-toggleable__control sk-hidden--visually\" id=\"sk-estimator-id-14\" type=\"checkbox\" ><label for=\"sk-estimator-id-14\" class=\"sk-toggleable__label sk-toggleable__label-arrow\">nominal_transformer</label><div class=\"sk-toggleable__content\"><pre>[&#x27;heating&#x27;, &#x27;fuel&#x27;, &#x27;sewer&#x27;, &#x27;waterfront&#x27;, &#x27;newConstruction&#x27;, &#x27;centralAir&#x27;]</pre></div></div></div><div class=\"sk-serial\"><div class=\"sk-item\"><div class=\"sk-serial\"><div class=\"sk-item\"><div class=\"sk-estimator sk-toggleable\"><input class=\"sk-toggleable__control sk-hidden--visually\" id=\"sk-estimator-id-15\" type=\"checkbox\" ><label for=\"sk-estimator-id-15\" class=\"sk-toggleable__label sk-toggleable__label-arrow\">SimpleImputer</label><div class=\"sk-toggleable__content\"><pre>SimpleImputer(strategy=&#x27;most_frequent&#x27;)</pre></div></div></div><div class=\"sk-item\"><div class=\"sk-estimator sk-toggleable\"><input class=\"sk-toggleable__control sk-hidden--visually\" id=\"sk-estimator-id-16\" type=\"checkbox\" ><label for=\"sk-estimator-id-16\" class=\"sk-toggleable__label sk-toggleable__label-arrow\">OneHotEncoder</label><div class=\"sk-toggleable__content\"><pre>OneHotEncoder(handle_unknown=&#x27;ignore&#x27;)</pre></div></div></div></div></div></div></div></div></div></div></div></div>"
      ],
      "text/plain": [
       "ColumnTransformer(transformers=[('numerical_transformer',\n",
       "                                 Pipeline(steps=[('imputer', SimpleImputer()),\n",
       "                                                 ('scaler', StandardScaler())]),\n",
       "                                 ['age', 'landValue', 'livingArea',\n",
       "                                  'pctCollege', 'bedrooms', 'fireplaces',\n",
       "                                  'rooms', 'lotSize', 'bathrooms']),\n",
       "                                ('nominal_transformer',\n",
       "                                 Pipeline(steps=[('imputer',\n",
       "                                                  SimpleImputer(strategy='most_frequent')),\n",
       "                                                 ('encoder',\n",
       "                                                  OneHotEncoder(handle_unknown='ignore'))]),\n",
       "                                 ['heating', 'fuel', 'sewer', 'waterfront',\n",
       "                                  'newConstruction', 'centralAir'])])"
      ]
     },
     "execution_count": 56,
     "metadata": {},
     "output_type": "execute_result"
    }
   ],
   "source": [
    "preprocessor = ColumnTransformer([\n",
    "    ('numerical_transformer', numerical_pipeline, numerical),\n",
    "    ('nominal_transformer', nominal_pipeline, nominal)\n",
    "])\n",
    "preprocessor"
   ]
  },
  {
   "cell_type": "markdown",
   "id": "09ffda0d",
   "metadata": {},
   "source": [
    "Our data is ready for a model to fit to it. Transform our data into all numerical, perform scaling and fill in missing values. Afterward fit the training data to a linear regression model."
   ]
  },
  {
   "cell_type": "code",
   "execution_count": 153,
   "id": "f32871bd",
   "metadata": {},
   "outputs": [
    {
     "data": {
      "text/html": [
       "<style>#sk-container-id-9 {color: black;background-color: white;}#sk-container-id-9 pre{padding: 0;}#sk-container-id-9 div.sk-toggleable {background-color: white;}#sk-container-id-9 label.sk-toggleable__label {cursor: pointer;display: block;width: 100%;margin-bottom: 0;padding: 0.3em;box-sizing: border-box;text-align: center;}#sk-container-id-9 label.sk-toggleable__label-arrow:before {content: \"▸\";float: left;margin-right: 0.25em;color: #696969;}#sk-container-id-9 label.sk-toggleable__label-arrow:hover:before {color: black;}#sk-container-id-9 div.sk-estimator:hover label.sk-toggleable__label-arrow:before {color: black;}#sk-container-id-9 div.sk-toggleable__content {max-height: 0;max-width: 0;overflow: hidden;text-align: left;background-color: #f0f8ff;}#sk-container-id-9 div.sk-toggleable__content pre {margin: 0.2em;color: black;border-radius: 0.25em;background-color: #f0f8ff;}#sk-container-id-9 input.sk-toggleable__control:checked~div.sk-toggleable__content {max-height: 200px;max-width: 100%;overflow: auto;}#sk-container-id-9 input.sk-toggleable__control:checked~label.sk-toggleable__label-arrow:before {content: \"▾\";}#sk-container-id-9 div.sk-estimator input.sk-toggleable__control:checked~label.sk-toggleable__label {background-color: #d4ebff;}#sk-container-id-9 div.sk-label input.sk-toggleable__control:checked~label.sk-toggleable__label {background-color: #d4ebff;}#sk-container-id-9 input.sk-hidden--visually {border: 0;clip: rect(1px 1px 1px 1px);clip: rect(1px, 1px, 1px, 1px);height: 1px;margin: -1px;overflow: hidden;padding: 0;position: absolute;width: 1px;}#sk-container-id-9 div.sk-estimator {font-family: monospace;background-color: #f0f8ff;border: 1px dotted black;border-radius: 0.25em;box-sizing: border-box;margin-bottom: 0.5em;}#sk-container-id-9 div.sk-estimator:hover {background-color: #d4ebff;}#sk-container-id-9 div.sk-parallel-item::after {content: \"\";width: 100%;border-bottom: 1px solid gray;flex-grow: 1;}#sk-container-id-9 div.sk-label:hover label.sk-toggleable__label {background-color: #d4ebff;}#sk-container-id-9 div.sk-serial::before {content: \"\";position: absolute;border-left: 1px solid gray;box-sizing: border-box;top: 0;bottom: 0;left: 50%;z-index: 0;}#sk-container-id-9 div.sk-serial {display: flex;flex-direction: column;align-items: center;background-color: white;padding-right: 0.2em;padding-left: 0.2em;position: relative;}#sk-container-id-9 div.sk-item {position: relative;z-index: 1;}#sk-container-id-9 div.sk-parallel {display: flex;align-items: stretch;justify-content: center;background-color: white;position: relative;}#sk-container-id-9 div.sk-item::before, #sk-container-id-9 div.sk-parallel-item::before {content: \"\";position: absolute;border-left: 1px solid gray;box-sizing: border-box;top: 0;bottom: 0;left: 50%;z-index: -1;}#sk-container-id-9 div.sk-parallel-item {display: flex;flex-direction: column;z-index: 1;position: relative;background-color: white;}#sk-container-id-9 div.sk-parallel-item:first-child::after {align-self: flex-end;width: 50%;}#sk-container-id-9 div.sk-parallel-item:last-child::after {align-self: flex-start;width: 50%;}#sk-container-id-9 div.sk-parallel-item:only-child::after {width: 0;}#sk-container-id-9 div.sk-dashed-wrapped {border: 1px dashed gray;margin: 0 0.4em 0.5em 0.4em;box-sizing: border-box;padding-bottom: 0.4em;background-color: white;}#sk-container-id-9 div.sk-label label {font-family: monospace;font-weight: bold;display: inline-block;line-height: 1.2em;}#sk-container-id-9 div.sk-label-container {text-align: center;}#sk-container-id-9 div.sk-container {/* jupyter's `normalize.less` sets `[hidden] { display: none; }` but bootstrap.min.css set `[hidden] { display: none !important; }` so we also need the `!important` here to be able to override the default hidden behavior on the sphinx rendered scikit-learn.org. See: https://github.com/scikit-learn/scikit-learn/issues/21755 */display: inline-block !important;position: relative;}#sk-container-id-9 div.sk-text-repr-fallback {display: none;}</style><div id=\"sk-container-id-9\" class=\"sk-top-container\"><div class=\"sk-text-repr-fallback\"><pre>Pipeline(steps=[(&#x27;preprocessor&#x27;,\n",
       "                 ColumnTransformer(transformers=[(&#x27;numerical_transformer&#x27;,\n",
       "                                                  Pipeline(steps=[(&#x27;imputer&#x27;,\n",
       "                                                                   SimpleImputer()),\n",
       "                                                                  (&#x27;scaler&#x27;,\n",
       "                                                                   StandardScaler())]),\n",
       "                                                  [&#x27;age&#x27;, &#x27;landValue&#x27;,\n",
       "                                                   &#x27;livingArea&#x27;, &#x27;pctCollege&#x27;,\n",
       "                                                   &#x27;bedrooms&#x27;, &#x27;fireplaces&#x27;,\n",
       "                                                   &#x27;rooms&#x27;, &#x27;lotSize&#x27;,\n",
       "                                                   &#x27;bathrooms&#x27;]),\n",
       "                                                 (&#x27;nominal_transformer&#x27;,\n",
       "                                                  Pipeline(steps=[(&#x27;imputer&#x27;,\n",
       "                                                                   SimpleImputer(strategy=&#x27;most_frequent&#x27;)),\n",
       "                                                                  (&#x27;encoder&#x27;,\n",
       "                                                                   OneHotEncoder(handle_unknown=&#x27;ignore&#x27;))]),\n",
       "                                                  [&#x27;heating&#x27;, &#x27;fuel&#x27;, &#x27;sewer&#x27;,\n",
       "                                                   &#x27;waterfront&#x27;,\n",
       "                                                   &#x27;newConstruction&#x27;,\n",
       "                                                   &#x27;centralAir&#x27;])])),\n",
       "                (&#x27;regressor&#x27;, LinearRegression())])</pre><b>In a Jupyter environment, please rerun this cell to show the HTML representation or trust the notebook. <br />On GitHub, the HTML representation is unable to render, please try loading this page with nbviewer.org.</b></div><div class=\"sk-container\" hidden><div class=\"sk-item sk-dashed-wrapped\"><div class=\"sk-label-container\"><div class=\"sk-label sk-toggleable\"><input class=\"sk-toggleable__control sk-hidden--visually\" id=\"sk-estimator-id-35\" type=\"checkbox\" ><label for=\"sk-estimator-id-35\" class=\"sk-toggleable__label sk-toggleable__label-arrow\">Pipeline</label><div class=\"sk-toggleable__content\"><pre>Pipeline(steps=[(&#x27;preprocessor&#x27;,\n",
       "                 ColumnTransformer(transformers=[(&#x27;numerical_transformer&#x27;,\n",
       "                                                  Pipeline(steps=[(&#x27;imputer&#x27;,\n",
       "                                                                   SimpleImputer()),\n",
       "                                                                  (&#x27;scaler&#x27;,\n",
       "                                                                   StandardScaler())]),\n",
       "                                                  [&#x27;age&#x27;, &#x27;landValue&#x27;,\n",
       "                                                   &#x27;livingArea&#x27;, &#x27;pctCollege&#x27;,\n",
       "                                                   &#x27;bedrooms&#x27;, &#x27;fireplaces&#x27;,\n",
       "                                                   &#x27;rooms&#x27;, &#x27;lotSize&#x27;,\n",
       "                                                   &#x27;bathrooms&#x27;]),\n",
       "                                                 (&#x27;nominal_transformer&#x27;,\n",
       "                                                  Pipeline(steps=[(&#x27;imputer&#x27;,\n",
       "                                                                   SimpleImputer(strategy=&#x27;most_frequent&#x27;)),\n",
       "                                                                  (&#x27;encoder&#x27;,\n",
       "                                                                   OneHotEncoder(handle_unknown=&#x27;ignore&#x27;))]),\n",
       "                                                  [&#x27;heating&#x27;, &#x27;fuel&#x27;, &#x27;sewer&#x27;,\n",
       "                                                   &#x27;waterfront&#x27;,\n",
       "                                                   &#x27;newConstruction&#x27;,\n",
       "                                                   &#x27;centralAir&#x27;])])),\n",
       "                (&#x27;regressor&#x27;, LinearRegression())])</pre></div></div></div><div class=\"sk-serial\"><div class=\"sk-item sk-dashed-wrapped\"><div class=\"sk-label-container\"><div class=\"sk-label sk-toggleable\"><input class=\"sk-toggleable__control sk-hidden--visually\" id=\"sk-estimator-id-36\" type=\"checkbox\" ><label for=\"sk-estimator-id-36\" class=\"sk-toggleable__label sk-toggleable__label-arrow\">preprocessor: ColumnTransformer</label><div class=\"sk-toggleable__content\"><pre>ColumnTransformer(transformers=[(&#x27;numerical_transformer&#x27;,\n",
       "                                 Pipeline(steps=[(&#x27;imputer&#x27;, SimpleImputer()),\n",
       "                                                 (&#x27;scaler&#x27;, StandardScaler())]),\n",
       "                                 [&#x27;age&#x27;, &#x27;landValue&#x27;, &#x27;livingArea&#x27;,\n",
       "                                  &#x27;pctCollege&#x27;, &#x27;bedrooms&#x27;, &#x27;fireplaces&#x27;,\n",
       "                                  &#x27;rooms&#x27;, &#x27;lotSize&#x27;, &#x27;bathrooms&#x27;]),\n",
       "                                (&#x27;nominal_transformer&#x27;,\n",
       "                                 Pipeline(steps=[(&#x27;imputer&#x27;,\n",
       "                                                  SimpleImputer(strategy=&#x27;most_frequent&#x27;)),\n",
       "                                                 (&#x27;encoder&#x27;,\n",
       "                                                  OneHotEncoder(handle_unknown=&#x27;ignore&#x27;))]),\n",
       "                                 [&#x27;heating&#x27;, &#x27;fuel&#x27;, &#x27;sewer&#x27;, &#x27;waterfront&#x27;,\n",
       "                                  &#x27;newConstruction&#x27;, &#x27;centralAir&#x27;])])</pre></div></div></div><div class=\"sk-parallel\"><div class=\"sk-parallel-item\"><div class=\"sk-item\"><div class=\"sk-label-container\"><div class=\"sk-label sk-toggleable\"><input class=\"sk-toggleable__control sk-hidden--visually\" id=\"sk-estimator-id-37\" type=\"checkbox\" ><label for=\"sk-estimator-id-37\" class=\"sk-toggleable__label sk-toggleable__label-arrow\">numerical_transformer</label><div class=\"sk-toggleable__content\"><pre>[&#x27;age&#x27;, &#x27;landValue&#x27;, &#x27;livingArea&#x27;, &#x27;pctCollege&#x27;, &#x27;bedrooms&#x27;, &#x27;fireplaces&#x27;, &#x27;rooms&#x27;, &#x27;lotSize&#x27;, &#x27;bathrooms&#x27;]</pre></div></div></div><div class=\"sk-serial\"><div class=\"sk-item\"><div class=\"sk-serial\"><div class=\"sk-item\"><div class=\"sk-estimator sk-toggleable\"><input class=\"sk-toggleable__control sk-hidden--visually\" id=\"sk-estimator-id-38\" type=\"checkbox\" ><label for=\"sk-estimator-id-38\" class=\"sk-toggleable__label sk-toggleable__label-arrow\">SimpleImputer</label><div class=\"sk-toggleable__content\"><pre>SimpleImputer()</pre></div></div></div><div class=\"sk-item\"><div class=\"sk-estimator sk-toggleable\"><input class=\"sk-toggleable__control sk-hidden--visually\" id=\"sk-estimator-id-39\" type=\"checkbox\" ><label for=\"sk-estimator-id-39\" class=\"sk-toggleable__label sk-toggleable__label-arrow\">StandardScaler</label><div class=\"sk-toggleable__content\"><pre>StandardScaler()</pre></div></div></div></div></div></div></div></div><div class=\"sk-parallel-item\"><div class=\"sk-item\"><div class=\"sk-label-container\"><div class=\"sk-label sk-toggleable\"><input class=\"sk-toggleable__control sk-hidden--visually\" id=\"sk-estimator-id-40\" type=\"checkbox\" ><label for=\"sk-estimator-id-40\" class=\"sk-toggleable__label sk-toggleable__label-arrow\">nominal_transformer</label><div class=\"sk-toggleable__content\"><pre>[&#x27;heating&#x27;, &#x27;fuel&#x27;, &#x27;sewer&#x27;, &#x27;waterfront&#x27;, &#x27;newConstruction&#x27;, &#x27;centralAir&#x27;]</pre></div></div></div><div class=\"sk-serial\"><div class=\"sk-item\"><div class=\"sk-serial\"><div class=\"sk-item\"><div class=\"sk-estimator sk-toggleable\"><input class=\"sk-toggleable__control sk-hidden--visually\" id=\"sk-estimator-id-41\" type=\"checkbox\" ><label for=\"sk-estimator-id-41\" class=\"sk-toggleable__label sk-toggleable__label-arrow\">SimpleImputer</label><div class=\"sk-toggleable__content\"><pre>SimpleImputer(strategy=&#x27;most_frequent&#x27;)</pre></div></div></div><div class=\"sk-item\"><div class=\"sk-estimator sk-toggleable\"><input class=\"sk-toggleable__control sk-hidden--visually\" id=\"sk-estimator-id-42\" type=\"checkbox\" ><label for=\"sk-estimator-id-42\" class=\"sk-toggleable__label sk-toggleable__label-arrow\">OneHotEncoder</label><div class=\"sk-toggleable__content\"><pre>OneHotEncoder(handle_unknown=&#x27;ignore&#x27;)</pre></div></div></div></div></div></div></div></div></div></div><div class=\"sk-item\"><div class=\"sk-estimator sk-toggleable\"><input class=\"sk-toggleable__control sk-hidden--visually\" id=\"sk-estimator-id-43\" type=\"checkbox\" ><label for=\"sk-estimator-id-43\" class=\"sk-toggleable__label sk-toggleable__label-arrow\">LinearRegression</label><div class=\"sk-toggleable__content\"><pre>LinearRegression()</pre></div></div></div></div></div></div></div>"
      ],
      "text/plain": [
       "Pipeline(steps=[('preprocessor',\n",
       "                 ColumnTransformer(transformers=[('numerical_transformer',\n",
       "                                                  Pipeline(steps=[('imputer',\n",
       "                                                                   SimpleImputer()),\n",
       "                                                                  ('scaler',\n",
       "                                                                   StandardScaler())]),\n",
       "                                                  ['age', 'landValue',\n",
       "                                                   'livingArea', 'pctCollege',\n",
       "                                                   'bedrooms', 'fireplaces',\n",
       "                                                   'rooms', 'lotSize',\n",
       "                                                   'bathrooms']),\n",
       "                                                 ('nominal_transformer',\n",
       "                                                  Pipeline(steps=[('imputer',\n",
       "                                                                   SimpleImputer(strategy='most_frequent')),\n",
       "                                                                  ('encoder',\n",
       "                                                                   OneHotEncoder(handle_unknown='ignore'))]),\n",
       "                                                  ['heating', 'fuel', 'sewer',\n",
       "                                                   'waterfront',\n",
       "                                                   'newConstruction',\n",
       "                                                   'centralAir'])])),\n",
       "                ('regressor', LinearRegression())])"
      ]
     },
     "execution_count": 153,
     "metadata": {},
     "output_type": "execute_result"
    }
   ],
   "source": [
    "# transform columns and fit the model\n",
    "lr_model = Pipeline([\n",
    "    ('preprocessor', preprocessor),\n",
    "    ('regressor', LinearRegression())\n",
    "])\n",
    "lr_model"
   ]
  },
  {
   "cell_type": "code",
   "execution_count": 161,
   "id": "c2f6dc68",
   "metadata": {},
   "outputs": [
    {
     "data": {
      "text/html": [
       "<div>\n",
       "<style scoped>\n",
       "    .dataframe tbody tr th:only-of-type {\n",
       "        vertical-align: middle;\n",
       "    }\n",
       "\n",
       "    .dataframe tbody tr th {\n",
       "        vertical-align: top;\n",
       "    }\n",
       "\n",
       "    .dataframe thead th {\n",
       "        text-align: right;\n",
       "    }\n",
       "</style>\n",
       "<table border=\"1\" class=\"dataframe\">\n",
       "  <thead>\n",
       "    <tr style=\"text-align: right;\">\n",
       "      <th></th>\n",
       "      <th>RMSE</th>\n",
       "      <th>MAPE</th>\n",
       "      <th>R^2</th>\n",
       "    </tr>\n",
       "  </thead>\n",
       "  <tbody>\n",
       "    <tr>\n",
       "      <th>Train</th>\n",
       "      <td>58001.634594</td>\n",
       "      <td>22.889198</td>\n",
       "      <td>0.660688</td>\n",
       "    </tr>\n",
       "    <tr>\n",
       "      <th>Test</th>\n",
       "      <td>58315.087556</td>\n",
       "      <td>34.341188</td>\n",
       "      <td>0.612146</td>\n",
       "    </tr>\n",
       "  </tbody>\n",
       "</table>\n",
       "</div>"
      ],
      "text/plain": [
       "               RMSE       MAPE       R^2\n",
       "Train  58001.634594  22.889198  0.660688\n",
       "Test   58315.087556  34.341188  0.612146"
      ]
     },
     "execution_count": 161,
     "metadata": {},
     "output_type": "execute_result"
    }
   ],
   "source": [
    "def all_metrics(model, X_train, y_train, X_test, y_test):\n",
    "    train_predictions = model.fit(X_train, y_train).predict(X_train)\n",
    "    train_RMSE, train_MAPE, train_R_squared = metrics(model, train_predictions, X_train, y_train)\n",
    "    test_predictions = model.fit(X_train, y_train).predict(X_test)\n",
    "    test_RMSE, test_MAPE, test_R_squared = metrics(model, test_predictions, X_test, y_test)\n",
    "    RMSE = [train_RMSE, test_RMSE]\n",
    "    MAPE = [train_MAPE, test_MAPE]\n",
    "    R_squared = [train_R_squared, test_R_squared]\n",
    "    titles = [\"Train\", \"Test\"]\n",
    "    return pd.DataFrame({\"RMSE\": RMSE, \"MAPE\": MAPE, \"R^2\": R_squared}, index=[titles])\n",
    "\n",
    "def metrics(model, predictions, X, y):\n",
    "    RMSE = np.sqrt(mean_squared_error(y, predictions))\n",
    "    MAPE = (np.mean(np.abs((y - predictions) / y))) * 100\n",
    "    R_squared = model.score(X, y)\n",
    "    return RMSE, MAPE, R_squared\n",
    "    \n",
    "all_metrics(lr_model, X_train, y_train, X_test, y_test)\n"
   ]
  },
  {
   "cell_type": "markdown",
   "id": "bc7e1628",
   "metadata": {},
   "source": [
    "## Make Predictions & Evaluate"
   ]
  },
  {
   "cell_type": "markdown",
   "id": "6db2b5ec",
   "metadata": {},
   "source": [
    "#### Predict with Linear Regression"
   ]
  },
  {
   "cell_type": "markdown",
   "id": "c4a83523",
   "metadata": {},
   "source": [
    "Use our linear regression model from our training data to make predictions. Use RMSE to evaluate the model."
   ]
  },
  {
   "cell_type": "code",
   "execution_count": 82,
   "id": "5fdd21fe",
   "metadata": {},
   "outputs": [],
   "source": [
    "def evaluate_model(y, y_predict):\n",
    "        print(\"RMSE on the training set: %.4f\" % \n",
    "              np.sqrt(mean_squared_error(y, y_predict)))"
   ]
  },
  {
   "cell_type": "code",
   "execution_count": 83,
   "id": "a9b72467",
   "metadata": {},
   "outputs": [
    {
     "name": "stdout",
     "output_type": "stream",
     "text": [
      "RMSE on the training set: 58001.6346\n"
     ]
    }
   ],
   "source": [
    "y_train_predicted = lr_model.predict(X_train)\n",
    "evaluate_model(y_train, y_train_predicted)"
   ]
  },
  {
   "cell_type": "markdown",
   "id": "b1439aa0",
   "metadata": {},
   "source": [
    "##### Check relative accuracy"
   ]
  },
  {
   "cell_type": "code",
   "execution_count": 30,
   "id": "c2cba5c5",
   "metadata": {},
   "outputs": [
    {
     "name": "stdout",
     "output_type": "stream",
     "text": [
      "77.1108 % Accuracy\n"
     ]
    },
    {
     "data": {
      "text/html": [
       "<div>\n",
       "<style scoped>\n",
       "    .dataframe tbody tr th:only-of-type {\n",
       "        vertical-align: middle;\n",
       "    }\n",
       "\n",
       "    .dataframe tbody tr th {\n",
       "        vertical-align: top;\n",
       "    }\n",
       "\n",
       "    .dataframe thead th {\n",
       "        text-align: right;\n",
       "    }\n",
       "</style>\n",
       "<table border=\"1\" class=\"dataframe\">\n",
       "  <thead>\n",
       "    <tr style=\"text-align: right;\">\n",
       "      <th></th>\n",
       "      <th>Actual</th>\n",
       "      <th>Predicted</th>\n",
       "      <th>Difference</th>\n",
       "      <th>Difference_percent</th>\n",
       "    </tr>\n",
       "  </thead>\n",
       "  <tbody>\n",
       "    <tr>\n",
       "      <th>1265</th>\n",
       "      <td>300300</td>\n",
       "      <td>169806.567700</td>\n",
       "      <td>130493.432300</td>\n",
       "      <td>43.454356</td>\n",
       "    </tr>\n",
       "    <tr>\n",
       "      <th>1410</th>\n",
       "      <td>195000</td>\n",
       "      <td>185966.387969</td>\n",
       "      <td>9033.612031</td>\n",
       "      <td>4.632622</td>\n",
       "    </tr>\n",
       "    <tr>\n",
       "      <th>1507</th>\n",
       "      <td>410000</td>\n",
       "      <td>344548.373744</td>\n",
       "      <td>65451.626256</td>\n",
       "      <td>15.963811</td>\n",
       "    </tr>\n",
       "    <tr>\n",
       "      <th>1126</th>\n",
       "      <td>195000</td>\n",
       "      <td>211554.036510</td>\n",
       "      <td>16554.036510</td>\n",
       "      <td>8.489249</td>\n",
       "    </tr>\n",
       "    <tr>\n",
       "      <th>700</th>\n",
       "      <td>360000</td>\n",
       "      <td>345579.415814</td>\n",
       "      <td>14420.584186</td>\n",
       "      <td>4.005718</td>\n",
       "    </tr>\n",
       "  </tbody>\n",
       "</table>\n",
       "</div>"
      ],
      "text/plain": [
       "      Actual      Predicted     Difference  Difference_percent\n",
       "1265  300300  169806.567700  130493.432300           43.454356\n",
       "1410  195000  185966.387969    9033.612031            4.632622\n",
       "1507  410000  344548.373744   65451.626256           15.963811\n",
       "1126  195000  211554.036510   16554.036510            8.489249\n",
       "700   360000  345579.415814   14420.584186            4.005718"
      ]
     },
     "execution_count": 30,
     "metadata": {},
     "output_type": "execute_result"
    }
   ],
   "source": [
    "def summarize_results(y_train, y_train_predict):\n",
    "    return pd.DataFrame({'Actual': y_train, 'Predicted': y_train_predict,\n",
    "                        'Difference': abs(y_train - y_train_predict),\n",
    "                        'Difference_percent': (abs(y_train - y_train_predict)/y_train*100)})\n",
    "results = summarize_results(y_train, y_train_predicted)\n",
    "print(round(100 - (results['Difference_percent'].mean()), 4), '% Accuracy')\n",
    "results.sample(5)"
   ]
  },
  {
   "cell_type": "markdown",
   "id": "3c382f55",
   "metadata": {},
   "source": [
    "Visualize how it's predicting."
   ]
  },
  {
   "cell_type": "code",
   "execution_count": 31,
   "id": "6f0c4094",
   "metadata": {},
   "outputs": [
    {
     "data": {
      "image/png": "[encoded data removed]",
      "text/plain": [
       "<Figure size 432x288 with 1 Axes>"
      ]
     },
     "metadata": {
      "needs_background": "light"
     },
     "output_type": "display_data"
    }
   ],
   "source": [
    "def graph_performance(y_train, y_train_predict):\n",
    "    plt.scatter(y_train_predict, y_train)\n",
    "    plt.xlabel('Predicted')\n",
    "    plt.ylabel('Actual')\n",
    "    plt.title('Actual vs Predicted')\n",
    "    plt.xlim(0,800000) # get x and y on the same scale\n",
    "    plt.show()\n",
    "\n",
    "graph_performance(y_train, y_train_predicted)"
   ]
  },
  {
   "cell_type": "code",
   "execution_count": 32,
   "id": "383f1649",
   "metadata": {},
   "outputs": [
    {
     "data": {
      "image/png": "[encoded data removed]",
      "text/plain": [
       "<Figure size 432x288 with 1 Axes>"
      ]
     },
     "metadata": {
      "needs_background": "light"
     },
     "output_type": "display_data"
    }
   ],
   "source": [
    "def results_hist(y_train, y_train_predict):\n",
    "    plt.hist(y_train, bins=50)\n",
    "    plt.hist(y_train_predict, bins=50)\n",
    "    plt.show()\n",
    "results_hist(y_train, y_train_predicted)\n"
   ]
  },
  {
   "cell_type": "markdown",
   "id": "101fe6f3",
   "metadata": {},
   "source": [
    "Check Predictions against test data"
   ]
  },
  {
   "cell_type": "code",
   "execution_count": 67,
   "id": "c6dd86c2",
   "metadata": {},
   "outputs": [
    {
     "name": "stdout",
     "output_type": "stream",
     "text": [
      "RMSE on the training set: 58315.0876\n"
     ]
    },
    {
     "data": {
      "text/html": [
       "<div>\n",
       "<style scoped>\n",
       "    .dataframe tbody tr th:only-of-type {\n",
       "        vertical-align: middle;\n",
       "    }\n",
       "\n",
       "    .dataframe tbody tr th {\n",
       "        vertical-align: top;\n",
       "    }\n",
       "\n",
       "    .dataframe thead th {\n",
       "        text-align: right;\n",
       "    }\n",
       "</style>\n",
       "<table border=\"1\" class=\"dataframe\">\n",
       "  <thead>\n",
       "    <tr style=\"text-align: right;\">\n",
       "      <th></th>\n",
       "      <th>Actual</th>\n",
       "      <th>Predicted</th>\n",
       "      <th>Difference</th>\n",
       "      <th>Difference_percent</th>\n",
       "    </tr>\n",
       "  </thead>\n",
       "  <tbody>\n",
       "    <tr>\n",
       "      <th>1318</th>\n",
       "      <td>229900</td>\n",
       "      <td>191183.525355</td>\n",
       "      <td>38716.474645</td>\n",
       "      <td>16.840572</td>\n",
       "    </tr>\n",
       "    <tr>\n",
       "      <th>124</th>\n",
       "      <td>158000</td>\n",
       "      <td>181526.266751</td>\n",
       "      <td>23526.266751</td>\n",
       "      <td>14.890042</td>\n",
       "    </tr>\n",
       "    <tr>\n",
       "      <th>648</th>\n",
       "      <td>367500</td>\n",
       "      <td>318776.620023</td>\n",
       "      <td>48723.379977</td>\n",
       "      <td>13.258063</td>\n",
       "    </tr>\n",
       "    <tr>\n",
       "      <th>249</th>\n",
       "      <td>128850</td>\n",
       "      <td>103906.947419</td>\n",
       "      <td>24943.052581</td>\n",
       "      <td>19.358209</td>\n",
       "    </tr>\n",
       "    <tr>\n",
       "      <th>1599</th>\n",
       "      <td>290000</td>\n",
       "      <td>283116.565886</td>\n",
       "      <td>6883.434114</td>\n",
       "      <td>2.373598</td>\n",
       "    </tr>\n",
       "    <tr>\n",
       "      <th>...</th>\n",
       "      <td>...</td>\n",
       "      <td>...</td>\n",
       "      <td>...</td>\n",
       "      <td>...</td>\n",
       "    </tr>\n",
       "    <tr>\n",
       "      <th>1481</th>\n",
       "      <td>161000</td>\n",
       "      <td>117199.724159</td>\n",
       "      <td>43800.275841</td>\n",
       "      <td>27.205140</td>\n",
       "    </tr>\n",
       "    <tr>\n",
       "      <th>1327</th>\n",
       "      <td>412000</td>\n",
       "      <td>344355.122074</td>\n",
       "      <td>67644.877926</td>\n",
       "      <td>16.418660</td>\n",
       "    </tr>\n",
       "    <tr>\n",
       "      <th>317</th>\n",
       "      <td>215000</td>\n",
       "      <td>234782.201085</td>\n",
       "      <td>19782.201085</td>\n",
       "      <td>9.201024</td>\n",
       "    </tr>\n",
       "    <tr>\n",
       "      <th>142</th>\n",
       "      <td>259900</td>\n",
       "      <td>247961.721847</td>\n",
       "      <td>11938.278153</td>\n",
       "      <td>4.593412</td>\n",
       "    </tr>\n",
       "    <tr>\n",
       "      <th>427</th>\n",
       "      <td>215000</td>\n",
       "      <td>175727.634151</td>\n",
       "      <td>39272.365849</td>\n",
       "      <td>18.266217</td>\n",
       "    </tr>\n",
       "  </tbody>\n",
       "</table>\n",
       "<p>346 rows × 4 columns</p>\n",
       "</div>"
      ],
      "text/plain": [
       "      Actual      Predicted    Difference  Difference_percent\n",
       "1318  229900  191183.525355  38716.474645           16.840572\n",
       "124   158000  181526.266751  23526.266751           14.890042\n",
       "648   367500  318776.620023  48723.379977           13.258063\n",
       "249   128850  103906.947419  24943.052581           19.358209\n",
       "1599  290000  283116.565886   6883.434114            2.373598\n",
       "...      ...            ...           ...                 ...\n",
       "1481  161000  117199.724159  43800.275841           27.205140\n",
       "1327  412000  344355.122074  67644.877926           16.418660\n",
       "317   215000  234782.201085  19782.201085            9.201024\n",
       "142   259900  247961.721847  11938.278153            4.593412\n",
       "427   215000  175727.634151  39272.365849           18.266217\n",
       "\n",
       "[346 rows x 4 columns]"
      ]
     },
     "execution_count": 67,
     "metadata": {},
     "output_type": "execute_result"
    }
   ],
   "source": [
    "y_test_predicted = lr_model.predict(X_test)\n",
    "evaluate_model(y_test, y_test_predicted)\n",
    "summarize_results(y_test, y_test_predicted)\n"
   ]
  },
  {
   "cell_type": "code",
   "execution_count": 34,
   "id": "9899825e",
   "metadata": {},
   "outputs": [
    {
     "data": {
      "image/png": "[encoded data removed]",
      "text/plain": [
       "<Figure size 432x288 with 1 Axes>"
      ]
     },
     "metadata": {
      "needs_background": "light"
     },
     "output_type": "display_data"
    }
   ],
   "source": [
    "graph_performance(y_test, y_test_predicted)"
   ]
  },
  {
   "cell_type": "code",
   "execution_count": 35,
   "id": "01ef4e2f",
   "metadata": {},
   "outputs": [
    {
     "data": {
      "image/png": "[encoded data removed]",
      "text/plain": [
       "<Figure size 432x288 with 1 Axes>"
      ]
     },
     "metadata": {
      "needs_background": "light"
     },
     "output_type": "display_data"
    }
   ],
   "source": [
    "results_hist(y_test, y_test_predicted)"
   ]
  },
  {
   "cell_type": "markdown",
   "id": "2448fc69",
   "metadata": {},
   "source": [
    "#### Cross Validation"
   ]
  },
  {
   "cell_type": "markdown",
   "id": "fec35fb0",
   "metadata": {},
   "source": [
    "Estimate the expected level of fit of the model using cross validation."
   ]
  },
  {
   "cell_type": "code",
   "execution_count": 36,
   "id": "d6b7be3d",
   "metadata": {},
   "outputs": [
    {
     "name": "stdout",
     "output_type": "stream",
     "text": [
      "The mean cross-validation RMSE is:  59039.5737 +/- 5561.1973\n"
     ]
    }
   ],
   "source": [
    "cv_results = cross_validate(lr_model, X_train, y_train, \n",
    "                            scoring = 'neg_mean_squared_error', cv = 5)\n",
    "scores = np.sqrt(-cv_results[\"test_score\"])\n",
    "print(\"The mean cross-validation RMSE is: \", f\"{scores.mean():.4f} +/- {scores.std():.4f}\")"
   ]
  },
  {
   "cell_type": "markdown",
   "id": "cf164465",
   "metadata": {},
   "source": [
    "#### Support Vector Regressor"
   ]
  },
  {
   "cell_type": "markdown",
   "id": "71d6d887",
   "metadata": {},
   "source": [
    "Fit our data to a support vector regressor to make predictions. Use RMSE again to evaluate, then cross validate and see how it compares to linear regression."
   ]
  },
  {
   "cell_type": "code",
   "execution_count": 37,
   "id": "6c3d427b",
   "metadata": {},
   "outputs": [
    {
     "name": "stdout",
     "output_type": "stream",
     "text": [
      "RMSE on the training set: 58001.6346\n",
      "The mean cross-validation RMSE is:  59039.5737 +/- 5561.1973\n"
     ]
    }
   ],
   "source": [
    "def fit_predict_evaluate(model, X_train, y_train):\n",
    "    model.fit(X_train, y_train)\n",
    "    y_train_predict = model.predict(X_train)\n",
    "    print(\"RMSE on the training set: %.4f\" % np.sqrt(mean_squared_error(y_train, y_train_predict)))\n",
    "    cv_results = cross_validate(model, X_train, y_train, \n",
    "                                scoring = 'neg_mean_squared_error', cv = 5)\n",
    "    scores = np.sqrt(-cv_results[\"test_score\"])\n",
    "    print(\"The mean cross-validation RMSE is: \", f\"{scores.mean():.4f} +/- {scores.std():.4f}\")\n",
    "    \n",
    "fit_predict_evaluate(lr_model, X_train, y_train)"
   ]
  },
  {
   "cell_type": "code",
   "execution_count": 38,
   "id": "6e85e307",
   "metadata": {},
   "outputs": [
    {
     "name": "stdout",
     "output_type": "stream",
     "text": [
      "RMSE on the training set: 102140.8791\n",
      "The mean cross-validation RMSE is:  101823.0893 +/- 9748.5110\n"
     ]
    }
   ],
   "source": [
    "\n",
    "svm_model = Pipeline([\n",
    " ('preprocessor', preprocessor),\n",
    " ('regressor', SVR())\n",
    "])\n",
    "svm_model.fit(X_train, y_train)\n",
    "y_train_predicted = svm_model.predict(X_train)\n",
    "print(\"RMSE on the training set: %.4f\" % np.sqrt(mean_squared_error(y_train, y_train_predicted)))\n",
    "cv_results = cross_validate(svm_model, X_train, y_train, scoring='neg_mean_squared_error', cv=5)\n",
    "scores = np.sqrt(-cv_results[\"test_score\"])\n",
    "print(\"The mean cross-validation RMSE is: \", f\"{scores.mean():.4f} +/- {scores.std():.4f}\")\n"
   ]
  },
  {
   "cell_type": "code",
   "execution_count": 39,
   "id": "594d364a",
   "metadata": {},
   "outputs": [],
   "source": [
    "\n",
    "param_grid = [\n",
    " {'regressor__C': [1000, 10000, 100000, 1000000],\n",
    " 'regressor__gamma': [0.1, 1, 10, 'scale', 'auto']},\n",
    "]\n",
    "grid_search = GridSearchCV(svm_model, param_grid, cv=5, scoring='neg_mean_squared_error', return_train_score=True)\n",
    "grid_search.fit(X_train, y_train);\n",
    "\n"
   ]
  },
  {
   "cell_type": "code",
   "execution_count": 40,
   "id": "d700d670",
   "metadata": {},
   "outputs": [
    {
     "data": {
      "text/plain": [
       "{'regressor__C': 1000000, 'regressor__gamma': 'auto'}"
      ]
     },
     "execution_count": 40,
     "metadata": {},
     "output_type": "execute_result"
    }
   ],
   "source": [
    "grid_search.best_params_"
   ]
  },
  {
   "cell_type": "code",
   "execution_count": 41,
   "id": "facc2162",
   "metadata": {},
   "outputs": [
    {
     "name": "stdout",
     "output_type": "stream",
     "text": [
      "RMSE on the training set: 44483.9022\n"
     ]
    }
   ],
   "source": [
    "y_train_predicted = grid_search.best_estimator_.predict(X_train)\n",
    "print(\"RMSE on the training set: %.4f\" % np.sqrt(mean_squared_error(y_train, y_train_predicted)))\n"
   ]
  },
  {
   "cell_type": "code",
   "execution_count": 42,
   "id": "e02836a5",
   "metadata": {},
   "outputs": [
    {
     "name": "stdout",
     "output_type": "stream",
     "text": [
      "The mean cross-validation RMSE is:  59884.0594 +/- 7617.6770\n"
     ]
    }
   ],
   "source": [
    "cv_results = cross_validate(grid_search.best_estimator_, X_train, y_train,\n",
    "                            scoring='neg_mean_squared_error', cv=5)\n",
    "scores = np.sqrt(-cv_results[\"test_score\"])\n",
    "print(\"The mean cross-validation RMSE is: \", f\"{scores.mean():.4f} +/- {scores.std():.4f}\")"
   ]
  },
  {
   "cell_type": "code",
   "execution_count": 43,
   "id": "7e9bdfc2",
   "metadata": {},
   "outputs": [
    {
     "name": "stdout",
     "output_type": "stream",
     "text": [
      "RMSE of the LinearRegression model on the test set: 58315.0876\n"
     ]
    }
   ],
   "source": [
    "y_test_predicted = lr_model.predict(X_test)\n",
    "print(\"RMSE of the LinearRegression model on the test set: %.4f\" % \n",
    "      np.sqrt(mean_squared_error(y_test, y_test_predicted)))"
   ]
  },
  {
   "cell_type": "code",
   "execution_count": 44,
   "id": "5eb536ce",
   "metadata": {},
   "outputs": [
    {
     "name": "stdout",
     "output_type": "stream",
     "text": [
      "RMSE of the SVR model on the test set: 96359.8000\n"
     ]
    }
   ],
   "source": [
    "y_test_predicted = svm_model.predict(X_test)\n",
    "print(\"RMSE of the SVR model on the test set: %.4f\" % \n",
    "      np.sqrt(mean_squared_error(y_test, y_test_predicted)))\n"
   ]
  },
  {
   "cell_type": "code",
   "execution_count": 45,
   "id": "17abe616",
   "metadata": {},
   "outputs": [
    {
     "name": "stdout",
     "output_type": "stream",
     "text": [
      "RMSE of the optimized SVR model on the test set: 59525.3867\n"
     ]
    }
   ],
   "source": [
    "y_test_predicted = grid_search.best_estimator_.predict(X_test)\n",
    "print(\"RMSE of the optimized SVR model on the test set: %.4f\" % \n",
    "      np.sqrt(mean_squared_error(y_test, y_test_predicted)))"
   ]
  }
 ],
 "metadata": {
  "kernelspec": {
   "display_name": "Python 3.10.5 64-bit",
   "language": "python",
   "name": "python3"
  },
  "language_info": {
   "codemirror_mode": {
    "name": "ipython",
    "version": 3
   },
   "file_extension": ".py",
   "mimetype": "text/x-python",
   "name": "python",
   "nbconvert_exporter": "python",
   "pygments_lexer": "ipython3",
   "version": "3.10.5"
  },
  "vscode": {
   "interpreter": {
    "hash": "369f2c481f4da34e4445cda3fffd2e751bd1c4d706f27375911949ba6bb62e1c"
   }
  }
 },
 "nbformat": 4,
 "nbformat_minor": 5
}
