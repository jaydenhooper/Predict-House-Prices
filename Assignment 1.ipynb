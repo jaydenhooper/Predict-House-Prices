{
 "cells": [
  {
   "cell_type": "markdown",
   "id": "7b702571",
   "metadata": {},
   "source": [
    "# Assignment 1"
   ]
  },
  {
   "cell_type": "markdown",
   "id": "292dab7b",
   "metadata": {},
   "source": [
    "Due Friday 5th August 23:59"
   ]
  },
  {
   "cell_type": "markdown",
   "id": "f6c0caee",
   "metadata": {},
   "source": [
    "## Assignment Outline"
   ]
  },
  {
   "cell_type": "markdown",
   "id": "e3c0fa1d",
   "metadata": {},
   "source": [
    "### Explore data\n",
    "* Inspect the shape and types of data\n",
    "* Visualization\n",
    "* Value counts\n",
    "### Clean data\n",
    "* null\n",
    "* nonsensical \n",
    "### Understand data\n",
    "* Find relationships\n",
    "    * Correlation\n",
    "    * Mean house price against categorical levels\n",
    "* Feature engineering\n",
    "    * livingArea and bedrooms variable?\n",
    "    * lotSize and landValue variable?\n"
   ]
  },
  {
   "cell_type": "code",
   "execution_count": 45,
   "id": "06b028d2",
   "metadata": {},
   "outputs": [],
   "source": [
    "import csv\n",
    "import numpy as np\n",
    "import pandas as pd\n",
    "\n",
    "%matplotlib inline\n",
    "import matplotlib as mpl\n",
    "import matplotlib.pyplot as plt\n",
    "import seaborn as sns\n",
    "\n",
    "from sklearn.model_selection import train_test_split\n",
    "from sklearn.model_selection import train_test_split\n",
    "from sklearn.impute import SimpleImputer\n",
    "from sklearn.preprocessing import OneHotEncoder, MinMaxScaler, StandardScaler\n",
    "from sklearn.pipeline import Pipeline\n",
    "from sklearn.compose import ColumnTransformer\n",
    "from sklearn.compose import make_column_selector as selector\n",
    "from sklearn.linear_model import LinearRegression\n",
    "from sklearn.metrics import mean_squared_error\n",
    "from sklearn.svm import SVR\n",
    "from sklearn.model_selection import GridSearchCV\n",
    "from sklearn.model_selection import cross_validate"
   ]
  },
  {
   "cell_type": "markdown",
   "id": "a14a368f",
   "metadata": {},
   "source": [
    "## Import CSV"
   ]
  },
  {
   "cell_type": "code",
   "execution_count": 46,
   "id": "c0809f5f",
   "metadata": {},
   "outputs": [],
   "source": [
    "\n",
    "\n",
    "with open(\"data.csv\", 'r') as data:\n",
    "    header = csv.reader(data).__next__()\n",
    "\n",
    "# remove unnamed row.\n",
    "houses = pd.read_csv('data.csv', usecols=header[1:])"
   ]
  },
  {
   "cell_type": "markdown",
   "id": "0b2e49d3",
   "metadata": {},
   "source": [
    "## Splitting the data"
   ]
  },
  {
   "cell_type": "code",
   "execution_count": 47,
   "id": "4de161aa",
   "metadata": {},
   "outputs": [],
   "source": [
    "\n",
    "X = houses.drop([\"price\"], axis = 1) # indepedent features\n",
    "y = houses[\"price\"].copy          # dependent variable\n",
    "\n",
    "train_set, test_set = train_test_split(houses, test_size=0.2, random_state=0)\n"
   ]
  },
  {
   "cell_type": "code",
   "execution_count": 48,
   "id": "aba0e497",
   "metadata": {},
   "outputs": [
    {
     "data": {
      "text/html": [
       "<div>\n",
       "<style scoped>\n",
       "    .dataframe tbody tr th:only-of-type {\n",
       "        vertical-align: middle;\n",
       "    }\n",
       "\n",
       "    .dataframe tbody tr th {\n",
       "        vertical-align: top;\n",
       "    }\n",
       "\n",
       "    .dataframe thead th {\n",
       "        text-align: right;\n",
       "    }\n",
       "</style>\n",
       "<table border=\"1\" class=\"dataframe\">\n",
       "  <thead>\n",
       "    <tr style=\"text-align: right;\">\n",
       "      <th></th>\n",
       "      <th>price</th>\n",
       "      <th>lotSize</th>\n",
       "      <th>age</th>\n",
       "      <th>landValue</th>\n",
       "      <th>livingArea</th>\n",
       "      <th>pctCollege</th>\n",
       "      <th>bedrooms</th>\n",
       "      <th>fireplaces</th>\n",
       "      <th>bathrooms</th>\n",
       "      <th>rooms</th>\n",
       "      <th>heating</th>\n",
       "      <th>fuel</th>\n",
       "      <th>sewer</th>\n",
       "      <th>waterfront</th>\n",
       "      <th>newConstruction</th>\n",
       "      <th>centralAir</th>\n",
       "    </tr>\n",
       "  </thead>\n",
       "  <tbody>\n",
       "    <tr>\n",
       "      <th>1649</th>\n",
       "      <td>153000</td>\n",
       "      <td>0.11</td>\n",
       "      <td>16</td>\n",
       "      <td>2900</td>\n",
       "      <td>1480</td>\n",
       "      <td>40</td>\n",
       "      <td>2</td>\n",
       "      <td>0</td>\n",
       "      <td>2.5</td>\n",
       "      <td>4</td>\n",
       "      <td>hot air</td>\n",
       "      <td>gas</td>\n",
       "      <td>public/commercial</td>\n",
       "      <td>No</td>\n",
       "      <td>No</td>\n",
       "      <td>No</td>\n",
       "    </tr>\n",
       "    <tr>\n",
       "      <th>1465</th>\n",
       "      <td>223000</td>\n",
       "      <td>0.33</td>\n",
       "      <td>18</td>\n",
       "      <td>27000</td>\n",
       "      <td>1360</td>\n",
       "      <td>40</td>\n",
       "      <td>3</td>\n",
       "      <td>1</td>\n",
       "      <td>1.5</td>\n",
       "      <td>8</td>\n",
       "      <td>electric</td>\n",
       "      <td>electric</td>\n",
       "      <td>public/commercial</td>\n",
       "      <td>No</td>\n",
       "      <td>No</td>\n",
       "      <td>No</td>\n",
       "    </tr>\n",
       "    <tr>\n",
       "      <th>361</th>\n",
       "      <td>178500</td>\n",
       "      <td>1.00</td>\n",
       "      <td>12</td>\n",
       "      <td>32000</td>\n",
       "      <td>1952</td>\n",
       "      <td>71</td>\n",
       "      <td>3</td>\n",
       "      <td>2</td>\n",
       "      <td>2.0</td>\n",
       "      <td>9</td>\n",
       "      <td>hot air</td>\n",
       "      <td>oil</td>\n",
       "      <td>septic</td>\n",
       "      <td>No</td>\n",
       "      <td>No</td>\n",
       "      <td>No</td>\n",
       "    </tr>\n",
       "    <tr>\n",
       "      <th>315</th>\n",
       "      <td>168500</td>\n",
       "      <td>0.44</td>\n",
       "      <td>34</td>\n",
       "      <td>31800</td>\n",
       "      <td>1586</td>\n",
       "      <td>64</td>\n",
       "      <td>3</td>\n",
       "      <td>1</td>\n",
       "      <td>1.5</td>\n",
       "      <td>7</td>\n",
       "      <td>hot air</td>\n",
       "      <td>gas</td>\n",
       "      <td>public/commercial</td>\n",
       "      <td>No</td>\n",
       "      <td>No</td>\n",
       "      <td>No</td>\n",
       "    </tr>\n",
       "    <tr>\n",
       "      <th>1372</th>\n",
       "      <td>167500</td>\n",
       "      <td>0.16</td>\n",
       "      <td>18</td>\n",
       "      <td>15100</td>\n",
       "      <td>1492</td>\n",
       "      <td>40</td>\n",
       "      <td>3</td>\n",
       "      <td>0</td>\n",
       "      <td>2.5</td>\n",
       "      <td>6</td>\n",
       "      <td>electric</td>\n",
       "      <td>electric</td>\n",
       "      <td>public/commercial</td>\n",
       "      <td>No</td>\n",
       "      <td>No</td>\n",
       "      <td>No</td>\n",
       "    </tr>\n",
       "  </tbody>\n",
       "</table>\n",
       "</div>"
      ],
      "text/plain": [
       "       price  lotSize  age  landValue  livingArea  pctCollege  bedrooms  \\\n",
       "1649  153000     0.11   16       2900        1480          40         2   \n",
       "1465  223000     0.33   18      27000        1360          40         3   \n",
       "361   178500     1.00   12      32000        1952          71         3   \n",
       "315   168500     0.44   34      31800        1586          64         3   \n",
       "1372  167500     0.16   18      15100        1492          40         3   \n",
       "\n",
       "      fireplaces  bathrooms  rooms   heating      fuel              sewer  \\\n",
       "1649           0        2.5      4   hot air       gas  public/commercial   \n",
       "1465           1        1.5      8  electric  electric  public/commercial   \n",
       "361            2        2.0      9   hot air       oil             septic   \n",
       "315            1        1.5      7   hot air       gas  public/commercial   \n",
       "1372           0        2.5      6  electric  electric  public/commercial   \n",
       "\n",
       "     waterfront newConstruction centralAir  \n",
       "1649         No              No         No  \n",
       "1465         No              No         No  \n",
       "361          No              No         No  \n",
       "315          No              No         No  \n",
       "1372         No              No         No  "
      ]
     },
     "execution_count": 48,
     "metadata": {},
     "output_type": "execute_result"
    }
   ],
   "source": [
    "train_set.head()"
   ]
  },
  {
   "cell_type": "code",
   "execution_count": 49,
   "id": "31c97c53",
   "metadata": {},
   "outputs": [
    {
     "data": {
      "text/html": [
       "<div>\n",
       "<style scoped>\n",
       "    .dataframe tbody tr th:only-of-type {\n",
       "        vertical-align: middle;\n",
       "    }\n",
       "\n",
       "    .dataframe tbody tr th {\n",
       "        vertical-align: top;\n",
       "    }\n",
       "\n",
       "    .dataframe thead th {\n",
       "        text-align: right;\n",
       "    }\n",
       "</style>\n",
       "<table border=\"1\" class=\"dataframe\">\n",
       "  <thead>\n",
       "    <tr style=\"text-align: right;\">\n",
       "      <th></th>\n",
       "      <th>price</th>\n",
       "      <th>lotSize</th>\n",
       "      <th>age</th>\n",
       "      <th>landValue</th>\n",
       "      <th>livingArea</th>\n",
       "      <th>pctCollege</th>\n",
       "      <th>bedrooms</th>\n",
       "      <th>fireplaces</th>\n",
       "      <th>bathrooms</th>\n",
       "      <th>rooms</th>\n",
       "      <th>heating</th>\n",
       "      <th>fuel</th>\n",
       "      <th>sewer</th>\n",
       "      <th>waterfront</th>\n",
       "      <th>newConstruction</th>\n",
       "      <th>centralAir</th>\n",
       "    </tr>\n",
       "  </thead>\n",
       "  <tbody>\n",
       "    <tr>\n",
       "      <th>1318</th>\n",
       "      <td>229900</td>\n",
       "      <td>0.44</td>\n",
       "      <td>7</td>\n",
       "      <td>24200</td>\n",
       "      <td>1328</td>\n",
       "      <td>64</td>\n",
       "      <td>3</td>\n",
       "      <td>1</td>\n",
       "      <td>2.5</td>\n",
       "      <td>8</td>\n",
       "      <td>hot air</td>\n",
       "      <td>gas</td>\n",
       "      <td>public/commercial</td>\n",
       "      <td>No</td>\n",
       "      <td>No</td>\n",
       "      <td>No</td>\n",
       "    </tr>\n",
       "    <tr>\n",
       "      <th>124</th>\n",
       "      <td>158000</td>\n",
       "      <td>0.52</td>\n",
       "      <td>0</td>\n",
       "      <td>4400</td>\n",
       "      <td>2098</td>\n",
       "      <td>44</td>\n",
       "      <td>3</td>\n",
       "      <td>0</td>\n",
       "      <td>2.0</td>\n",
       "      <td>7</td>\n",
       "      <td>hot air</td>\n",
       "      <td>gas</td>\n",
       "      <td>septic</td>\n",
       "      <td>No</td>\n",
       "      <td>Yes</td>\n",
       "      <td>Yes</td>\n",
       "    </tr>\n",
       "    <tr>\n",
       "      <th>648</th>\n",
       "      <td>367500</td>\n",
       "      <td>0.27</td>\n",
       "      <td>2</td>\n",
       "      <td>78200</td>\n",
       "      <td>2205</td>\n",
       "      <td>57</td>\n",
       "      <td>3</td>\n",
       "      <td>1</td>\n",
       "      <td>2.5</td>\n",
       "      <td>10</td>\n",
       "      <td>hot air</td>\n",
       "      <td>gas</td>\n",
       "      <td>public/commercial</td>\n",
       "      <td>No</td>\n",
       "      <td>No</td>\n",
       "      <td>Yes</td>\n",
       "    </tr>\n",
       "    <tr>\n",
       "      <th>249</th>\n",
       "      <td>128850</td>\n",
       "      <td>0.92</td>\n",
       "      <td>16</td>\n",
       "      <td>5500</td>\n",
       "      <td>824</td>\n",
       "      <td>45</td>\n",
       "      <td>3</td>\n",
       "      <td>0</td>\n",
       "      <td>1.5</td>\n",
       "      <td>5</td>\n",
       "      <td>electric</td>\n",
       "      <td>electric</td>\n",
       "      <td>septic</td>\n",
       "      <td>No</td>\n",
       "      <td>No</td>\n",
       "      <td>No</td>\n",
       "    </tr>\n",
       "    <tr>\n",
       "      <th>1599</th>\n",
       "      <td>290000</td>\n",
       "      <td>0.61</td>\n",
       "      <td>34</td>\n",
       "      <td>32300</td>\n",
       "      <td>2728</td>\n",
       "      <td>64</td>\n",
       "      <td>4</td>\n",
       "      <td>1</td>\n",
       "      <td>2.5</td>\n",
       "      <td>10</td>\n",
       "      <td>hot water/steam</td>\n",
       "      <td>gas</td>\n",
       "      <td>public/commercial</td>\n",
       "      <td>No</td>\n",
       "      <td>No</td>\n",
       "      <td>No</td>\n",
       "    </tr>\n",
       "  </tbody>\n",
       "</table>\n",
       "</div>"
      ],
      "text/plain": [
       "       price  lotSize  age  landValue  livingArea  pctCollege  bedrooms  \\\n",
       "1318  229900     0.44    7      24200        1328          64         3   \n",
       "124   158000     0.52    0       4400        2098          44         3   \n",
       "648   367500     0.27    2      78200        2205          57         3   \n",
       "249   128850     0.92   16       5500         824          45         3   \n",
       "1599  290000     0.61   34      32300        2728          64         4   \n",
       "\n",
       "      fireplaces  bathrooms  rooms          heating      fuel  \\\n",
       "1318           1        2.5      8          hot air       gas   \n",
       "124            0        2.0      7          hot air       gas   \n",
       "648            1        2.5     10          hot air       gas   \n",
       "249            0        1.5      5         electric  electric   \n",
       "1599           1        2.5     10  hot water/steam       gas   \n",
       "\n",
       "                  sewer waterfront newConstruction centralAir  \n",
       "1318  public/commercial         No              No         No  \n",
       "124              septic         No             Yes        Yes  \n",
       "648   public/commercial         No              No        Yes  \n",
       "249              septic         No              No         No  \n",
       "1599  public/commercial         No              No         No  "
      ]
     },
     "execution_count": 49,
     "metadata": {},
     "output_type": "execute_result"
    }
   ],
   "source": [
    "test_set.head()"
   ]
  },
  {
   "cell_type": "markdown",
   "id": "c4abc069",
   "metadata": {},
   "source": [
    "## Explore the Training Set"
   ]
  },
  {
   "cell_type": "markdown",
   "id": "7ff74d2c",
   "metadata": {},
   "source": [
    "There are 1105 rows and 16 features of the training set. There are no missing values."
   ]
  },
  {
   "cell_type": "code",
   "execution_count": 50,
   "id": "c1e06a73",
   "metadata": {},
   "outputs": [
    {
     "name": "stdout",
     "output_type": "stream",
     "text": [
      "<class 'pandas.core.frame.DataFrame'>\n",
      "Int64Index: 1382 entries, 1649 to 684\n",
      "Data columns (total 16 columns):\n",
      " #   Column           Non-Null Count  Dtype  \n",
      "---  ------           --------------  -----  \n",
      " 0   price            1382 non-null   int64  \n",
      " 1   lotSize          1382 non-null   float64\n",
      " 2   age              1382 non-null   int64  \n",
      " 3   landValue        1382 non-null   int64  \n",
      " 4   livingArea       1382 non-null   int64  \n",
      " 5   pctCollege       1382 non-null   int64  \n",
      " 6   bedrooms         1382 non-null   int64  \n",
      " 7   fireplaces       1382 non-null   int64  \n",
      " 8   bathrooms        1382 non-null   float64\n",
      " 9   rooms            1382 non-null   int64  \n",
      " 10  heating          1382 non-null   object \n",
      " 11  fuel             1382 non-null   object \n",
      " 12  sewer            1382 non-null   object \n",
      " 13  waterfront       1382 non-null   object \n",
      " 14  newConstruction  1382 non-null   object \n",
      " 15  centralAir       1382 non-null   object \n",
      "dtypes: float64(2), int64(8), object(6)\n",
      "memory usage: 183.5+ KB\n"
     ]
    }
   ],
   "source": [
    "train_set.info()"
   ]
  },
  {
   "cell_type": "markdown",
   "id": "6329e91b",
   "metadata": {},
   "source": [
    "#### Analyze Distributions"
   ]
  },
  {
   "cell_type": "markdown",
   "id": "7f403a93",
   "metadata": {},
   "source": [
    "livingArea[5], pctCollege[6], bedrooms[7], fireplaces[8], bathrooms[9] and rooms[10] are approximately normally distributed.\n",
    "Price[1], lotSize[2], age[3], landValue[4] are right skewed and could use normalizing."
   ]
  },
  {
   "cell_type": "code",
   "execution_count": 51,
   "id": "73007658",
   "metadata": {},
   "outputs": [
    {
     "data": {
      "image/png": "[encoded data removed]",
      "text/plain": [
       "<Figure size 1440x1440 with 12 Axes>"
      ]
     },
     "metadata": {
      "needs_background": "light"
     },
     "output_type": "display_data"
    }
   ],
   "source": [
    "train_set.hist(bins = 50, figsize = (20,20))\n",
    "fig = plt.gcf() \n",
    "fig.savefig('hist.pdf', bbox_inches = 'tight')"
   ]
  },
  {
   "cell_type": "markdown",
   "id": "3068a312",
   "metadata": {},
   "source": [
    "Below emphasises the right tail skew in features 1, 2, 3 and 4. They all have a disproportionately large spread and very large values.\n"
   ]
  },
  {
   "cell_type": "code",
   "execution_count": 52,
   "id": "58f54824",
   "metadata": {},
   "outputs": [
    {
     "data": {
      "text/html": [
       "<div>\n",
       "<style scoped>\n",
       "    .dataframe tbody tr th:only-of-type {\n",
       "        vertical-align: middle;\n",
       "    }\n",
       "\n",
       "    .dataframe tbody tr th {\n",
       "        vertical-align: top;\n",
       "    }\n",
       "\n",
       "    .dataframe thead th {\n",
       "        text-align: right;\n",
       "    }\n",
       "</style>\n",
       "<table border=\"1\" class=\"dataframe\">\n",
       "  <thead>\n",
       "    <tr style=\"text-align: right;\">\n",
       "      <th></th>\n",
       "      <th>price</th>\n",
       "      <th>lotSize</th>\n",
       "      <th>age</th>\n",
       "      <th>landValue</th>\n",
       "      <th>livingArea</th>\n",
       "      <th>pctCollege</th>\n",
       "      <th>bedrooms</th>\n",
       "      <th>fireplaces</th>\n",
       "      <th>bathrooms</th>\n",
       "      <th>rooms</th>\n",
       "    </tr>\n",
       "  </thead>\n",
       "  <tbody>\n",
       "    <tr>\n",
       "      <th>count</th>\n",
       "      <td>1382.000000</td>\n",
       "      <td>1382.000000</td>\n",
       "      <td>1382.000000</td>\n",
       "      <td>1382.000000</td>\n",
       "      <td>1382.000000</td>\n",
       "      <td>1382.000000</td>\n",
       "      <td>1382.000000</td>\n",
       "      <td>1382.000000</td>\n",
       "      <td>1382.000000</td>\n",
       "      <td>1382.000000</td>\n",
       "    </tr>\n",
       "    <tr>\n",
       "      <th>mean</th>\n",
       "      <td>211977.407381</td>\n",
       "      <td>0.495904</td>\n",
       "      <td>27.996382</td>\n",
       "      <td>35266.005789</td>\n",
       "      <td>1758.619392</td>\n",
       "      <td>55.685962</td>\n",
       "      <td>3.164978</td>\n",
       "      <td>0.610709</td>\n",
       "      <td>1.904848</td>\n",
       "      <td>7.049204</td>\n",
       "    </tr>\n",
       "    <tr>\n",
       "      <th>std</th>\n",
       "      <td>99608.842830</td>\n",
       "      <td>0.661244</td>\n",
       "      <td>29.182973</td>\n",
       "      <td>36616.276086</td>\n",
       "      <td>625.841288</td>\n",
       "      <td>10.316558</td>\n",
       "      <td>0.834791</td>\n",
       "      <td>0.564815</td>\n",
       "      <td>0.661465</td>\n",
       "      <td>2.330519</td>\n",
       "    </tr>\n",
       "    <tr>\n",
       "      <th>min</th>\n",
       "      <td>10300.000000</td>\n",
       "      <td>0.000000</td>\n",
       "      <td>0.000000</td>\n",
       "      <td>300.000000</td>\n",
       "      <td>616.000000</td>\n",
       "      <td>20.000000</td>\n",
       "      <td>1.000000</td>\n",
       "      <td>0.000000</td>\n",
       "      <td>1.000000</td>\n",
       "      <td>2.000000</td>\n",
       "    </tr>\n",
       "    <tr>\n",
       "      <th>25%</th>\n",
       "      <td>145000.000000</td>\n",
       "      <td>0.170000</td>\n",
       "      <td>13.000000</td>\n",
       "      <td>15100.000000</td>\n",
       "      <td>1297.000000</td>\n",
       "      <td>52.000000</td>\n",
       "      <td>3.000000</td>\n",
       "      <td>0.000000</td>\n",
       "      <td>1.500000</td>\n",
       "      <td>5.000000</td>\n",
       "    </tr>\n",
       "    <tr>\n",
       "      <th>50%</th>\n",
       "      <td>188900.000000</td>\n",
       "      <td>0.370000</td>\n",
       "      <td>19.000000</td>\n",
       "      <td>25100.000000</td>\n",
       "      <td>1643.000000</td>\n",
       "      <td>57.000000</td>\n",
       "      <td>3.000000</td>\n",
       "      <td>1.000000</td>\n",
       "      <td>2.000000</td>\n",
       "      <td>7.000000</td>\n",
       "    </tr>\n",
       "    <tr>\n",
       "      <th>75%</th>\n",
       "      <td>259106.500000</td>\n",
       "      <td>0.540000</td>\n",
       "      <td>34.000000</td>\n",
       "      <td>40875.000000</td>\n",
       "      <td>2179.000000</td>\n",
       "      <td>64.000000</td>\n",
       "      <td>4.000000</td>\n",
       "      <td>1.000000</td>\n",
       "      <td>2.500000</td>\n",
       "      <td>9.000000</td>\n",
       "    </tr>\n",
       "    <tr>\n",
       "      <th>max</th>\n",
       "      <td>775000.000000</td>\n",
       "      <td>8.970000</td>\n",
       "      <td>225.000000</td>\n",
       "      <td>412600.000000</td>\n",
       "      <td>5228.000000</td>\n",
       "      <td>82.000000</td>\n",
       "      <td>7.000000</td>\n",
       "      <td>4.000000</td>\n",
       "      <td>4.500000</td>\n",
       "      <td>12.000000</td>\n",
       "    </tr>\n",
       "  </tbody>\n",
       "</table>\n",
       "</div>"
      ],
      "text/plain": [
       "               price      lotSize          age      landValue   livingArea  \\\n",
       "count    1382.000000  1382.000000  1382.000000    1382.000000  1382.000000   \n",
       "mean   211977.407381     0.495904    27.996382   35266.005789  1758.619392   \n",
       "std     99608.842830     0.661244    29.182973   36616.276086   625.841288   \n",
       "min     10300.000000     0.000000     0.000000     300.000000   616.000000   \n",
       "25%    145000.000000     0.170000    13.000000   15100.000000  1297.000000   \n",
       "50%    188900.000000     0.370000    19.000000   25100.000000  1643.000000   \n",
       "75%    259106.500000     0.540000    34.000000   40875.000000  2179.000000   \n",
       "max    775000.000000     8.970000   225.000000  412600.000000  5228.000000   \n",
       "\n",
       "        pctCollege     bedrooms   fireplaces    bathrooms        rooms  \n",
       "count  1382.000000  1382.000000  1382.000000  1382.000000  1382.000000  \n",
       "mean     55.685962     3.164978     0.610709     1.904848     7.049204  \n",
       "std      10.316558     0.834791     0.564815     0.661465     2.330519  \n",
       "min      20.000000     1.000000     0.000000     1.000000     2.000000  \n",
       "25%      52.000000     3.000000     0.000000     1.500000     5.000000  \n",
       "50%      57.000000     3.000000     1.000000     2.000000     7.000000  \n",
       "75%      64.000000     4.000000     1.000000     2.500000     9.000000  \n",
       "max      82.000000     7.000000     4.000000     4.500000    12.000000  "
      ]
     },
     "execution_count": 52,
     "metadata": {},
     "output_type": "execute_result"
    }
   ],
   "source": [
    "train_set.describe()"
   ]
  },
  {
   "cell_type": "markdown",
   "id": "584ece0d",
   "metadata": {},
   "source": [
    "#### Understand Correlation"
   ]
  },
  {
   "cell_type": "markdown",
   "id": "9e1df169",
   "metadata": {},
   "source": [
    "livingArea is correlated with multiple other features which may have a negative affect on our model. Bedrooms and rooms may also affect our model negatively. I would like to see how the model performs both with and without these features."
   ]
  },
  {
   "cell_type": "code",
   "execution_count": 53,
   "id": "f263c04b",
   "metadata": {},
   "outputs": [
    {
     "data": {
      "text/plain": [
       "<AxesSubplot:>"
      ]
     },
     "execution_count": 53,
     "metadata": {},
     "output_type": "execute_result"
    },
    {
     "data": {
      "image/png": "[encoded data removed]",
      "text/plain": [
       "<Figure size 432x288 with 2 Axes>"
      ]
     },
     "metadata": {
      "needs_background": "light"
     },
     "output_type": "display_data"
    }
   ],
   "source": [
    "sns.heatmap(train_set.corr(), annot=True)"
   ]
  },
  {
   "cell_type": "markdown",
   "id": "2b6e159c",
   "metadata": {},
   "source": [
    "#### Understand Categorical Data"
   ]
  },
  {
   "cell_type": "markdown",
   "id": "6498f605",
   "metadata": {},
   "source": [
    "It may be useful to see how the frequency of the categorical levels compare."
   ]
  },
  {
   "cell_type": "code",
   "execution_count": 54,
   "id": "8d68ce4f",
   "metadata": {},
   "outputs": [
    {
     "name": "stdout",
     "output_type": "stream",
     "text": [
      "heating ['hot air' 'electric' 'hot water/steam']\n",
      "fuel ['gas' 'electric' 'oil']\n",
      "sewer ['public/commercial' 'septic' 'none']\n",
      "waterfront ['No' 'Yes']\n",
      "newConstruction ['No' 'Yes']\n",
      "centralAir ['No' 'Yes']\n"
     ]
    }
   ],
   "source": [
    "\n",
    "\n",
    "my_selector = selector(dtype_include=object)\n",
    "categorical = my_selector(train_set)\n",
    "\n",
    "# print the levels of the categorical variables\n",
    "def levels(df, features):\n",
    "    [print(feature, df[feature].unique()) for feature in features]\n",
    "\n",
    "levels(train_set, categorical)\n"
   ]
  },
  {
   "cell_type": "markdown",
   "id": "d869b430",
   "metadata": {},
   "source": [
    "Barcharts are created to see how these levels balance."
   ]
  },
  {
   "cell_type": "code",
   "execution_count": 55,
   "id": "d8cff151",
   "metadata": {},
   "outputs": [
    {
     "data": {
      "image/png": "[encoded data removed]",
      "text/plain": [
       "<Figure size 432x288 with 1 Axes>"
      ]
     },
     "metadata": {
      "needs_background": "light"
     },
     "output_type": "display_data"
    },
    {
     "data": {
      "image/png": "[encoded data removed]",
      "text/plain": [
       "<Figure size 432x288 with 1 Axes>"
      ]
     },
     "metadata": {
      "needs_background": "light"
     },
     "output_type": "display_data"
    },
    {
     "data": {
      "image/png": "[encoded data removed]",
      "text/plain": [
       "<Figure size 432x288 with 1 Axes>"
      ]
     },
     "metadata": {
      "needs_background": "light"
     },
     "output_type": "display_data"
    },
    {
     "data": {
      "image/png": "[encoded data removed]",
      "text/plain": [
       "<Figure size 432x288 with 1 Axes>"
      ]
     },
     "metadata": {
      "needs_background": "light"
     },
     "output_type": "display_data"
    },
    {
     "data": {
      "image/png": "[encoded data removed]",
      "text/plain": [
       "<Figure size 432x288 with 1 Axes>"
      ]
     },
     "metadata": {
      "needs_background": "light"
     },
     "output_type": "display_data"
    },
    {
     "data": {
      "image/png": "[encoded data removed]",
      "text/plain": [
       "<Figure size 432x288 with 1 Axes>"
      ]
     },
     "metadata": {
      "needs_background": "light"
     },
     "output_type": "display_data"
    }
   ],
   "source": [
    "def plot_categorical(df, features):\n",
    "    for feature in features:\n",
    "        df[feature].value_counts().plot(kind='bar')\n",
    "        plt.title(feature)\n",
    "        plt.ylabel('Count')\n",
    "        plt.show()\n",
    "plot_categorical(train_set, categorical)\n",
    "\n"
   ]
  },
  {
   "cell_type": "markdown",
   "id": "52522b9c",
   "metadata": {},
   "source": [
    "Compare categorical levels with their mean price"
   ]
  },
  {
   "cell_type": "code",
   "execution_count": 56,
   "id": "aaec02af",
   "metadata": {},
   "outputs": [
    {
     "data": {
      "image/png": "[encoded data removed]",
      "text/plain": [
       "<Figure size 432x288 with 1 Axes>"
      ]
     },
     "metadata": {
      "needs_background": "light"
     },
     "output_type": "display_data"
    },
    {
     "data": {
      "image/png": "[encoded data removed]",
      "text/plain": [
       "<Figure size 432x288 with 1 Axes>"
      ]
     },
     "metadata": {
      "needs_background": "light"
     },
     "output_type": "display_data"
    },
    {
     "data": {
      "image/png": "[encoded data removed]",
      "text/plain": [
       "<Figure size 432x288 with 1 Axes>"
      ]
     },
     "metadata": {
      "needs_background": "light"
     },
     "output_type": "display_data"
    },
    {
     "data": {
      "image/png": "[encoded data removed]",
      "text/plain": [
       "<Figure size 432x288 with 1 Axes>"
      ]
     },
     "metadata": {
      "needs_background": "light"
     },
     "output_type": "display_data"
    },
    {
     "data": {
      "image/png": "[encoded data removed]",
      "text/plain": [
       "<Figure size 432x288 with 1 Axes>"
      ]
     },
     "metadata": {
      "needs_background": "light"
     },
     "output_type": "display_data"
    },
    {
     "data": {
      "image/png": "[encoded data removed]",
      "text/plain": [
       "<Figure size 432x288 with 1 Axes>"
      ]
     },
     "metadata": {
      "needs_background": "light"
     },
     "output_type": "display_data"
    }
   ],
   "source": [
    "def compare_categorical(df, features, target):\n",
    "    for feature in features:\n",
    "        df.groupby(feature).mean()[target].plot(kind='bar')\n",
    "        plt.title(feature)\n",
    "        plt.ylabel(target)\n",
    "        plt.show()\n",
    "compare_categorical(train_set, categorical, 'price')\n"
   ]
  },
  {
   "cell_type": "markdown",
   "id": "7eb8f023",
   "metadata": {},
   "source": [
    "## Pipeline"
   ]
  },
  {
   "cell_type": "markdown",
   "id": "272460c9",
   "metadata": {},
   "source": [
    "### Train_Test_Split"
   ]
  },
  {
   "cell_type": "code",
   "execution_count": 57,
   "id": "f5de3203",
   "metadata": {},
   "outputs": [],
   "source": [
    "\n",
    "X_train, y_train = train_test_split(train_set, \n",
    "                                       test_size = 0.2,\n",
    "                                      random_state = 0)"
   ]
  },
  {
   "cell_type": "code",
   "execution_count": 58,
   "id": "3aec2d48",
   "metadata": {},
   "outputs": [
    {
     "data": {
      "text/html": [
       "<div>\n",
       "<style scoped>\n",
       "    .dataframe tbody tr th:only-of-type {\n",
       "        vertical-align: middle;\n",
       "    }\n",
       "\n",
       "    .dataframe tbody tr th {\n",
       "        vertical-align: top;\n",
       "    }\n",
       "\n",
       "    .dataframe thead th {\n",
       "        text-align: right;\n",
       "    }\n",
       "</style>\n",
       "<table border=\"1\" class=\"dataframe\">\n",
       "  <thead>\n",
       "    <tr style=\"text-align: right;\">\n",
       "      <th></th>\n",
       "      <th>price</th>\n",
       "      <th>lotSize</th>\n",
       "      <th>age</th>\n",
       "      <th>landValue</th>\n",
       "      <th>livingArea</th>\n",
       "      <th>pctCollege</th>\n",
       "      <th>bedrooms</th>\n",
       "      <th>fireplaces</th>\n",
       "      <th>bathrooms</th>\n",
       "      <th>rooms</th>\n",
       "      <th>heating</th>\n",
       "      <th>fuel</th>\n",
       "      <th>sewer</th>\n",
       "      <th>waterfront</th>\n",
       "      <th>newConstruction</th>\n",
       "      <th>centralAir</th>\n",
       "    </tr>\n",
       "  </thead>\n",
       "  <tbody>\n",
       "    <tr>\n",
       "      <th>1649</th>\n",
       "      <td>153000</td>\n",
       "      <td>0.11</td>\n",
       "      <td>16</td>\n",
       "      <td>2900</td>\n",
       "      <td>1480</td>\n",
       "      <td>40</td>\n",
       "      <td>2</td>\n",
       "      <td>0</td>\n",
       "      <td>2.5</td>\n",
       "      <td>4</td>\n",
       "      <td>hot air</td>\n",
       "      <td>gas</td>\n",
       "      <td>public/commercial</td>\n",
       "      <td>No</td>\n",
       "      <td>No</td>\n",
       "      <td>No</td>\n",
       "    </tr>\n",
       "    <tr>\n",
       "      <th>1465</th>\n",
       "      <td>223000</td>\n",
       "      <td>0.33</td>\n",
       "      <td>18</td>\n",
       "      <td>27000</td>\n",
       "      <td>1360</td>\n",
       "      <td>40</td>\n",
       "      <td>3</td>\n",
       "      <td>1</td>\n",
       "      <td>1.5</td>\n",
       "      <td>8</td>\n",
       "      <td>electric</td>\n",
       "      <td>electric</td>\n",
       "      <td>public/commercial</td>\n",
       "      <td>No</td>\n",
       "      <td>No</td>\n",
       "      <td>No</td>\n",
       "    </tr>\n",
       "    <tr>\n",
       "      <th>361</th>\n",
       "      <td>178500</td>\n",
       "      <td>1.00</td>\n",
       "      <td>12</td>\n",
       "      <td>32000</td>\n",
       "      <td>1952</td>\n",
       "      <td>71</td>\n",
       "      <td>3</td>\n",
       "      <td>2</td>\n",
       "      <td>2.0</td>\n",
       "      <td>9</td>\n",
       "      <td>hot air</td>\n",
       "      <td>oil</td>\n",
       "      <td>septic</td>\n",
       "      <td>No</td>\n",
       "      <td>No</td>\n",
       "      <td>No</td>\n",
       "    </tr>\n",
       "    <tr>\n",
       "      <th>315</th>\n",
       "      <td>168500</td>\n",
       "      <td>0.44</td>\n",
       "      <td>34</td>\n",
       "      <td>31800</td>\n",
       "      <td>1586</td>\n",
       "      <td>64</td>\n",
       "      <td>3</td>\n",
       "      <td>1</td>\n",
       "      <td>1.5</td>\n",
       "      <td>7</td>\n",
       "      <td>hot air</td>\n",
       "      <td>gas</td>\n",
       "      <td>public/commercial</td>\n",
       "      <td>No</td>\n",
       "      <td>No</td>\n",
       "      <td>No</td>\n",
       "    </tr>\n",
       "    <tr>\n",
       "      <th>1372</th>\n",
       "      <td>167500</td>\n",
       "      <td>0.16</td>\n",
       "      <td>18</td>\n",
       "      <td>15100</td>\n",
       "      <td>1492</td>\n",
       "      <td>40</td>\n",
       "      <td>3</td>\n",
       "      <td>0</td>\n",
       "      <td>2.5</td>\n",
       "      <td>6</td>\n",
       "      <td>electric</td>\n",
       "      <td>electric</td>\n",
       "      <td>public/commercial</td>\n",
       "      <td>No</td>\n",
       "      <td>No</td>\n",
       "      <td>No</td>\n",
       "    </tr>\n",
       "  </tbody>\n",
       "</table>\n",
       "</div>"
      ],
      "text/plain": [
       "       price  lotSize  age  landValue  livingArea  pctCollege  bedrooms  \\\n",
       "1649  153000     0.11   16       2900        1480          40         2   \n",
       "1465  223000     0.33   18      27000        1360          40         3   \n",
       "361   178500     1.00   12      32000        1952          71         3   \n",
       "315   168500     0.44   34      31800        1586          64         3   \n",
       "1372  167500     0.16   18      15100        1492          40         3   \n",
       "\n",
       "      fireplaces  bathrooms  rooms   heating      fuel              sewer  \\\n",
       "1649           0        2.5      4   hot air       gas  public/commercial   \n",
       "1465           1        1.5      8  electric  electric  public/commercial   \n",
       "361            2        2.0      9   hot air       oil             septic   \n",
       "315            1        1.5      7   hot air       gas  public/commercial   \n",
       "1372           0        2.5      6  electric  electric  public/commercial   \n",
       "\n",
       "     waterfront newConstruction centralAir  \n",
       "1649         No              No         No  \n",
       "1465         No              No         No  \n",
       "361          No              No         No  \n",
       "315          No              No         No  \n",
       "1372         No              No         No  "
      ]
     },
     "execution_count": 58,
     "metadata": {},
     "output_type": "execute_result"
    }
   ],
   "source": [
    "train_set.head()"
   ]
  },
  {
   "cell_type": "code",
   "execution_count": 59,
   "id": "be8ee289",
   "metadata": {},
   "outputs": [
    {
     "data": {
      "text/html": [
       "<div>\n",
       "<style scoped>\n",
       "    .dataframe tbody tr th:only-of-type {\n",
       "        vertical-align: middle;\n",
       "    }\n",
       "\n",
       "    .dataframe tbody tr th {\n",
       "        vertical-align: top;\n",
       "    }\n",
       "\n",
       "    .dataframe thead th {\n",
       "        text-align: right;\n",
       "    }\n",
       "</style>\n",
       "<table border=\"1\" class=\"dataframe\">\n",
       "  <thead>\n",
       "    <tr style=\"text-align: right;\">\n",
       "      <th></th>\n",
       "      <th>price</th>\n",
       "      <th>lotSize</th>\n",
       "      <th>age</th>\n",
       "      <th>landValue</th>\n",
       "      <th>livingArea</th>\n",
       "      <th>pctCollege</th>\n",
       "      <th>bedrooms</th>\n",
       "      <th>fireplaces</th>\n",
       "      <th>bathrooms</th>\n",
       "      <th>rooms</th>\n",
       "      <th>heating</th>\n",
       "      <th>fuel</th>\n",
       "      <th>sewer</th>\n",
       "      <th>waterfront</th>\n",
       "      <th>newConstruction</th>\n",
       "      <th>centralAir</th>\n",
       "    </tr>\n",
       "  </thead>\n",
       "  <tbody>\n",
       "    <tr>\n",
       "      <th>1318</th>\n",
       "      <td>229900</td>\n",
       "      <td>0.44</td>\n",
       "      <td>7</td>\n",
       "      <td>24200</td>\n",
       "      <td>1328</td>\n",
       "      <td>64</td>\n",
       "      <td>3</td>\n",
       "      <td>1</td>\n",
       "      <td>2.5</td>\n",
       "      <td>8</td>\n",
       "      <td>hot air</td>\n",
       "      <td>gas</td>\n",
       "      <td>public/commercial</td>\n",
       "      <td>No</td>\n",
       "      <td>No</td>\n",
       "      <td>No</td>\n",
       "    </tr>\n",
       "    <tr>\n",
       "      <th>124</th>\n",
       "      <td>158000</td>\n",
       "      <td>0.52</td>\n",
       "      <td>0</td>\n",
       "      <td>4400</td>\n",
       "      <td>2098</td>\n",
       "      <td>44</td>\n",
       "      <td>3</td>\n",
       "      <td>0</td>\n",
       "      <td>2.0</td>\n",
       "      <td>7</td>\n",
       "      <td>hot air</td>\n",
       "      <td>gas</td>\n",
       "      <td>septic</td>\n",
       "      <td>No</td>\n",
       "      <td>Yes</td>\n",
       "      <td>Yes</td>\n",
       "    </tr>\n",
       "    <tr>\n",
       "      <th>648</th>\n",
       "      <td>367500</td>\n",
       "      <td>0.27</td>\n",
       "      <td>2</td>\n",
       "      <td>78200</td>\n",
       "      <td>2205</td>\n",
       "      <td>57</td>\n",
       "      <td>3</td>\n",
       "      <td>1</td>\n",
       "      <td>2.5</td>\n",
       "      <td>10</td>\n",
       "      <td>hot air</td>\n",
       "      <td>gas</td>\n",
       "      <td>public/commercial</td>\n",
       "      <td>No</td>\n",
       "      <td>No</td>\n",
       "      <td>Yes</td>\n",
       "    </tr>\n",
       "    <tr>\n",
       "      <th>249</th>\n",
       "      <td>128850</td>\n",
       "      <td>0.92</td>\n",
       "      <td>16</td>\n",
       "      <td>5500</td>\n",
       "      <td>824</td>\n",
       "      <td>45</td>\n",
       "      <td>3</td>\n",
       "      <td>0</td>\n",
       "      <td>1.5</td>\n",
       "      <td>5</td>\n",
       "      <td>electric</td>\n",
       "      <td>electric</td>\n",
       "      <td>septic</td>\n",
       "      <td>No</td>\n",
       "      <td>No</td>\n",
       "      <td>No</td>\n",
       "    </tr>\n",
       "    <tr>\n",
       "      <th>1599</th>\n",
       "      <td>290000</td>\n",
       "      <td>0.61</td>\n",
       "      <td>34</td>\n",
       "      <td>32300</td>\n",
       "      <td>2728</td>\n",
       "      <td>64</td>\n",
       "      <td>4</td>\n",
       "      <td>1</td>\n",
       "      <td>2.5</td>\n",
       "      <td>10</td>\n",
       "      <td>hot water/steam</td>\n",
       "      <td>gas</td>\n",
       "      <td>public/commercial</td>\n",
       "      <td>No</td>\n",
       "      <td>No</td>\n",
       "      <td>No</td>\n",
       "    </tr>\n",
       "  </tbody>\n",
       "</table>\n",
       "</div>"
      ],
      "text/plain": [
       "       price  lotSize  age  landValue  livingArea  pctCollege  bedrooms  \\\n",
       "1318  229900     0.44    7      24200        1328          64         3   \n",
       "124   158000     0.52    0       4400        2098          44         3   \n",
       "648   367500     0.27    2      78200        2205          57         3   \n",
       "249   128850     0.92   16       5500         824          45         3   \n",
       "1599  290000     0.61   34      32300        2728          64         4   \n",
       "\n",
       "      fireplaces  bathrooms  rooms          heating      fuel  \\\n",
       "1318           1        2.5      8          hot air       gas   \n",
       "124            0        2.0      7          hot air       gas   \n",
       "648            1        2.5     10          hot air       gas   \n",
       "249            0        1.5      5         electric  electric   \n",
       "1599           1        2.5     10  hot water/steam       gas   \n",
       "\n",
       "                  sewer waterfront newConstruction centralAir  \n",
       "1318  public/commercial         No              No         No  \n",
       "124              septic         No             Yes        Yes  \n",
       "648   public/commercial         No              No        Yes  \n",
       "249              septic         No              No         No  \n",
       "1599  public/commercial         No              No         No  "
      ]
     },
     "execution_count": 59,
     "metadata": {},
     "output_type": "execute_result"
    }
   ],
   "source": [
    "test_set.head()"
   ]
  },
  {
   "cell_type": "markdown",
   "id": "4ce90750",
   "metadata": {},
   "source": [
    "#### Split data"
   ]
  },
  {
   "cell_type": "markdown",
   "id": "44609a88",
   "metadata": {},
   "source": [
    "Separate the predictors and the labels since we don't\n",
    "necessarily want to apply the same transformations\n",
    "to the predictors and the target values."
   ]
  },
  {
   "cell_type": "code",
   "execution_count": 60,
   "id": "492fedd0",
   "metadata": {},
   "outputs": [],
   "source": [
    "X_train = train_set.drop(\"price\", axis=1) # drop labels for training set\n",
    "y_train = train_set[\"price\"].copy()\n",
    "X_test = test_set.drop(\"price\", axis=1)\n",
    "y_test = test_set[\"price\"].copy()"
   ]
  },
  {
   "cell_type": "markdown",
   "id": "63f00cbc",
   "metadata": {},
   "source": [
    "### Transform Data"
   ]
  },
  {
   "cell_type": "markdown",
   "id": "2e6bbda2",
   "metadata": {},
   "source": [
    "#### Get different types of data"
   ]
  },
  {
   "cell_type": "code",
   "execution_count": 61,
   "id": "b311e0f7",
   "metadata": {},
   "outputs": [
    {
     "name": "stdout",
     "output_type": "stream",
     "text": [
      "Features length: 15 \n",
      "Collected data:  8\n",
      "Numerical:  2\n",
      "Nominal: 6\n"
     ]
    }
   ],
   "source": [
    "# splits the data into categorical and numerical features\n",
    "def split_columns(df):\n",
    "      my_selector = selector(dtype_include=int)\n",
    "      numerical_int = my_selector(df)\n",
    "      my_selector = selector(dtype_include=float)\n",
    "      numerical_float = my_selector(df)\n",
    "      my_selector = selector(dtype_include=object)\n",
    "      categorical = my_selector(df)\n",
    "      return numerical_int, numerical_float, categorical\n",
    "\n",
    "numerical_int, numerical_float, nominal = split_columns(X_train)\n",
    "print(\"Features length:\", len(X_train.columns), \"\\nCollected data: \",\n",
    "      len(numerical_int) + len(nominal) + len(numerical_float))\n",
    "numerical = numerical_int + numerical_float\n",
    "print(\"Numerical: \", len(numerical))\n",
    "print(\"Nominal:\",len(nominal))\n"
   ]
  },
  {
   "cell_type": "markdown",
   "id": "aa372aca",
   "metadata": {},
   "source": [
    "#### Make Pipelines"
   ]
  },
  {
   "cell_type": "markdown",
   "id": "1750d56f",
   "metadata": {},
   "source": [
    "We have all the data separated into their corresponding groups. Note that all of our categorical variables are nominal, so we do not need an ordinal pipeline."
   ]
  },
  {
   "cell_type": "code",
   "execution_count": 62,
   "id": "33b0e20c",
   "metadata": {},
   "outputs": [],
   "source": [
    "numerical_pipeline = Pipeline([('imputer', SimpleImputer(strategy='mean')),\n",
    "                               ('scaler', StandardScaler())])\n",
    "# one hot encoder to convert nominal data into binary data.\n",
    "nominal_pipeline = Pipeline([('imputer', SimpleImputer(strategy='most_frequent')),\n",
    "                             ('encoder', OneHotEncoder(handle_unknown='ignore'))])\n"
   ]
  },
  {
   "cell_type": "markdown",
   "id": "b4e5b7fa",
   "metadata": {},
   "source": [
    "#### Create pre-processor"
   ]
  },
  {
   "cell_type": "markdown",
   "id": "b3636473",
   "metadata": {},
   "source": [
    "Create the column transformer to simplify our data into all numerical"
   ]
  },
  {
   "cell_type": "code",
   "execution_count": 63,
   "id": "a6bf5dbc",
   "metadata": {},
   "outputs": [
    {
     "data": {
      "text/plain": [
       "ColumnTransformer(transformers=[('numerical_transformer',\n",
       "                                 Pipeline(steps=[('imputer', SimpleImputer()),\n",
       "                                                 ('scaler', StandardScaler())]),\n",
       "                                 ['lotSize', 'bathrooms']),\n",
       "                                ('nominal_transformer',\n",
       "                                 Pipeline(steps=[('imputer',\n",
       "                                                  SimpleImputer(strategy='most_frequent')),\n",
       "                                                 ('encoder',\n",
       "                                                  OneHotEncoder(handle_unknown='ignore'))]),\n",
       "                                 ['heating', 'fuel', 'sewer', 'waterfront',\n",
       "                                  'newConstruction', 'centralAir'])])"
      ]
     },
     "execution_count": 63,
     "metadata": {},
     "output_type": "execute_result"
    }
   ],
   "source": [
    "preprocessor = ColumnTransformer([\n",
    "    ('numerical_transformer', numerical_pipeline, numerical),\n",
    "    ('nominal_transformer', nominal_pipeline, nominal)\n",
    "])\n",
    "preprocessor"
   ]
  },
  {
   "cell_type": "markdown",
   "id": "09ffda0d",
   "metadata": {},
   "source": [
    "Our data is ready for a model to fit to it. Transform our data into all numerical, perform scaling and fill in missing values. Afterward fit the training data to a linear regression model."
   ]
  },
  {
   "cell_type": "code",
   "execution_count": 64,
   "id": "f32871bd",
   "metadata": {},
   "outputs": [
    {
     "data": {
      "text/plain": [
       "Pipeline(steps=[('preprocessor',\n",
       "                 ColumnTransformer(transformers=[('numerical_transformer',\n",
       "                                                  Pipeline(steps=[('imputer',\n",
       "                                                                   SimpleImputer()),\n",
       "                                                                  ('scaler',\n",
       "                                                                   StandardScaler())]),\n",
       "                                                  ['lotSize', 'bathrooms']),\n",
       "                                                 ('nominal_transformer',\n",
       "                                                  Pipeline(steps=[('imputer',\n",
       "                                                                   SimpleImputer(strategy='most_frequent')),\n",
       "                                                                  ('encoder',\n",
       "                                                                   OneHotEncoder(handle_unknown='ignore'))]),\n",
       "                                                  ['heating', 'fuel', 'sewer',\n",
       "                                                   'waterfront',\n",
       "                                                   'newConstruction',\n",
       "                                                   'centralAir'])])),\n",
       "                ('regressor', LinearRegression())])"
      ]
     },
     "execution_count": 64,
     "metadata": {},
     "output_type": "execute_result"
    }
   ],
   "source": [
    "# transform columns and fit the model\n",
    "lr_model = Pipeline([\n",
    "    ('preprocessor', preprocessor),\n",
    "    ('regressor', LinearRegression())\n",
    "])\n",
    "lr_model"
   ]
  },
  {
   "cell_type": "markdown",
   "id": "bc7e1628",
   "metadata": {},
   "source": [
    "## Make Predictions & Evaluate"
   ]
  },
  {
   "cell_type": "markdown",
   "id": "6db2b5ec",
   "metadata": {},
   "source": [
    "#### Predict with Linear Regression"
   ]
  },
  {
   "cell_type": "code",
   "execution_count": 90,
   "id": "c2f6dc68",
   "metadata": {},
   "outputs": [
    {
     "data": {
      "text/html": [
       "<div>\n",
       "<style scoped>\n",
       "    .dataframe tbody tr th:only-of-type {\n",
       "        vertical-align: middle;\n",
       "    }\n",
       "\n",
       "    .dataframe tbody tr th {\n",
       "        vertical-align: top;\n",
       "    }\n",
       "\n",
       "    .dataframe thead th {\n",
       "        text-align: right;\n",
       "    }\n",
       "</style>\n",
       "<table border=\"1\" class=\"dataframe\">\n",
       "  <thead>\n",
       "    <tr style=\"text-align: right;\">\n",
       "      <th></th>\n",
       "      <th>RMSE</th>\n",
       "      <th>MAPE</th>\n",
       "      <th>R^2</th>\n",
       "    </tr>\n",
       "  </thead>\n",
       "  <tbody>\n",
       "    <tr>\n",
       "      <th>Train</th>\n",
       "      <td>75504.164811</td>\n",
       "      <td>30.224527</td>\n",
       "      <td>0.425010</td>\n",
       "    </tr>\n",
       "    <tr>\n",
       "      <th>Test</th>\n",
       "      <td>70878.411767</td>\n",
       "      <td>42.464558</td>\n",
       "      <td>0.427026</td>\n",
       "    </tr>\n",
       "  </tbody>\n",
       "</table>\n",
       "</div>"
      ],
      "text/plain": [
       "               RMSE       MAPE       R^2\n",
       "Train  75504.164811  30.224527  0.425010\n",
       "Test   70878.411767  42.464558  0.427026"
      ]
     },
     "execution_count": 90,
     "metadata": {},
     "output_type": "execute_result"
    }
   ],
   "source": [
    "def all_metrics(model, X_train, y_train, X_test, y_test):\n",
    "    train_predictions = model.fit(X_train, y_train).predict(X_train)\n",
    "    train_RMSE, train_MAPE, train_R_squared = metrics(model, train_predictions, X_train, y_train)\n",
    "    test_predictions = model.fit(X_train, y_train).predict(X_test)\n",
    "    test_RMSE, test_MAPE, test_R_squared = metrics(model, test_predictions, X_test, y_test)\n",
    "    RMSE = [train_RMSE, test_RMSE]\n",
    "    MAPE = [train_MAPE, test_MAPE]\n",
    "    R_squared = [train_R_squared, test_R_squared]\n",
    "    titles = [\"Train\", \"Test\"]\n",
    "    return pd.DataFrame({\"RMSE\": RMSE, \"MAPE\": MAPE, \"R^2\": R_squared}, index=[titles])\n",
    "\n",
    "def metrics(model, predictions, X, y):\n",
    "    RMSE = np.sqrt(mean_squared_error(y, predictions))\n",
    "    MAPE = (np.mean(np.abs((y - predictions) / y))) * 100\n",
    "    R_squared = model.score(X, y)\n",
    "    return RMSE, MAPE, R_squared\n",
    "    \n",
    "all_metrics(lr_model, X_train, y_train, X_test, y_test)\n"
   ]
  },
  {
   "cell_type": "code",
   "execution_count": 106,
   "id": "c2cba5c5",
   "metadata": {},
   "outputs": [
    {
     "name": "stdout",
     "output_type": "stream",
     "text": [
      "On average, our model has 30.2245 % error (MAPE)\n"
     ]
    },
    {
     "data": {
      "text/html": [
       "<div>\n",
       "<style scoped>\n",
       "    .dataframe tbody tr th:only-of-type {\n",
       "        vertical-align: middle;\n",
       "    }\n",
       "\n",
       "    .dataframe tbody tr th {\n",
       "        vertical-align: top;\n",
       "    }\n",
       "\n",
       "    .dataframe thead th {\n",
       "        text-align: right;\n",
       "    }\n",
       "</style>\n",
       "<table border=\"1\" class=\"dataframe\">\n",
       "  <thead>\n",
       "    <tr style=\"text-align: right;\">\n",
       "      <th></th>\n",
       "      <th>Actual</th>\n",
       "      <th>Predicted</th>\n",
       "      <th>Difference</th>\n",
       "      <th>Difference_percent</th>\n",
       "    </tr>\n",
       "  </thead>\n",
       "  <tbody>\n",
       "    <tr>\n",
       "      <th>580</th>\n",
       "      <td>125000</td>\n",
       "      <td>134174.361733</td>\n",
       "      <td>9174.361733</td>\n",
       "      <td>7.339489</td>\n",
       "    </tr>\n",
       "    <tr>\n",
       "      <th>870</th>\n",
       "      <td>214500</td>\n",
       "      <td>181941.693800</td>\n",
       "      <td>32558.306200</td>\n",
       "      <td>15.178698</td>\n",
       "    </tr>\n",
       "    <tr>\n",
       "      <th>906</th>\n",
       "      <td>149000</td>\n",
       "      <td>102490.224615</td>\n",
       "      <td>46509.775385</td>\n",
       "      <td>31.214614</td>\n",
       "    </tr>\n",
       "    <tr>\n",
       "      <th>307</th>\n",
       "      <td>184350</td>\n",
       "      <td>253268.817244</td>\n",
       "      <td>68918.817244</td>\n",
       "      <td>37.384767</td>\n",
       "    </tr>\n",
       "    <tr>\n",
       "      <th>1486</th>\n",
       "      <td>266500</td>\n",
       "      <td>222592.726718</td>\n",
       "      <td>43907.273282</td>\n",
       "      <td>16.475525</td>\n",
       "    </tr>\n",
       "  </tbody>\n",
       "</table>\n",
       "</div>"
      ],
      "text/plain": [
       "      Actual      Predicted    Difference  Difference_percent\n",
       "580   125000  134174.361733   9174.361733            7.339489\n",
       "870   214500  181941.693800  32558.306200           15.178698\n",
       "906   149000  102490.224615  46509.775385           31.214614\n",
       "307   184350  253268.817244  68918.817244           37.384767\n",
       "1486  266500  222592.726718  43907.273282           16.475525"
      ]
     },
     "execution_count": 106,
     "metadata": {},
     "output_type": "execute_result"
    }
   ],
   "source": [
    "y_train_predicted = lr_model.fit(X_train, y_train).predict(X_train)\n",
    "\n",
    "# display actual vs predicted and the residuals\n",
    "def summarize_results(y_train, y_train_predict):\n",
    "    return pd.DataFrame({'Actual': y_train, 'Predicted': y_train_predict,\n",
    "                        'Difference': abs(y_train - y_train_predict),\n",
    "                        'Difference_percent': (abs(y_train - y_train_predict)/y_train*100)})\n",
    "\n",
    "results = summarize_results(y_train, y_train_predicted)\n",
    "print(\"On average, our model has\", round((results['Difference_percent'].mean()), 4), '% error (MAPE)')\n",
    "results.sample(5)"
   ]
  },
  {
   "cell_type": "markdown",
   "id": "1868c3d8",
   "metadata": {},
   "source": [
    "#### Visualizing Predictions vs Actual"
   ]
  },
  {
   "cell_type": "markdown",
   "id": "c782e7bf",
   "metadata": {},
   "source": [
    "The model tends to under-estimate for higher values. This is typical when the target value does not follow a normal distribution. Hence, we should normalize price."
   ]
  },
  {
   "cell_type": "code",
   "execution_count": 100,
   "id": "17500dfa",
   "metadata": {},
   "outputs": [
    {
     "data": {
      "image/png": "[encoded data removed]",
      "text/plain": [
       "<Figure size 432x288 with 1 Axes>"
      ]
     },
     "metadata": {
      "needs_background": "light"
     },
     "output_type": "display_data"
    }
   ],
   "source": [
    "sns.scatterplot(y='Predicted', x='Actual', data=results,\n",
    " color=\"black\", alpha=0.5)\n",
    "plt.axline((0, 0), slope=1, label=\"Perfect fit\")\n",
    "plt.axis('square')\n",
    "plt.title(\"Regression using a model without \\ntarget transformation\")\n",
    "plt.show()"
   ]
  },
  {
   "cell_type": "code",
   "execution_count": 101,
   "id": "383f1649",
   "metadata": {},
   "outputs": [
    {
     "data": {
      "image/png": "[encoded data removed]",
      "text/plain": [
       "<Figure size 432x288 with 1 Axes>"
      ]
     },
     "metadata": {
      "needs_background": "light"
     },
     "output_type": "display_data"
    }
   ],
   "source": [
    "def results_hist(y_train, y_train_predict):\n",
    "    plt.hist(y_train, bins=50)\n",
    "    plt.hist(y_train_predict, bins=50)\n",
    "    plt.show()\n",
    "results_hist(y_train, y_train_predicted)\n"
   ]
  },
  {
   "cell_type": "markdown",
   "id": "b486a45d",
   "metadata": {},
   "source": [
    "#### Scale Target variable"
   ]
  },
  {
   "cell_type": "code",
   "execution_count": null,
   "id": "1ceab052",
   "metadata": {},
   "outputs": [],
   "source": [
    "quantile_transformer = QuantileTransformer(n_quantiles=900, output_distribution=\"normal\")\n",
    "model_transformed_target = TransformedTargetRegressor(regressor=lr_model,\n",
    "                                                      transformer=quantile_transformer)\n",
    "model_transformed_target.fit(X_train, y_train)\n",
    "y_test_predicted = model_transformed_target.predict(X_test)"
   ]
  },
  {
   "cell_type": "markdown",
   "id": "101fe6f3",
   "metadata": {},
   "source": [
    "Check Predictions against test data"
   ]
  },
  {
   "cell_type": "code",
   "execution_count": 107,
   "id": "c6dd86c2",
   "metadata": {},
   "outputs": [
    {
     "data": {
      "text/html": [
       "<div>\n",
       "<style scoped>\n",
       "    .dataframe tbody tr th:only-of-type {\n",
       "        vertical-align: middle;\n",
       "    }\n",
       "\n",
       "    .dataframe tbody tr th {\n",
       "        vertical-align: top;\n",
       "    }\n",
       "\n",
       "    .dataframe thead th {\n",
       "        text-align: right;\n",
       "    }\n",
       "</style>\n",
       "<table border=\"1\" class=\"dataframe\">\n",
       "  <thead>\n",
       "    <tr style=\"text-align: right;\">\n",
       "      <th></th>\n",
       "      <th>Actual</th>\n",
       "      <th>Predicted</th>\n",
       "      <th>Difference</th>\n",
       "      <th>Difference_percent</th>\n",
       "    </tr>\n",
       "  </thead>\n",
       "  <tbody>\n",
       "    <tr>\n",
       "      <th>1318</th>\n",
       "      <td>229900</td>\n",
       "      <td>250746.484970</td>\n",
       "      <td>20846.484970</td>\n",
       "      <td>9.067632</td>\n",
       "    </tr>\n",
       "    <tr>\n",
       "      <th>124</th>\n",
       "      <td>158000</td>\n",
       "      <td>255193.076070</td>\n",
       "      <td>97193.076070</td>\n",
       "      <td>61.514605</td>\n",
       "    </tr>\n",
       "    <tr>\n",
       "      <th>648</th>\n",
       "      <td>367500</td>\n",
       "      <td>277083.516193</td>\n",
       "      <td>90416.483807</td>\n",
       "      <td>24.603125</td>\n",
       "    </tr>\n",
       "    <tr>\n",
       "      <th>249</th>\n",
       "      <td>128850</td>\n",
       "      <td>153062.431144</td>\n",
       "      <td>24212.431144</td>\n",
       "      <td>18.791177</td>\n",
       "    </tr>\n",
       "    <tr>\n",
       "      <th>1599</th>\n",
       "      <td>290000</td>\n",
       "      <td>251272.338639</td>\n",
       "      <td>38727.661361</td>\n",
       "      <td>13.354366</td>\n",
       "    </tr>\n",
       "    <tr>\n",
       "      <th>...</th>\n",
       "      <td>...</td>\n",
       "      <td>...</td>\n",
       "      <td>...</td>\n",
       "      <td>...</td>\n",
       "    </tr>\n",
       "    <tr>\n",
       "      <th>1481</th>\n",
       "      <td>161000</td>\n",
       "      <td>139219.912598</td>\n",
       "      <td>21780.087402</td>\n",
       "      <td>13.528005</td>\n",
       "    </tr>\n",
       "    <tr>\n",
       "      <th>1327</th>\n",
       "      <td>412000</td>\n",
       "      <td>282968.958166</td>\n",
       "      <td>129031.041834</td>\n",
       "      <td>31.318214</td>\n",
       "    </tr>\n",
       "    <tr>\n",
       "      <th>317</th>\n",
       "      <td>215000</td>\n",
       "      <td>251755.417879</td>\n",
       "      <td>36755.417879</td>\n",
       "      <td>17.095543</td>\n",
       "    </tr>\n",
       "    <tr>\n",
       "      <th>142</th>\n",
       "      <td>259900</td>\n",
       "      <td>292648.268457</td>\n",
       "      <td>32748.268457</td>\n",
       "      <td>12.600334</td>\n",
       "    </tr>\n",
       "    <tr>\n",
       "      <th>427</th>\n",
       "      <td>215000</td>\n",
       "      <td>187366.150071</td>\n",
       "      <td>27633.849929</td>\n",
       "      <td>12.852953</td>\n",
       "    </tr>\n",
       "  </tbody>\n",
       "</table>\n",
       "<p>346 rows × 4 columns</p>\n",
       "</div>"
      ],
      "text/plain": [
       "      Actual      Predicted     Difference  Difference_percent\n",
       "1318  229900  250746.484970   20846.484970            9.067632\n",
       "124   158000  255193.076070   97193.076070           61.514605\n",
       "648   367500  277083.516193   90416.483807           24.603125\n",
       "249   128850  153062.431144   24212.431144           18.791177\n",
       "1599  290000  251272.338639   38727.661361           13.354366\n",
       "...      ...            ...            ...                 ...\n",
       "1481  161000  139219.912598   21780.087402           13.528005\n",
       "1327  412000  282968.958166  129031.041834           31.318214\n",
       "317   215000  251755.417879   36755.417879           17.095543\n",
       "142   259900  292648.268457   32748.268457           12.600334\n",
       "427   215000  187366.150071   27633.849929           12.852953\n",
       "\n",
       "[346 rows x 4 columns]"
      ]
     },
     "execution_count": 107,
     "metadata": {},
     "output_type": "execute_result"
    }
   ],
   "source": [
    "y_test_predicted = lr_model.predict(X_test)\n",
    "summarize_results(y_test, y_test_predicted)\n"
   ]
  },
  {
   "cell_type": "code",
   "execution_count": 71,
   "id": "9899825e",
   "metadata": {},
   "outputs": [
    {
     "data": {
      "image/png": "[encoded data removed]",
      "text/plain": [
       "<Figure size 432x288 with 1 Axes>"
      ]
     },
     "metadata": {
      "needs_background": "light"
     },
     "output_type": "display_data"
    }
   ],
   "source": [
    "graph_performance(y_test, y_test_predicted)"
   ]
  },
  {
   "cell_type": "code",
   "execution_count": 72,
   "id": "01ef4e2f",
   "metadata": {},
   "outputs": [
    {
     "data": {
      "image/png": "[encoded data removed]",
      "text/plain": [
       "<Figure size 432x288 with 1 Axes>"
      ]
     },
     "metadata": {
      "needs_background": "light"
     },
     "output_type": "display_data"
    }
   ],
   "source": [
    "results_hist(y_test, y_test_predicted)"
   ]
  },
  {
   "cell_type": "markdown",
   "id": "2448fc69",
   "metadata": {},
   "source": [
    "#### Cross Validation"
   ]
  },
  {
   "cell_type": "markdown",
   "id": "fec35fb0",
   "metadata": {},
   "source": [
    "Estimate the expected level of fit of the model using cross validation."
   ]
  },
  {
   "cell_type": "code",
   "execution_count": 73,
   "id": "d6b7be3d",
   "metadata": {},
   "outputs": [
    {
     "name": "stdout",
     "output_type": "stream",
     "text": [
      "The mean cross-validation RMSE is:  76097.4945 +/- 7388.8188\n"
     ]
    }
   ],
   "source": [
    "cv_results = cross_validate(lr_model, X_train, y_train, \n",
    "                            scoring = 'neg_mean_squared_error', cv = 5)\n",
    "scores = np.sqrt(-cv_results[\"test_score\"])\n",
    "print(\"The mean cross-validation RMSE is: \", f\"{scores.mean():.4f} +/- {scores.std():.4f}\")"
   ]
  },
  {
   "cell_type": "markdown",
   "id": "cf164465",
   "metadata": {},
   "source": [
    "#### Support Vector Regressor"
   ]
  },
  {
   "cell_type": "markdown",
   "id": "71d6d887",
   "metadata": {},
   "source": [
    "Fit our data to a support vector regressor to make predictions. Use RMSE again to evaluate, then cross validate and see how it compares to linear regression."
   ]
  },
  {
   "cell_type": "code",
   "execution_count": 74,
   "id": "6c3d427b",
   "metadata": {},
   "outputs": [
    {
     "name": "stdout",
     "output_type": "stream",
     "text": [
      "RMSE on the training set: 75504.1648\n",
      "The mean cross-validation RMSE is:  76097.4945 +/- 7388.8188\n"
     ]
    }
   ],
   "source": [
    "def fit_predict_evaluate(model, X_train, y_train):\n",
    "    model.fit(X_train, y_train)\n",
    "    y_train_predict = model.predict(X_train)\n",
    "    print(\"RMSE on the training set: %.4f\" % np.sqrt(mean_squared_error(y_train, y_train_predict)))\n",
    "    cv_results = cross_validate(model, X_train, y_train, \n",
    "                                scoring = 'neg_mean_squared_error', cv = 5)\n",
    "    scores = np.sqrt(-cv_results[\"test_score\"])\n",
    "    print(\"The mean cross-validation RMSE is: \", f\"{scores.mean():.4f} +/- {scores.std():.4f}\")\n",
    "    \n",
    "fit_predict_evaluate(lr_model, X_train, y_train)"
   ]
  },
  {
   "cell_type": "code",
   "execution_count": 75,
   "id": "6e85e307",
   "metadata": {},
   "outputs": [
    {
     "name": "stdout",
     "output_type": "stream",
     "text": [
      "RMSE on the training set: 102136.8936\n",
      "The mean cross-validation RMSE is:  101816.9385 +/- 9743.2811\n"
     ]
    }
   ],
   "source": [
    "\n",
    "svm_model = Pipeline([\n",
    " ('preprocessor', preprocessor),\n",
    " ('regressor', SVR())\n",
    "])\n",
    "svm_model.fit(X_train, y_train)\n",
    "y_train_predicted = svm_model.predict(X_train)\n",
    "print(\"RMSE on the training set: %.4f\" % np.sqrt(mean_squared_error(y_train, y_train_predicted)))\n",
    "cv_results = cross_validate(svm_model, X_train, y_train, scoring='neg_mean_squared_error', cv=5)\n",
    "scores = np.sqrt(-cv_results[\"test_score\"])\n",
    "print(\"The mean cross-validation RMSE is: \", f\"{scores.mean():.4f} +/- {scores.std():.4f}\")\n"
   ]
  },
  {
   "cell_type": "code",
   "execution_count": 76,
   "id": "594d364a",
   "metadata": {},
   "outputs": [],
   "source": [
    "\n",
    "param_grid = [\n",
    " {'regressor__C': [1000, 10000, 100000, 1000000],\n",
    " 'regressor__gamma': [0.1, 1, 10, 'scale', 'auto']},\n",
    "]\n",
    "grid_search = GridSearchCV(svm_model, param_grid, cv=5, scoring='neg_mean_squared_error', return_train_score=True)\n",
    "grid_search.fit(X_train, y_train);\n",
    "\n"
   ]
  },
  {
   "cell_type": "code",
   "execution_count": 77,
   "id": "d700d670",
   "metadata": {},
   "outputs": [
    {
     "data": {
      "text/plain": [
       "{'regressor__C': 100000, 'regressor__gamma': 'auto'}"
      ]
     },
     "execution_count": 77,
     "metadata": {},
     "output_type": "execute_result"
    }
   ],
   "source": [
    "grid_search.best_params_"
   ]
  },
  {
   "cell_type": "code",
   "execution_count": 78,
   "id": "facc2162",
   "metadata": {},
   "outputs": [
    {
     "name": "stdout",
     "output_type": "stream",
     "text": [
      "RMSE on the training set: 72659.4359\n"
     ]
    }
   ],
   "source": [
    "y_train_predicted = grid_search.best_estimator_.predict(X_train)\n",
    "print(\"RMSE on the training set: %.4f\" % np.sqrt(mean_squared_error(y_train, y_train_predicted)))\n"
   ]
  },
  {
   "cell_type": "code",
   "execution_count": 79,
   "id": "e02836a5",
   "metadata": {},
   "outputs": [
    {
     "name": "stdout",
     "output_type": "stream",
     "text": [
      "The mean cross-validation RMSE is:  74433.8396 +/- 8772.9318\n"
     ]
    }
   ],
   "source": [
    "cv_results = cross_validate(grid_search.best_estimator_, X_train, y_train,\n",
    "                            scoring='neg_mean_squared_error', cv=5)\n",
    "scores = np.sqrt(-cv_results[\"test_score\"])\n",
    "print(\"The mean cross-validation RMSE is: \", f\"{scores.mean():.4f} +/- {scores.std():.4f}\")"
   ]
  },
  {
   "cell_type": "code",
   "execution_count": 80,
   "id": "7e9bdfc2",
   "metadata": {},
   "outputs": [
    {
     "name": "stdout",
     "output_type": "stream",
     "text": [
      "RMSE of the LinearRegression model on the test set: 70878.4118\n"
     ]
    }
   ],
   "source": [
    "y_test_predicted = lr_model.predict(X_test)\n",
    "print(\"RMSE of the LinearRegression model on the test set: %.4f\" % \n",
    "      np.sqrt(mean_squared_error(y_test, y_test_predicted)))"
   ]
  },
  {
   "cell_type": "code",
   "execution_count": 81,
   "id": "5eb536ce",
   "metadata": {},
   "outputs": [
    {
     "name": "stdout",
     "output_type": "stream",
     "text": [
      "RMSE of the SVR model on the test set: 96356.6634\n"
     ]
    }
   ],
   "source": [
    "y_test_predicted = svm_model.predict(X_test)\n",
    "print(\"RMSE of the SVR model on the test set: %.4f\" % \n",
    "      np.sqrt(mean_squared_error(y_test, y_test_predicted)))\n"
   ]
  },
  {
   "cell_type": "code",
   "execution_count": 82,
   "id": "17abe616",
   "metadata": {},
   "outputs": [
    {
     "name": "stdout",
     "output_type": "stream",
     "text": [
      "RMSE of the optimized SVR model on the test set: 70944.8604\n"
     ]
    }
   ],
   "source": [
    "y_test_predicted = grid_search.best_estimator_.predict(X_test)\n",
    "print(\"RMSE of the optimized SVR model on the test set: %.4f\" % \n",
    "      np.sqrt(mean_squared_error(y_test, y_test_predicted)))"
   ]
  }
 ],
 "metadata": {
  "kernelspec": {
   "display_name": "Python 3.8.8 ('base')",
   "language": "python",
   "name": "python3"
  },
  "language_info": {
   "codemirror_mode": {
    "name": "ipython",
    "version": 3
   },
   "file_extension": ".py",
   "mimetype": "text/x-python",
   "name": "python",
   "nbconvert_exporter": "python",
   "pygments_lexer": "ipython3",
   "version": "3.8.8"
  },
  "vscode": {
   "interpreter": {
    "hash": "5be6d82f33fbdd454d4ace4b29c50ebdb25e4e91ce2dda19fcc0efd5fa1dd36c"
   }
  }
 },
 "nbformat": 4,
 "nbformat_minor": 5
}
